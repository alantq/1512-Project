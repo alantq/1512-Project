{
 "cells": [
  {
   "cell_type": "markdown",
   "metadata": {
    "id": "6WYMfvCNPwpm",
    "tags": []
   },
   "source": [
    "# Project A: Knowledge Distillation for Building Lightweight Deep Learning Models in Visual Classification Tasks"
   ]
  },
  {
   "cell_type": "code",
   "execution_count": 1,
   "metadata": {
    "id": "vA8ppgB2P0aJ"
   },
   "outputs": [
    {
     "name": "stderr",
     "output_type": "stream",
     "text": [
      "/Users/zoe/opt/anaconda3/lib/python3.8/site-packages/scipy/__init__.py:138: UserWarning: A NumPy version >=1.16.5 and <1.23.0 is required for this version of SciPy (detected version 1.23.3)\n",
      "  warnings.warn(f\"A NumPy version >={np_minversion} and <{np_maxversion} is required for this version of \"\n"
     ]
    }
   ],
   "source": [
    "#pip install keras-flops\n",
    "\n",
    "import tensorflow.compat.v2 as tf\n",
    "import tensorflow_datasets as tfds\n",
    "from typing import Union\n",
    "import matplotlib.pyplot as plt\n",
    "from keras_flops import get_flops\n",
    "tf.enable_v2_behavior()\n",
    "\n",
    "builder = tfds.builder('mnist')\n",
    "BATCH_SIZE = 256\n",
    "NUM_EPOCHS = 12\n",
    "NUM_CLASSES = 10  # 10 total classes."
   ]
  },
  {
   "cell_type": "markdown",
   "metadata": {
    "id": "H2EFLQROP2R7"
   },
   "source": [
    "# Data loading"
   ]
  },
  {
   "cell_type": "code",
   "execution_count": 2,
   "metadata": {
    "id": "ynByMG_UP4A4"
   },
   "outputs": [
    {
     "name": "stderr",
     "output_type": "stream",
     "text": [
      "2022-10-27 11:55:27.664264: I tensorflow/core/platform/cpu_feature_guard.cc:142] This TensorFlow binary is optimized with oneAPI Deep Neural Network Library (oneDNN) to use the following CPU instructions in performance-critical operations:  SSE4.1 SSE4.2\n",
      "To enable them in other operations, rebuild TensorFlow with the appropriate compiler flags.\n"
     ]
    }
   ],
   "source": [
    "# Load train and test splits.\n",
    "def preprocess(x):\n",
    "  image = tf.image.convert_image_dtype(x['image'], tf.float32)\n",
    "  subclass_labels = tf.one_hot(x['label'], builder.info.features['label'].num_classes)\n",
    "  return image, subclass_labels\n",
    "\n",
    "\n",
    "mnist_train = tfds.load('mnist', split='train', shuffle_files=False).cache()\n",
    "mnist_train = mnist_train.map(preprocess)\n",
    "mnist_train = mnist_train.shuffle(builder.info.splits['train'].num_examples)\n",
    "mnist_train = mnist_train.batch(BATCH_SIZE, drop_remainder=True)\n",
    "\n",
    "mnist_test = tfds.load('mnist', split='test').cache()\n",
    "mnist_test = mnist_test.map(preprocess).batch(BATCH_SIZE)"
   ]
  },
  {
   "cell_type": "markdown",
   "metadata": {
    "id": "kAZwfvW5P63q"
   },
   "source": [
    "# Model creation"
   ]
  },
  {
   "cell_type": "code",
   "execution_count": 3,
   "metadata": {
    "id": "zINgDkA7P7BP"
   },
   "outputs": [],
   "source": [
    "#@test {\"output\": \"ignore\"}\n",
    "\n",
    "# Build CNN teacher.\n",
    "cnn_model = tf.keras.Sequential()\n",
    "\n",
    "# your code start from here for stpe 2\n",
    "#The shape of MNIST is 28*28*1\n",
    "cnn_model.add(tf.keras.Input(shape = (28,28,1)))\n",
    "cnn_model.add(tf.keras.layers.Conv2D(32, 3, strides = 1, activation = 'relu'))\n",
    "cnn_model.add(tf.keras.layers.MaxPooling2D(pool_size=(2,2),strides = 1))\n",
    "cnn_model.add(tf.keras.layers.Conv2D(64, 3, strides=1, activation = 'relu'))\n",
    "cnn_model.add(tf.keras.layers.MaxPooling2D(pool_size=(2,2),strides = 2))\n",
    "cnn_model.add(tf.keras.layers.Flatten())\n",
    "cnn_model.add(tf.keras.layers.Dropout(0.5))\n",
    "cnn_model.add(tf.keras.layers.Dense(128,activation='relu'))\n",
    "cnn_model.add(tf.keras.layers.Dropout(0.5))\n",
    "cnn_model.add(tf.keras.layers.Dense(10))\n",
    "\n",
    "# Build fully connected student.\n",
    "fc_model = tf.keras.Sequential()\n",
    "\n",
    "\n",
    "# your code start from here for step 2\n",
    "fc_model.add(tf.keras.Input(shape=(28,28,1)))\n",
    "fc_model.add(tf.keras.layers.Flatten())\n",
    "fc_model.add(tf.keras.layers.Dense(784, activation='relu'))\n",
    "fc_model.add(tf.keras.layers.Dense(784, activation='relu'))\n",
    "fc_model.add(tf.keras.layers.Dense(10))\n",
    "\n"
   ]
  },
  {
   "cell_type": "code",
   "execution_count": 4,
   "metadata": {},
   "outputs": [
    {
     "name": "stdout",
     "output_type": "stream",
     "text": [
      "Model: \"sequential\"\n",
      "_________________________________________________________________\n",
      "Layer (type)                 Output Shape              Param #   \n",
      "=================================================================\n",
      "conv2d (Conv2D)              (None, 26, 26, 32)        320       \n",
      "_________________________________________________________________\n",
      "max_pooling2d (MaxPooling2D) (None, 25, 25, 32)        0         \n",
      "_________________________________________________________________\n",
      "conv2d_1 (Conv2D)            (None, 23, 23, 64)        18496     \n",
      "_________________________________________________________________\n",
      "max_pooling2d_1 (MaxPooling2 (None, 11, 11, 64)        0         \n",
      "_________________________________________________________________\n",
      "flatten (Flatten)            (None, 7744)              0         \n",
      "_________________________________________________________________\n",
      "dropout (Dropout)            (None, 7744)              0         \n",
      "_________________________________________________________________\n",
      "dense (Dense)                (None, 128)               991360    \n",
      "_________________________________________________________________\n",
      "dropout_1 (Dropout)          (None, 128)               0         \n",
      "_________________________________________________________________\n",
      "dense_1 (Dense)              (None, 10)                1290      \n",
      "=================================================================\n",
      "Total params: 1,011,466\n",
      "Trainable params: 1,011,466\n",
      "Non-trainable params: 0\n",
      "_________________________________________________________________\n",
      "Model: \"sequential_1\"\n",
      "_________________________________________________________________\n",
      "Layer (type)                 Output Shape              Param #   \n",
      "=================================================================\n",
      "flatten_1 (Flatten)          (None, 784)               0         \n",
      "_________________________________________________________________\n",
      "dense_2 (Dense)              (None, 784)               615440    \n",
      "_________________________________________________________________\n",
      "dense_3 (Dense)              (None, 784)               615440    \n",
      "_________________________________________________________________\n",
      "dense_4 (Dense)              (None, 10)                7850      \n",
      "=================================================================\n",
      "Total params: 1,238,730\n",
      "Trainable params: 1,238,730\n",
      "Non-trainable params: 0\n",
      "_________________________________________________________________\n"
     ]
    }
   ],
   "source": [
    "cnn_model.summary()\n",
    "fc_model.summary()"
   ]
  },
  {
   "cell_type": "markdown",
   "metadata": {
    "id": "8JWGucyrQGav"
   },
   "source": [
    "# Teacher loss function"
   ]
  },
  {
   "cell_type": "code",
   "execution_count": 5,
   "metadata": {
    "id": "DhzBP6ZLQJ57"
   },
   "outputs": [],
   "source": [
    "@tf.function\n",
    "def compute_teacher_loss(images, labels):\n",
    "  \"\"\"Compute subclass knowledge distillation teacher loss for given images\n",
    "     and labels.\n",
    "\n",
    "  Args:\n",
    "    images: Tensor representing a batch of images.\n",
    "    labels: Tensor representing a batch of labels.\n",
    "\n",
    "  Returns:\n",
    "    Scalar loss Tensor.\n",
    "  \"\"\"\n",
    "  subclass_logits = cnn_model(images, training=True)\n",
    "\n",
    "  # Compute cross-entropy loss for subclasses.\n",
    "\n",
    "  # your code start from here for step 3\n",
    "  cross_entropy_loss_value = tf.reduce_mean(\n",
    "      tf.nn.softmax_cross_entropy_with_logits(labels, subclass_logits)\n",
    "  )\n",
    "\n",
    "\n",
    "  return cross_entropy_loss_value"
   ]
  },
  {
   "cell_type": "markdown",
   "metadata": {
    "id": "JS8xkuH0QbOS",
    "tags": []
   },
   "source": [
    "# Student loss function"
   ]
  },
  {
   "cell_type": "code",
   "execution_count": 6,
   "metadata": {
    "id": "lDKia4gPQMIr",
    "tags": []
   },
   "outputs": [],
   "source": [
    "#@test {\"output\": \"ignore\"}\n",
    "\n",
    "# Hyperparameters for distillation (need to be tuned).\n",
    "ALPHA = 0.5 # task balance between cross-entropy and distillation loss\n",
    "DISTILLATION_TEMPERATURE = 4 #temperature hyperparameter\n",
    "\n",
    "def distillation_loss(teacher_logits: tf.Tensor, student_logits: tf.Tensor,\n",
    "                      temperature: Union[float, tf.Tensor]):\n",
    "  \"\"\"Compute distillation loss.\n",
    "\n",
    "  This function computes cross entropy between softened logits and softened\n",
    "  targets. The resulting loss is scaled by the squared temperature so that\n",
    "  the gradient magnitude remains approximately constant as the temperature is\n",
    "  changed. For reference, see Hinton et al., 2014, \"Distilling the knowledge in\n",
    "  a neural network.\"\n",
    "\n",
    "  Args:\n",
    "    teacher_logits: A Tensor of logits provided by the teacher.\n",
    "    student_logits: A Tensor of logits provided by the student, of the same\n",
    "      shape as `teacher_logits`.\n",
    "    temperature: Temperature to use for distillation.\n",
    "\n",
    "  Returns:\n",
    "    A scalar Tensor containing the distillation loss.\n",
    "  \"\"\"\n",
    " # your code start from here for step 3\n",
    "  soft_targets = tf.nn.softmax(teacher_logits / temperature)\n",
    "\n",
    "  return tf.reduce_mean(\n",
    "      tf.nn.softmax_cross_entropy_with_logits(\n",
    "          soft_targets, student_logits / temperature)) * temperature ** 2\n",
    "\n",
    "def compute_student_loss(images, labels):\n",
    "  \"\"\"Compute subclass knowledge distillation student loss for given images\n",
    "     and labels.\n",
    "\n",
    "  Args:\n",
    "    images: Tensor representing a batch of images.\n",
    "    labels: Tensor representing a batch of labels.\n",
    "\n",
    "  Returns:\n",
    "    Scalar loss Tensor.\n",
    "  \"\"\"\n",
    "  student_subclass_logits = fc_model(images, training=True)\n",
    "\n",
    "  # Compute subclass distillation loss between student subclass logits and\n",
    "  # softened teacher subclass targets probabilities.\n",
    "\n",
    "  # your code start from here for step 3\n",
    "\n",
    "  teacher_subclass_logits = cnn_model(images, training=False)\n",
    "  distillation_loss_value = distillation_loss(teacher_subclass_logits, student_subclass_logits, DISTILLATION_TEMPERATURE)\n",
    "\n",
    "  # Compute cross-entropy loss with hard targets.\n",
    "\n",
    "  # your code start from here for step 3\n",
    "  #https://medium.com/analytics-vidhya/knowledge-distillation-in-a-deep-neural-network-c9dd59aff89b\n",
    "  student_loss = tf.reduce_mean(tf.nn.softmax_cross_entropy_with_logits(labels, student_subclass_logits))\n",
    "  cross_entropy_loss_value = ALPHA * student_loss + (1-ALPHA) * distillation_loss_value\n",
    "\n",
    "  return cross_entropy_loss_value"
   ]
  },
  {
   "cell_type": "markdown",
   "metadata": {
    "id": "RJ1uyvurQ3w4"
   },
   "source": [
    "# Train and evaluation"
   ]
  },
  {
   "cell_type": "code",
   "execution_count": 7,
   "metadata": {
    "id": "EtoLbp8uQ4Vl"
   },
   "outputs": [],
   "source": [
    "@tf.function\n",
    "def compute_num_correct(model, images, labels):\n",
    "  \"\"\"Compute number of correctly classified images in a batch.\n",
    "\n",
    "  Args:\n",
    "    model: Instance of tf.keras.Model.\n",
    "    images: Tensor representing a batch of images.\n",
    "    labels: Tensor representing a batch of labels.\n",
    "\n",
    "  Returns:\n",
    "    Number of correctly classified images.\n",
    "  \"\"\"\n",
    "  class_logits = model(images, training=False)\n",
    "  return tf.reduce_sum(\n",
    "      tf.cast(tf.math.equal(tf.argmax(class_logits, -1), tf.argmax(labels, -1)),\n",
    "              tf.float32)), tf.argmax(class_logits, -1), tf.argmax(labels, -1)\n",
    "\n",
    "\n",
    "def train_and_evaluate(model, compute_loss_fn):\n",
    "  \"\"\"Perform training and evaluation for a given model.\n",
    "\n",
    "  Args:\n",
    "    model: Instance of tf.keras.Model.\n",
    "    compute_loss_fn: A function that computes the training loss given the\n",
    "      images, and labels.\n",
    "  \"\"\"\n",
    "\n",
    "  # your code start from here for step 4\n",
    "  #as specified in the assignment, optimizer is Adam, learning rate is 0.001 for all models\n",
    "  optimizer = tf.keras.optimizers.Adam(learning_rate = 0.001)\n",
    "\n",
    "  for epoch in range(1, NUM_EPOCHS + 1):\n",
    "    # Run training.\n",
    "    print('Epoch {}: '.format(epoch), end='')\n",
    "    for images, labels in mnist_train:\n",
    "      with tf.GradientTape() as tape:\n",
    "         # your code start from here for step 4\n",
    "\n",
    "        loss_value = compute_loss_fn(images, labels)\n",
    "\n",
    "      grads = tape.gradient(loss_value, model.trainable_variables)\n",
    "      optimizer.apply_gradients(zip(grads, model.trainable_variables))\n",
    "\n",
    "    # Run evaluation.\n",
    "    num_correct = 0\n",
    "    num_total = builder.info.splits['test'].num_examples\n",
    "    for images, labels in mnist_test:\n",
    "      # your code start from here for step 4\n",
    "      val1, val2, val3 = compute_num_correct(model,images,labels)\n",
    "      num_correct += val1\n",
    "    print(\"Class_accuracy: \" + '{:.2f}%'.format(\n",
    "        num_correct / num_total * 100))\n"
   ]
  },
  {
   "cell_type": "markdown",
   "metadata": {
    "id": "NQL1lJdaRPT1"
   },
   "source": [
    "# Training models"
   ]
  },
  {
   "cell_type": "code",
   "execution_count": 8,
   "metadata": {
    "id": "-AGHbyABRPz3"
   },
   "outputs": [
    {
     "name": "stderr",
     "output_type": "stream",
     "text": [
      "2022-10-27 11:55:27.821708: I tensorflow/compiler/mlir/mlir_graph_optimization_pass.cc:116] None of the MLIR optimization passes are enabled (registered 2)\n"
     ]
    },
    {
     "name": "stdout",
     "output_type": "stream",
     "text": [
      "Teacher Model\n",
      "Epoch 1: Class_accuracy: 98.04%\n",
      "Epoch 2: "
     ]
    },
    {
     "ename": "KeyboardInterrupt",
     "evalue": "",
     "output_type": "error",
     "traceback": [
      "\u001b[0;31m---------------------------------------------------------------------------\u001b[0m",
      "\u001b[0;31mKeyboardInterrupt\u001b[0m                         Traceback (most recent call last)",
      "Input \u001b[0;32mIn [8]\u001b[0m, in \u001b[0;36m<cell line: 5>\u001b[0;34m()\u001b[0m\n\u001b[1;32m      3\u001b[0m \u001b[38;5;28mprint\u001b[39m(\u001b[38;5;124m\"\u001b[39m\u001b[38;5;124mTeacher Model\u001b[39m\u001b[38;5;124m\"\u001b[39m)\n\u001b[1;32m      4\u001b[0m \u001b[38;5;66;03m#train and evaluate the teacher model\u001b[39;00m\n\u001b[0;32m----> 5\u001b[0m \u001b[43mtrain_and_evaluate\u001b[49m\u001b[43m(\u001b[49m\u001b[43mcnn_model\u001b[49m\u001b[43m,\u001b[49m\u001b[43m \u001b[49m\u001b[43mcompute_teacher_loss\u001b[49m\u001b[43m)\u001b[49m\n\u001b[1;32m      7\u001b[0m \u001b[38;5;28mprint\u001b[39m(\u001b[38;5;124m\"\u001b[39m\u001b[38;5;124mStudent Model\u001b[39m\u001b[38;5;124m\"\u001b[39m)\n\u001b[1;32m      8\u001b[0m \u001b[38;5;66;03m#train and evaluate the student model\u001b[39;00m\n",
      "Input \u001b[0;32mIn [7]\u001b[0m, in \u001b[0;36mtrain_and_evaluate\u001b[0;34m(model, compute_loss_fn)\u001b[0m\n\u001b[1;32m     36\u001b[0m   \u001b[38;5;28;01mwith\u001b[39;00m tf\u001b[38;5;241m.\u001b[39mGradientTape() \u001b[38;5;28;01mas\u001b[39;00m tape:\n\u001b[1;32m     37\u001b[0m      \u001b[38;5;66;03m# your code start from here for step 4\u001b[39;00m\n\u001b[1;32m     39\u001b[0m     loss_value \u001b[38;5;241m=\u001b[39m compute_loss_fn(images, labels)\n\u001b[0;32m---> 41\u001b[0m   grads \u001b[38;5;241m=\u001b[39m \u001b[43mtape\u001b[49m\u001b[38;5;241;43m.\u001b[39;49m\u001b[43mgradient\u001b[49m\u001b[43m(\u001b[49m\u001b[43mloss_value\u001b[49m\u001b[43m,\u001b[49m\u001b[43m \u001b[49m\u001b[43mmodel\u001b[49m\u001b[38;5;241;43m.\u001b[39;49m\u001b[43mtrainable_variables\u001b[49m\u001b[43m)\u001b[49m\n\u001b[1;32m     42\u001b[0m   optimizer\u001b[38;5;241m.\u001b[39mapply_gradients(\u001b[38;5;28mzip\u001b[39m(grads, model\u001b[38;5;241m.\u001b[39mtrainable_variables))\n\u001b[1;32m     44\u001b[0m \u001b[38;5;66;03m# Run evaluation.\u001b[39;00m\n",
      "File \u001b[0;32m~/opt/anaconda3/lib/python3.8/site-packages/tensorflow/python/eager/backprop.py:1080\u001b[0m, in \u001b[0;36mGradientTape.gradient\u001b[0;34m(self, target, sources, output_gradients, unconnected_gradients)\u001b[0m\n\u001b[1;32m   1076\u001b[0m \u001b[38;5;28;01mif\u001b[39;00m output_gradients \u001b[38;5;129;01mis\u001b[39;00m \u001b[38;5;129;01mnot\u001b[39;00m \u001b[38;5;28;01mNone\u001b[39;00m:\n\u001b[1;32m   1077\u001b[0m   output_gradients \u001b[38;5;241m=\u001b[39m [\u001b[38;5;28;01mNone\u001b[39;00m \u001b[38;5;28;01mif\u001b[39;00m x \u001b[38;5;129;01mis\u001b[39;00m \u001b[38;5;28;01mNone\u001b[39;00m \u001b[38;5;28;01melse\u001b[39;00m ops\u001b[38;5;241m.\u001b[39mconvert_to_tensor(x)\n\u001b[1;32m   1078\u001b[0m                       \u001b[38;5;28;01mfor\u001b[39;00m x \u001b[38;5;129;01min\u001b[39;00m nest\u001b[38;5;241m.\u001b[39mflatten(output_gradients)]\n\u001b[0;32m-> 1080\u001b[0m flat_grad \u001b[38;5;241m=\u001b[39m \u001b[43mimperative_grad\u001b[49m\u001b[38;5;241;43m.\u001b[39;49m\u001b[43mimperative_grad\u001b[49m\u001b[43m(\u001b[49m\n\u001b[1;32m   1081\u001b[0m \u001b[43m    \u001b[49m\u001b[38;5;28;43mself\u001b[39;49m\u001b[38;5;241;43m.\u001b[39;49m\u001b[43m_tape\u001b[49m\u001b[43m,\u001b[49m\n\u001b[1;32m   1082\u001b[0m \u001b[43m    \u001b[49m\u001b[43mflat_targets\u001b[49m\u001b[43m,\u001b[49m\n\u001b[1;32m   1083\u001b[0m \u001b[43m    \u001b[49m\u001b[43mflat_sources\u001b[49m\u001b[43m,\u001b[49m\n\u001b[1;32m   1084\u001b[0m \u001b[43m    \u001b[49m\u001b[43moutput_gradients\u001b[49m\u001b[38;5;241;43m=\u001b[39;49m\u001b[43moutput_gradients\u001b[49m\u001b[43m,\u001b[49m\n\u001b[1;32m   1085\u001b[0m \u001b[43m    \u001b[49m\u001b[43msources_raw\u001b[49m\u001b[38;5;241;43m=\u001b[39;49m\u001b[43mflat_sources_raw\u001b[49m\u001b[43m,\u001b[49m\n\u001b[1;32m   1086\u001b[0m \u001b[43m    \u001b[49m\u001b[43munconnected_gradients\u001b[49m\u001b[38;5;241;43m=\u001b[39;49m\u001b[43munconnected_gradients\u001b[49m\u001b[43m)\u001b[49m\n\u001b[1;32m   1088\u001b[0m \u001b[38;5;28;01mif\u001b[39;00m \u001b[38;5;129;01mnot\u001b[39;00m \u001b[38;5;28mself\u001b[39m\u001b[38;5;241m.\u001b[39m_persistent:\n\u001b[1;32m   1089\u001b[0m   \u001b[38;5;66;03m# Keep track of watched variables before setting tape to None\u001b[39;00m\n\u001b[1;32m   1090\u001b[0m   \u001b[38;5;28mself\u001b[39m\u001b[38;5;241m.\u001b[39m_watched_variables \u001b[38;5;241m=\u001b[39m \u001b[38;5;28mself\u001b[39m\u001b[38;5;241m.\u001b[39m_tape\u001b[38;5;241m.\u001b[39mwatched_variables()\n",
      "File \u001b[0;32m~/opt/anaconda3/lib/python3.8/site-packages/tensorflow/python/eager/imperative_grad.py:71\u001b[0m, in \u001b[0;36mimperative_grad\u001b[0;34m(tape, target, sources, output_gradients, sources_raw, unconnected_gradients)\u001b[0m\n\u001b[1;32m     67\u001b[0m \u001b[38;5;28;01mexcept\u001b[39;00m \u001b[38;5;167;01mValueError\u001b[39;00m:\n\u001b[1;32m     68\u001b[0m   \u001b[38;5;28;01mraise\u001b[39;00m \u001b[38;5;167;01mValueError\u001b[39;00m(\n\u001b[1;32m     69\u001b[0m       \u001b[38;5;124m\"\u001b[39m\u001b[38;5;124mUnknown value for unconnected_gradients: \u001b[39m\u001b[38;5;132;01m%r\u001b[39;00m\u001b[38;5;124m\"\u001b[39m \u001b[38;5;241m%\u001b[39m unconnected_gradients)\n\u001b[0;32m---> 71\u001b[0m \u001b[38;5;28;01mreturn\u001b[39;00m \u001b[43mpywrap_tfe\u001b[49m\u001b[38;5;241;43m.\u001b[39;49m\u001b[43mTFE_Py_TapeGradient\u001b[49m\u001b[43m(\u001b[49m\n\u001b[1;32m     72\u001b[0m \u001b[43m    \u001b[49m\u001b[43mtape\u001b[49m\u001b[38;5;241;43m.\u001b[39;49m\u001b[43m_tape\u001b[49m\u001b[43m,\u001b[49m\u001b[43m  \u001b[49m\u001b[38;5;66;43;03m# pylint: disable=protected-access\u001b[39;49;00m\n\u001b[1;32m     73\u001b[0m \u001b[43m    \u001b[49m\u001b[43mtarget\u001b[49m\u001b[43m,\u001b[49m\n\u001b[1;32m     74\u001b[0m \u001b[43m    \u001b[49m\u001b[43msources\u001b[49m\u001b[43m,\u001b[49m\n\u001b[1;32m     75\u001b[0m \u001b[43m    \u001b[49m\u001b[43moutput_gradients\u001b[49m\u001b[43m,\u001b[49m\n\u001b[1;32m     76\u001b[0m \u001b[43m    \u001b[49m\u001b[43msources_raw\u001b[49m\u001b[43m,\u001b[49m\n\u001b[1;32m     77\u001b[0m \u001b[43m    \u001b[49m\u001b[43mcompat\u001b[49m\u001b[38;5;241;43m.\u001b[39;49m\u001b[43mas_str\u001b[49m\u001b[43m(\u001b[49m\u001b[43munconnected_gradients\u001b[49m\u001b[38;5;241;43m.\u001b[39;49m\u001b[43mvalue\u001b[49m\u001b[43m)\u001b[49m\u001b[43m)\u001b[49m\n",
      "File \u001b[0;32m~/opt/anaconda3/lib/python3.8/site-packages/tensorflow/python/eager/function.py:1283\u001b[0m, in \u001b[0;36m_TapeGradientFunctions._wrap_backward_function.<locals>._backward_function_wrapper\u001b[0;34m(*args)\u001b[0m\n\u001b[1;32m   1281\u001b[0m   \u001b[38;5;28;01mif\u001b[39;00m input_index \u001b[38;5;241m>\u001b[39m\u001b[38;5;241m=\u001b[39m backward_function_inputs:\n\u001b[1;32m   1282\u001b[0m     \u001b[38;5;28;01mbreak\u001b[39;00m\n\u001b[0;32m-> 1283\u001b[0m \u001b[38;5;28;01mreturn\u001b[39;00m \u001b[43mbackward\u001b[49m\u001b[38;5;241;43m.\u001b[39;49m\u001b[43m_call_flat\u001b[49m\u001b[43m(\u001b[49m\u001b[43m  \u001b[49m\u001b[38;5;66;43;03m# pylint: disable=protected-access\u001b[39;49;00m\n\u001b[1;32m   1284\u001b[0m \u001b[43m    \u001b[49m\u001b[43mprocessed_args\u001b[49m\u001b[43m,\u001b[49m\u001b[43m \u001b[49m\u001b[43mremapped_captures\u001b[49m\u001b[43m)\u001b[49m\n",
      "File \u001b[0;32m~/opt/anaconda3/lib/python3.8/site-packages/tensorflow/python/eager/function.py:1918\u001b[0m, in \u001b[0;36mConcreteFunction._call_flat\u001b[0;34m(self, args, captured_inputs, cancellation_manager)\u001b[0m\n\u001b[1;32m   1914\u001b[0m possible_gradient_type \u001b[38;5;241m=\u001b[39m gradients_util\u001b[38;5;241m.\u001b[39mPossibleTapeGradientTypes(args)\n\u001b[1;32m   1915\u001b[0m \u001b[38;5;28;01mif\u001b[39;00m (possible_gradient_type \u001b[38;5;241m==\u001b[39m gradients_util\u001b[38;5;241m.\u001b[39mPOSSIBLE_GRADIENT_TYPES_NONE\n\u001b[1;32m   1916\u001b[0m     \u001b[38;5;129;01mand\u001b[39;00m executing_eagerly):\n\u001b[1;32m   1917\u001b[0m   \u001b[38;5;66;03m# No tape is watching; skip to running the function.\u001b[39;00m\n\u001b[0;32m-> 1918\u001b[0m   \u001b[38;5;28;01mreturn\u001b[39;00m \u001b[38;5;28mself\u001b[39m\u001b[38;5;241m.\u001b[39m_build_call_outputs(\u001b[38;5;28;43mself\u001b[39;49m\u001b[38;5;241;43m.\u001b[39;49m\u001b[43m_inference_function\u001b[49m\u001b[38;5;241;43m.\u001b[39;49m\u001b[43mcall\u001b[49m\u001b[43m(\u001b[49m\n\u001b[1;32m   1919\u001b[0m \u001b[43m      \u001b[49m\u001b[43mctx\u001b[49m\u001b[43m,\u001b[49m\u001b[43m \u001b[49m\u001b[43margs\u001b[49m\u001b[43m,\u001b[49m\u001b[43m \u001b[49m\u001b[43mcancellation_manager\u001b[49m\u001b[38;5;241;43m=\u001b[39;49m\u001b[43mcancellation_manager\u001b[49m\u001b[43m)\u001b[49m)\n\u001b[1;32m   1920\u001b[0m forward_backward \u001b[38;5;241m=\u001b[39m \u001b[38;5;28mself\u001b[39m\u001b[38;5;241m.\u001b[39m_select_forward_and_backward_functions(\n\u001b[1;32m   1921\u001b[0m     args,\n\u001b[1;32m   1922\u001b[0m     possible_gradient_type,\n\u001b[1;32m   1923\u001b[0m     executing_eagerly)\n\u001b[1;32m   1924\u001b[0m forward_function, args_with_tangents \u001b[38;5;241m=\u001b[39m forward_backward\u001b[38;5;241m.\u001b[39mforward()\n",
      "File \u001b[0;32m~/opt/anaconda3/lib/python3.8/site-packages/tensorflow/python/eager/function.py:555\u001b[0m, in \u001b[0;36m_EagerDefinedFunction.call\u001b[0;34m(self, ctx, args, cancellation_manager)\u001b[0m\n\u001b[1;32m    553\u001b[0m \u001b[38;5;28;01mwith\u001b[39;00m _InterpolateFunctionError(\u001b[38;5;28mself\u001b[39m):\n\u001b[1;32m    554\u001b[0m   \u001b[38;5;28;01mif\u001b[39;00m cancellation_manager \u001b[38;5;129;01mis\u001b[39;00m \u001b[38;5;28;01mNone\u001b[39;00m:\n\u001b[0;32m--> 555\u001b[0m     outputs \u001b[38;5;241m=\u001b[39m \u001b[43mexecute\u001b[49m\u001b[38;5;241;43m.\u001b[39;49m\u001b[43mexecute\u001b[49m\u001b[43m(\u001b[49m\n\u001b[1;32m    556\u001b[0m \u001b[43m        \u001b[49m\u001b[38;5;28;43mstr\u001b[39;49m\u001b[43m(\u001b[49m\u001b[38;5;28;43mself\u001b[39;49m\u001b[38;5;241;43m.\u001b[39;49m\u001b[43msignature\u001b[49m\u001b[38;5;241;43m.\u001b[39;49m\u001b[43mname\u001b[49m\u001b[43m)\u001b[49m\u001b[43m,\u001b[49m\n\u001b[1;32m    557\u001b[0m \u001b[43m        \u001b[49m\u001b[43mnum_outputs\u001b[49m\u001b[38;5;241;43m=\u001b[39;49m\u001b[38;5;28;43mself\u001b[39;49m\u001b[38;5;241;43m.\u001b[39;49m\u001b[43m_num_outputs\u001b[49m\u001b[43m,\u001b[49m\n\u001b[1;32m    558\u001b[0m \u001b[43m        \u001b[49m\u001b[43minputs\u001b[49m\u001b[38;5;241;43m=\u001b[39;49m\u001b[43margs\u001b[49m\u001b[43m,\u001b[49m\n\u001b[1;32m    559\u001b[0m \u001b[43m        \u001b[49m\u001b[43mattrs\u001b[49m\u001b[38;5;241;43m=\u001b[39;49m\u001b[43mattrs\u001b[49m\u001b[43m,\u001b[49m\n\u001b[1;32m    560\u001b[0m \u001b[43m        \u001b[49m\u001b[43mctx\u001b[49m\u001b[38;5;241;43m=\u001b[39;49m\u001b[43mctx\u001b[49m\u001b[43m)\u001b[49m\n\u001b[1;32m    561\u001b[0m   \u001b[38;5;28;01melse\u001b[39;00m:\n\u001b[1;32m    562\u001b[0m     outputs \u001b[38;5;241m=\u001b[39m execute\u001b[38;5;241m.\u001b[39mexecute_with_cancellation(\n\u001b[1;32m    563\u001b[0m         \u001b[38;5;28mstr\u001b[39m(\u001b[38;5;28mself\u001b[39m\u001b[38;5;241m.\u001b[39msignature\u001b[38;5;241m.\u001b[39mname),\n\u001b[1;32m    564\u001b[0m         num_outputs\u001b[38;5;241m=\u001b[39m\u001b[38;5;28mself\u001b[39m\u001b[38;5;241m.\u001b[39m_num_outputs,\n\u001b[0;32m   (...)\u001b[0m\n\u001b[1;32m    567\u001b[0m         ctx\u001b[38;5;241m=\u001b[39mctx,\n\u001b[1;32m    568\u001b[0m         cancellation_manager\u001b[38;5;241m=\u001b[39mcancellation_manager)\n",
      "File \u001b[0;32m~/opt/anaconda3/lib/python3.8/site-packages/tensorflow/python/eager/execute.py:59\u001b[0m, in \u001b[0;36mquick_execute\u001b[0;34m(op_name, num_outputs, inputs, attrs, ctx, name)\u001b[0m\n\u001b[1;32m     57\u001b[0m \u001b[38;5;28;01mtry\u001b[39;00m:\n\u001b[1;32m     58\u001b[0m   ctx\u001b[38;5;241m.\u001b[39mensure_initialized()\n\u001b[0;32m---> 59\u001b[0m   tensors \u001b[38;5;241m=\u001b[39m \u001b[43mpywrap_tfe\u001b[49m\u001b[38;5;241;43m.\u001b[39;49m\u001b[43mTFE_Py_Execute\u001b[49m\u001b[43m(\u001b[49m\u001b[43mctx\u001b[49m\u001b[38;5;241;43m.\u001b[39;49m\u001b[43m_handle\u001b[49m\u001b[43m,\u001b[49m\u001b[43m \u001b[49m\u001b[43mdevice_name\u001b[49m\u001b[43m,\u001b[49m\u001b[43m \u001b[49m\u001b[43mop_name\u001b[49m\u001b[43m,\u001b[49m\n\u001b[1;32m     60\u001b[0m \u001b[43m                                      \u001b[49m\u001b[43minputs\u001b[49m\u001b[43m,\u001b[49m\u001b[43m \u001b[49m\u001b[43mattrs\u001b[49m\u001b[43m,\u001b[49m\u001b[43m \u001b[49m\u001b[43mnum_outputs\u001b[49m\u001b[43m)\u001b[49m\n\u001b[1;32m     61\u001b[0m \u001b[38;5;28;01mexcept\u001b[39;00m core\u001b[38;5;241m.\u001b[39m_NotOkStatusException \u001b[38;5;28;01mas\u001b[39;00m e:\n\u001b[1;32m     62\u001b[0m   \u001b[38;5;28;01mif\u001b[39;00m name \u001b[38;5;129;01mis\u001b[39;00m \u001b[38;5;129;01mnot\u001b[39;00m \u001b[38;5;28;01mNone\u001b[39;00m:\n",
      "\u001b[0;31mKeyboardInterrupt\u001b[0m: "
     ]
    }
   ],
   "source": [
    "# your code start from here for step 5 \n",
    "\n",
    "print(\"Teacher Model\")\n",
    "#train and evaluate the teacher model\n",
    "train_and_evaluate(cnn_model, compute_teacher_loss)\n",
    "\n",
    "print(\"Student Model\")\n",
    "#train and evaluate the student model\n",
    "train_and_evaluate(fc_model, compute_student_loss)"
   ]
  },
  {
   "cell_type": "code",
   "execution_count": 9,
   "metadata": {},
   "outputs": [
    {
     "name": "stdout",
     "output_type": "stream",
     "text": [
      "[1, 2, 3, 4, 5, 6, 7, 8, 9, 10, 11, 12]\n",
      "Epoch 1: Epoch 2: Epoch 3: Epoch 4: Epoch 5: Epoch 6: Epoch 7: Epoch 8: Epoch 9: Epoch 10: Epoch 11: Epoch 12: [<tf.Tensor: shape=(), dtype=float32, numpy=96.73>, <tf.Tensor: shape=(), dtype=float32, numpy=97.39>, <tf.Tensor: shape=(), dtype=float32, numpy=97.64>, <tf.Tensor: shape=(), dtype=float32, numpy=97.67>, <tf.Tensor: shape=(), dtype=float32, numpy=97.71>, <tf.Tensor: shape=(), dtype=float32, numpy=97.81>, <tf.Tensor: shape=(), dtype=float32, numpy=97.78>, <tf.Tensor: shape=(), dtype=float32, numpy=97.93>, <tf.Tensor: shape=(), dtype=float32, numpy=97.88>, <tf.Tensor: shape=(), dtype=float32, numpy=97.86>, <tf.Tensor: shape=(), dtype=float32, numpy=97.93>, <tf.Tensor: shape=(), dtype=float32, numpy=97.939995>]\n",
      "tf.Tensor([12], shape=(1,), dtype=int32)\n",
      "tf.Tensor([12], shape=(1,), dtype=int32)\n",
      "Epoch 1: Epoch 2: Epoch 3: Epoch 4: Epoch 5: Epoch 6: Epoch 7: Epoch 8: Epoch 9: Epoch 10: Epoch 11: Epoch 12: [<tf.Tensor: shape=(), dtype=float32, numpy=97.979996>, <tf.Tensor: shape=(), dtype=float32, numpy=97.96>, <tf.Tensor: shape=(), dtype=float32, numpy=97.99>, <tf.Tensor: shape=(), dtype=float32, numpy=97.97>, <tf.Tensor: shape=(), dtype=float32, numpy=97.95>, <tf.Tensor: shape=(), dtype=float32, numpy=98.049995>, <tf.Tensor: shape=(), dtype=float32, numpy=98.06>, <tf.Tensor: shape=(), dtype=float32, numpy=98.07>, <tf.Tensor: shape=(), dtype=float32, numpy=98.009995>, <tf.Tensor: shape=(), dtype=float32, numpy=98.03>, <tf.Tensor: shape=(), dtype=float32, numpy=98.1>, <tf.Tensor: shape=(), dtype=float32, numpy=98.15>]\n",
      "tf.Tensor([12], shape=(1,), dtype=int32)\n",
      "tf.Tensor([12], shape=(1,), dtype=int32)\n",
      "Epoch 1: Epoch 2: Epoch 3: Epoch 4: Epoch 5: Epoch 6: Epoch 7: Epoch 8: Epoch 9: Epoch 10: Epoch 11: Epoch 12: [<tf.Tensor: shape=(), dtype=float32, numpy=98.06>, <tf.Tensor: shape=(), dtype=float32, numpy=98.07>, <tf.Tensor: shape=(), dtype=float32, numpy=98.09>, <tf.Tensor: shape=(), dtype=float32, numpy=98.14>, <tf.Tensor: shape=(), dtype=float32, numpy=98.13>, <tf.Tensor: shape=(), dtype=float32, numpy=98.13>, <tf.Tensor: shape=(), dtype=float32, numpy=98.07>, <tf.Tensor: shape=(), dtype=float32, numpy=98.049995>, <tf.Tensor: shape=(), dtype=float32, numpy=98.18>, <tf.Tensor: shape=(), dtype=float32, numpy=98.09>, <tf.Tensor: shape=(), dtype=float32, numpy=98.09>, <tf.Tensor: shape=(), dtype=float32, numpy=98.15>]\n",
      "tf.Tensor([12], shape=(1,), dtype=int32)\n",
      "tf.Tensor([12], shape=(1,), dtype=int32)\n",
      "Epoch 1: Epoch 2: Epoch 3: Epoch 4: Epoch 5: Epoch 6: Epoch 7: Epoch 8: Epoch 9: Epoch 10: Epoch 11: Epoch 12: [<tf.Tensor: shape=(), dtype=float32, numpy=98.15>, <tf.Tensor: shape=(), dtype=float32, numpy=98.1>, <tf.Tensor: shape=(), dtype=float32, numpy=98.159996>, <tf.Tensor: shape=(), dtype=float32, numpy=98.119995>, <tf.Tensor: shape=(), dtype=float32, numpy=98.14>, <tf.Tensor: shape=(), dtype=float32, numpy=98.119995>, <tf.Tensor: shape=(), dtype=float32, numpy=98.259995>, <tf.Tensor: shape=(), dtype=float32, numpy=98.259995>, <tf.Tensor: shape=(), dtype=float32, numpy=98.21>, <tf.Tensor: shape=(), dtype=float32, numpy=98.14>, <tf.Tensor: shape=(), dtype=float32, numpy=98.24>, <tf.Tensor: shape=(), dtype=float32, numpy=98.079994>]\n",
      "tf.Tensor([12], shape=(1,), dtype=int32)\n",
      "tf.Tensor([12], shape=(1,), dtype=int32)\n",
      "Epoch 1: Epoch 2: Epoch 3: Epoch 4: Epoch 5: Epoch 6: Epoch 7: Epoch 8: Epoch 9: Epoch 10: Epoch 11: Epoch 12: [<tf.Tensor: shape=(), dtype=float32, numpy=98.2>, <tf.Tensor: shape=(), dtype=float32, numpy=98.229996>, <tf.Tensor: shape=(), dtype=float32, numpy=98.17>, <tf.Tensor: shape=(), dtype=float32, numpy=98.2>, <tf.Tensor: shape=(), dtype=float32, numpy=98.229996>, <tf.Tensor: shape=(), dtype=float32, numpy=98.159996>, <tf.Tensor: shape=(), dtype=float32, numpy=98.27>, <tf.Tensor: shape=(), dtype=float32, numpy=98.24>, <tf.Tensor: shape=(), dtype=float32, numpy=98.259995>, <tf.Tensor: shape=(), dtype=float32, numpy=98.07>, <tf.Tensor: shape=(), dtype=float32, numpy=98.22>, <tf.Tensor: shape=(), dtype=float32, numpy=98.17>]\n",
      "tf.Tensor([12], shape=(1,), dtype=int32)\n",
      "tf.Tensor([12], shape=(1,), dtype=int32)\n",
      "Epoch 1: Epoch 2: Epoch 3: Epoch 4: Epoch 5: Epoch 6: Epoch 7: Epoch 8: Epoch 9: Epoch 10: Epoch 11: Epoch 12: [<tf.Tensor: shape=(), dtype=float32, numpy=98.27>, <tf.Tensor: shape=(), dtype=float32, numpy=98.17>, <tf.Tensor: shape=(), dtype=float32, numpy=98.27>, <tf.Tensor: shape=(), dtype=float32, numpy=98.21>, <tf.Tensor: shape=(), dtype=float32, numpy=98.22>, <tf.Tensor: shape=(), dtype=float32, numpy=98.22>, <tf.Tensor: shape=(), dtype=float32, numpy=98.29>, <tf.Tensor: shape=(), dtype=float32, numpy=98.159996>, <tf.Tensor: shape=(), dtype=float32, numpy=98.21>, <tf.Tensor: shape=(), dtype=float32, numpy=98.229996>, <tf.Tensor: shape=(), dtype=float32, numpy=98.28>, <tf.Tensor: shape=(), dtype=float32, numpy=98.229996>]\n",
      "tf.Tensor([12], shape=(1,), dtype=int32)\n",
      "tf.Tensor([12], shape=(1,), dtype=int32)\n",
      "Epoch 1: Epoch 2: Epoch 3: Epoch 4: Epoch 5: Epoch 6: Epoch 7: Epoch 8: Epoch 9: Epoch 10: Epoch 11: Epoch 12: [<tf.Tensor: shape=(), dtype=float32, numpy=98.36>, <tf.Tensor: shape=(), dtype=float32, numpy=98.25>, <tf.Tensor: shape=(), dtype=float32, numpy=98.25>, <tf.Tensor: shape=(), dtype=float32, numpy=98.32>, <tf.Tensor: shape=(), dtype=float32, numpy=98.369995>, <tf.Tensor: shape=(), dtype=float32, numpy=98.27>, <tf.Tensor: shape=(), dtype=float32, numpy=98.299995>, <tf.Tensor: shape=(), dtype=float32, numpy=98.259995>, <tf.Tensor: shape=(), dtype=float32, numpy=98.21>, <tf.Tensor: shape=(), dtype=float32, numpy=98.259995>, <tf.Tensor: shape=(), dtype=float32, numpy=98.28>, <tf.Tensor: shape=(), dtype=float32, numpy=98.259995>]\n",
      "tf.Tensor([12], shape=(1,), dtype=int32)\n",
      "tf.Tensor([12], shape=(1,), dtype=int32)\n",
      "Epoch 1: Epoch 2: Epoch 3: Epoch 4: Epoch 5: Epoch 6: Epoch 7: Epoch 8: Epoch 9: Epoch 10: Epoch 11: Epoch 12: [<tf.Tensor: shape=(), dtype=float32, numpy=98.32>, <tf.Tensor: shape=(), dtype=float32, numpy=98.32>, <tf.Tensor: shape=(), dtype=float32, numpy=98.31>, <tf.Tensor: shape=(), dtype=float32, numpy=98.369995>, <tf.Tensor: shape=(), dtype=float32, numpy=98.34>, <tf.Tensor: shape=(), dtype=float32, numpy=98.34>, <tf.Tensor: shape=(), dtype=float32, numpy=98.329994>, <tf.Tensor: shape=(), dtype=float32, numpy=98.31>, <tf.Tensor: shape=(), dtype=float32, numpy=98.35>, <tf.Tensor: shape=(), dtype=float32, numpy=98.38>, <tf.Tensor: shape=(), dtype=float32, numpy=98.35>, <tf.Tensor: shape=(), dtype=float32, numpy=98.259995>]\n",
      "tf.Tensor([12], shape=(1,), dtype=int32)\n",
      "tf.Tensor([12], shape=(1,), dtype=int32)\n",
      "Epoch 1: Epoch 2: Epoch 3: Epoch 4: Epoch 5: Epoch 6: Epoch 7: Epoch 8: Epoch 9: Epoch 10: Epoch 11: Epoch 12: [<tf.Tensor: shape=(), dtype=float32, numpy=98.38>, <tf.Tensor: shape=(), dtype=float32, numpy=98.329994>, <tf.Tensor: shape=(), dtype=float32, numpy=98.34>, <tf.Tensor: shape=(), dtype=float32, numpy=98.329994>, <tf.Tensor: shape=(), dtype=float32, numpy=98.259995>, <tf.Tensor: shape=(), dtype=float32, numpy=98.369995>, <tf.Tensor: shape=(), dtype=float32, numpy=98.369995>, <tf.Tensor: shape=(), dtype=float32, numpy=98.32>, <tf.Tensor: shape=(), dtype=float32, numpy=98.32>, <tf.Tensor: shape=(), dtype=float32, numpy=98.32>, <tf.Tensor: shape=(), dtype=float32, numpy=98.38>, <tf.Tensor: shape=(), dtype=float32, numpy=98.29>]\n",
      "tf.Tensor([12], shape=(1,), dtype=int32)\n",
      "tf.Tensor([12], shape=(1,), dtype=int32)\n",
      "Epoch 1: Epoch 2: Epoch 3: Epoch 4: Epoch 5: Epoch 6: Epoch 7: Epoch 8: Epoch 9: Epoch 10: Epoch 11: Epoch 12: [<tf.Tensor: shape=(), dtype=float32, numpy=98.329994>, <tf.Tensor: shape=(), dtype=float32, numpy=98.36>, <tf.Tensor: shape=(), dtype=float32, numpy=98.369995>, <tf.Tensor: shape=(), dtype=float32, numpy=98.35>, <tf.Tensor: shape=(), dtype=float32, numpy=98.43>, <tf.Tensor: shape=(), dtype=float32, numpy=98.36>, <tf.Tensor: shape=(), dtype=float32, numpy=98.369995>, <tf.Tensor: shape=(), dtype=float32, numpy=98.32>, <tf.Tensor: shape=(), dtype=float32, numpy=98.36>, <tf.Tensor: shape=(), dtype=float32, numpy=98.329994>, <tf.Tensor: shape=(), dtype=float32, numpy=98.369995>, <tf.Tensor: shape=(), dtype=float32, numpy=98.39>]\n",
      "tf.Tensor([12], shape=(1,), dtype=int32)\n",
      "tf.Tensor([12], shape=(1,), dtype=int32)\n"
     ]
    },
    {
     "name": "stdout",
     "output_type": "stream",
     "text": [
      "Epoch 1: Epoch 2: Epoch 3: Epoch 4: Epoch 5: Epoch 6: Epoch 7: Epoch 8: Epoch 9: Epoch 10: Epoch 11: Epoch 12: [<tf.Tensor: shape=(), dtype=float32, numpy=98.439995>, <tf.Tensor: shape=(), dtype=float32, numpy=98.39>, <tf.Tensor: shape=(), dtype=float32, numpy=98.31>, <tf.Tensor: shape=(), dtype=float32, numpy=98.42>, <tf.Tensor: shape=(), dtype=float32, numpy=98.34>, <tf.Tensor: shape=(), dtype=float32, numpy=98.45>, <tf.Tensor: shape=(), dtype=float32, numpy=98.35>, <tf.Tensor: shape=(), dtype=float32, numpy=98.32>, <tf.Tensor: shape=(), dtype=float32, numpy=98.4>, <tf.Tensor: shape=(), dtype=float32, numpy=98.34>, <tf.Tensor: shape=(), dtype=float32, numpy=98.369995>, <tf.Tensor: shape=(), dtype=float32, numpy=98.35>]\n",
      "tf.Tensor([12], shape=(1,), dtype=int32)\n",
      "tf.Tensor([12], shape=(1,), dtype=int32)\n",
      "Epoch 1: Epoch 2: Epoch 3: Epoch 4: Epoch 5: Epoch 6: Epoch 7: Epoch 8: Epoch 9: Epoch 10: Epoch 11: Epoch 12: [<tf.Tensor: shape=(), dtype=float32, numpy=98.409996>, <tf.Tensor: shape=(), dtype=float32, numpy=98.4>, <tf.Tensor: shape=(), dtype=float32, numpy=98.409996>, <tf.Tensor: shape=(), dtype=float32, numpy=98.34>, <tf.Tensor: shape=(), dtype=float32, numpy=98.38>, <tf.Tensor: shape=(), dtype=float32, numpy=98.39>, <tf.Tensor: shape=(), dtype=float32, numpy=98.4>, <tf.Tensor: shape=(), dtype=float32, numpy=98.46>, <tf.Tensor: shape=(), dtype=float32, numpy=98.42>, <tf.Tensor: shape=(), dtype=float32, numpy=98.369995>, <tf.Tensor: shape=(), dtype=float32, numpy=98.42>, <tf.Tensor: shape=(), dtype=float32, numpy=98.439995>]\n",
      "tf.Tensor([12], shape=(1,), dtype=int32)\n",
      "tf.Tensor([12], shape=(1,), dtype=int32)\n",
      "Epoch 1: Epoch 2: Epoch 3: Epoch 4: Epoch 5: Epoch 6: Epoch 7: Epoch 8: Epoch 9: Epoch 10: Epoch 11: Epoch 12: [<tf.Tensor: shape=(), dtype=float32, numpy=98.409996>, <tf.Tensor: shape=(), dtype=float32, numpy=98.369995>, <tf.Tensor: shape=(), dtype=float32, numpy=98.439995>, <tf.Tensor: shape=(), dtype=float32, numpy=98.43>, <tf.Tensor: shape=(), dtype=float32, numpy=98.39>, <tf.Tensor: shape=(), dtype=float32, numpy=98.47>, <tf.Tensor: shape=(), dtype=float32, numpy=98.47>, <tf.Tensor: shape=(), dtype=float32, numpy=98.43>, <tf.Tensor: shape=(), dtype=float32, numpy=98.42>, <tf.Tensor: shape=(), dtype=float32, numpy=98.439995>, <tf.Tensor: shape=(), dtype=float32, numpy=98.43>, <tf.Tensor: shape=(), dtype=float32, numpy=98.439995>]\n",
      "tf.Tensor([12], shape=(1,), dtype=int32)\n",
      "tf.Tensor([12], shape=(1,), dtype=int32)\n",
      "Epoch 1: Epoch 2: Epoch 3: Epoch 4: Epoch 5: Epoch 6: Epoch 7: Epoch 8: Epoch 9: Epoch 10: Epoch 11: Epoch 12: [<tf.Tensor: shape=(), dtype=float32, numpy=98.45>, <tf.Tensor: shape=(), dtype=float32, numpy=98.42>, <tf.Tensor: shape=(), dtype=float32, numpy=98.42>, <tf.Tensor: shape=(), dtype=float32, numpy=98.43>, <tf.Tensor: shape=(), dtype=float32, numpy=98.52>, <tf.Tensor: shape=(), dtype=float32, numpy=98.45>, <tf.Tensor: shape=(), dtype=float32, numpy=98.46>, <tf.Tensor: shape=(), dtype=float32, numpy=98.43>, <tf.Tensor: shape=(), dtype=float32, numpy=98.45>, <tf.Tensor: shape=(), dtype=float32, numpy=98.46>, <tf.Tensor: shape=(), dtype=float32, numpy=98.479996>, <tf.Tensor: shape=(), dtype=float32, numpy=98.47>]\n",
      "tf.Tensor([12], shape=(1,), dtype=int32)\n",
      "tf.Tensor([12], shape=(1,), dtype=int32)\n",
      "Epoch 1: Epoch 2: Epoch 3: Epoch 4: Epoch 5: Epoch 6: Epoch 7: Epoch 8: Epoch 9: Epoch 10: Epoch 11: Epoch 12: [<tf.Tensor: shape=(), dtype=float32, numpy=98.6>, <tf.Tensor: shape=(), dtype=float32, numpy=98.43>, <tf.Tensor: shape=(), dtype=float32, numpy=98.619995>, <tf.Tensor: shape=(), dtype=float32, numpy=98.479996>, <tf.Tensor: shape=(), dtype=float32, numpy=98.549995>, <tf.Tensor: shape=(), dtype=float32, numpy=98.549995>, <tf.Tensor: shape=(), dtype=float32, numpy=98.49>, <tf.Tensor: shape=(), dtype=float32, numpy=98.52>, <tf.Tensor: shape=(), dtype=float32, numpy=98.52>, <tf.Tensor: shape=(), dtype=float32, numpy=98.549995>, <tf.Tensor: shape=(), dtype=float32, numpy=98.47>, <tf.Tensor: shape=(), dtype=float32, numpy=98.45>]\n",
      "tf.Tensor([12], shape=(1,), dtype=int32)\n",
      "tf.Tensor([12], shape=(1,), dtype=int32)\n",
      "Epoch 1: Epoch 2: Epoch 3: Epoch 4: Epoch 5: Epoch 6: Epoch 7: Epoch 8: Epoch 9: Epoch 10: Epoch 11: Epoch 12: [<tf.Tensor: shape=(), dtype=float32, numpy=98.58>, <tf.Tensor: shape=(), dtype=float32, numpy=98.49>, <tf.Tensor: shape=(), dtype=float32, numpy=98.59>, <tf.Tensor: shape=(), dtype=float32, numpy=98.52>, <tf.Tensor: shape=(), dtype=float32, numpy=98.64>, <tf.Tensor: shape=(), dtype=float32, numpy=98.53>, <tf.Tensor: shape=(), dtype=float32, numpy=98.57>, <tf.Tensor: shape=(), dtype=float32, numpy=98.479996>, <tf.Tensor: shape=(), dtype=float32, numpy=98.54>, <tf.Tensor: shape=(), dtype=float32, numpy=98.6>, <tf.Tensor: shape=(), dtype=float32, numpy=98.64>, <tf.Tensor: shape=(), dtype=float32, numpy=98.56>]\n",
      "tf.Tensor([12], shape=(1,), dtype=int32)\n",
      "tf.Tensor([12], shape=(1,), dtype=int32)\n",
      "Epoch 1: Epoch 2: Epoch 3: Epoch 4: Epoch 5: Epoch 6: Epoch 7: Epoch 8: Epoch 9: Epoch 10: Epoch 11: Epoch 12: [<tf.Tensor: shape=(), dtype=float32, numpy=98.659996>, <tf.Tensor: shape=(), dtype=float32, numpy=98.61>, <tf.Tensor: shape=(), dtype=float32, numpy=98.64>, <tf.Tensor: shape=(), dtype=float32, numpy=98.619995>, <tf.Tensor: shape=(), dtype=float32, numpy=98.68>, <tf.Tensor: shape=(), dtype=float32, numpy=98.59>, <tf.Tensor: shape=(), dtype=float32, numpy=98.659996>, <tf.Tensor: shape=(), dtype=float32, numpy=98.57>, <tf.Tensor: shape=(), dtype=float32, numpy=98.56>, <tf.Tensor: shape=(), dtype=float32, numpy=98.65>, <tf.Tensor: shape=(), dtype=float32, numpy=98.57>, <tf.Tensor: shape=(), dtype=float32, numpy=98.61>]\n",
      "tf.Tensor([12], shape=(1,), dtype=int32)\n",
      "tf.Tensor([12], shape=(1,), dtype=int32)\n",
      "Epoch 1: Epoch 2: Epoch 3: Epoch 4: Epoch 5: Epoch 6: Epoch 7: Epoch 8: Epoch 9: Epoch 10: Epoch 11: Epoch 12: [<tf.Tensor: shape=(), dtype=float32, numpy=98.659996>, <tf.Tensor: shape=(), dtype=float32, numpy=98.659996>, <tf.Tensor: shape=(), dtype=float32, numpy=98.68>, <tf.Tensor: shape=(), dtype=float32, numpy=98.71>, <tf.Tensor: shape=(), dtype=float32, numpy=98.689995>, <tf.Tensor: shape=(), dtype=float32, numpy=98.7>, <tf.Tensor: shape=(), dtype=float32, numpy=98.64>, <tf.Tensor: shape=(), dtype=float32, numpy=98.76>, <tf.Tensor: shape=(), dtype=float32, numpy=98.65>, <tf.Tensor: shape=(), dtype=float32, numpy=98.67>, <tf.Tensor: shape=(), dtype=float32, numpy=98.79>, <tf.Tensor: shape=(), dtype=float32, numpy=98.67>]\n",
      "tf.Tensor([12], shape=(1,), dtype=int32)\n",
      "tf.Tensor([12], shape=(1,), dtype=int32)\n",
      "Epoch 1: Epoch 2: Epoch 3: Epoch 4: Epoch 5: Epoch 6: Epoch 7: Epoch 8: Epoch 9: Epoch 10: Epoch 11: Epoch 12: [<tf.Tensor: shape=(), dtype=float32, numpy=98.75>, <tf.Tensor: shape=(), dtype=float32, numpy=98.81>, <tf.Tensor: shape=(), dtype=float32, numpy=98.76>, <tf.Tensor: shape=(), dtype=float32, numpy=98.86>, <tf.Tensor: shape=(), dtype=float32, numpy=98.799995>, <tf.Tensor: shape=(), dtype=float32, numpy=98.76>, <tf.Tensor: shape=(), dtype=float32, numpy=98.86>, <tf.Tensor: shape=(), dtype=float32, numpy=98.77>, <tf.Tensor: shape=(), dtype=float32, numpy=98.9>, <tf.Tensor: shape=(), dtype=float32, numpy=98.82>, <tf.Tensor: shape=(), dtype=float32, numpy=98.76>, <tf.Tensor: shape=(), dtype=float32, numpy=98.74>]\n",
      "tf.Tensor([12], shape=(1,), dtype=int32)\n",
      "tf.Tensor([12], shape=(1,), dtype=int32)\n",
      "Epoch 1: Epoch 2: Epoch 3: Epoch 4: Epoch 5: Epoch 6: Epoch 7: Epoch 8: Epoch 9: Epoch 10: Epoch 11: Epoch 12: [<tf.Tensor: shape=(), dtype=float32, numpy=98.72>, <tf.Tensor: shape=(), dtype=float32, numpy=98.86>, <tf.Tensor: shape=(), dtype=float32, numpy=99.01>, <tf.Tensor: shape=(), dtype=float32, numpy=98.63>, <tf.Tensor: shape=(), dtype=float32, numpy=98.43>, <tf.Tensor: shape=(), dtype=float32, numpy=98.58>, <tf.Tensor: shape=(), dtype=float32, numpy=98.86>, <tf.Tensor: shape=(), dtype=float32, numpy=98.799995>, <tf.Tensor: shape=(), dtype=float32, numpy=98.59>, <tf.Tensor: shape=(), dtype=float32, numpy=98.61>, <tf.Tensor: shape=(), dtype=float32, numpy=98.549995>, <tf.Tensor: shape=(), dtype=float32, numpy=98.76>]\n",
      "tf.Tensor([12], shape=(1,), dtype=int32)\n",
      "tf.Tensor([12], shape=(1,), dtype=int32)\n"
     ]
    },
    {
     "data": {
      "image/png": "[encoded data removed]",
      "text/plain": [
       "<Figure size 640x480 with 1 Axes>"
      ]
     },
     "metadata": {},
     "output_type": "display_data"
    }
   ],
   "source": [
    "# your code start from here for step 6\n",
    "#expolre the effect of alpha when T is 4 in order to tune the model\n",
    "As = [0.05, 0.10, 0.15, 0.20, 0.25, 0.30, 0.35, 0.40, 0.45, 0.50, 0.55,0.60, 0.65, 0.70, 0.75, 0.80, 0.85, 0.90, 0.95, 1.0]\n",
    "\n",
    "epoch = [1,2,3,4,5,6,7,8,9,10,11,12]\n",
    "T = 4\n",
    "\n",
    "#Copy from previous\n",
    "def compute_student_loss_plot(images, labels, a):\n",
    "    student_subclass_logits = fc_model(images, training = True)\n",
    "    teacher_subclass_logits = cnn_model(images, training = False)\n",
    "    distillation_loss_value = distillation_loss(teacher_subclass_logits, student_subclass_logits, T)\n",
    "    student_loss = tf.reduce_mean(tf.nn.softmax_cross_entropy_with_logits(labels,student_subclass_logits))\n",
    "    cross_entropy_loss_value = a*student_loss + (1-a) * distillation_loss_value\n",
    "    \n",
    "    return cross_entropy_loss_value\n",
    "    \n",
    "#copy from the previous\n",
    "def train_and_plot(model, compute_loss_fn, a):\n",
    "  \"\"\"Perform training and evaluation for a given model.\n",
    "\n",
    "  Args:\n",
    "    model: Instance of tf.keras.Model.\n",
    "    compute_loss_fn: A function that computes the training loss given the\n",
    "      images, and labels.\n",
    "  \"\"\"\n",
    "\n",
    "  # your code start from here for step 4\n",
    "  #as specified in the assignment, optimizer is Adam, learning rate is 0.001 for all models\n",
    "  optimizer = tf.keras.optimizers.Adam(learning_rate = 0.001)\n",
    "  result = []\n",
    "  for epoch in range(1, NUM_EPOCHS + 1):\n",
    "    # Run training.\n",
    "    print('Epoch {}: '.format(epoch), end='')\n",
    "    for images, labels in mnist_train:\n",
    "      with tf.GradientTape() as tape:\n",
    "         # your code start from here for step 4\n",
    "\n",
    "        loss_value = compute_loss_fn(images, labels, a)\n",
    "\n",
    "      grads = tape.gradient(loss_value, model.trainable_variables)\n",
    "      optimizer.apply_gradients(zip(grads, model.trainable_variables))\n",
    "\n",
    "    # Run evaluation.\n",
    "    num_correct = 0\n",
    "    num_total = builder.info.splits['test'].num_examples\n",
    "    for images, labels in mnist_test:\n",
    "      # your code start from here for step 4\n",
    "      val1, val2, val3 = compute_num_correct(model,images,labels)\n",
    "      num_correct += val1\n",
    "    test_accuracy = num_correct/num_total*100\n",
    "    result.append(test_accuracy)\n",
    "  return result\n",
    "    \n",
    "print(epoch)\n",
    "for a in As:\n",
    "    result = train_and_plot(fc_model,compute_student_loss_plot,a)\n",
    "    print(result)\n",
    "    print(tf.shape(epoch))\n",
    "    print(tf.shape(result))\n",
    "    test, = plt.plot(epoch, result, label = \"T = {}\".format(T))\n",
    "plt.legend()\n",
    "plt.show()"
   ]
  },
  {
   "cell_type": "markdown",
   "metadata": {
    "id": "sj1N38fnRTNB"
   },
   "source": [
    "# Test accuracy vs. tempreture curve"
   ]
  },
  {
   "cell_type": "code",
   "execution_count": null,
   "metadata": {
    "id": "gX4dbazrRWIz"
   },
   "outputs": [],
   "source": [
    "# your code start from here for step 6\n",
    "Ts = [1,2,4,16,32,64]\n",
    "epoch = [1,2,3,4,5,6,7,8,9,10,11,12]\n",
    "ALPHA = 0.5\n",
    "\n",
    "#Copy from previous\n",
    "def compute_student_loss_plot(images, labels, T):\n",
    "    student_subclass_logits = fc_model(images, training = True)\n",
    "    teacher_subclass_logits = cnn_model(images, training = False)\n",
    "    distillation_loss_value = distillation_loss(teacher_subclass_logits, student_subclass_logits, T)\n",
    "    student_loss = tf.reduce_mean(tf.nn.softmax_cross_entropy_with_logits(labels,student_subclass_logits))\n",
    "    cross_entropy_loss_value = ALPHA*student_loss + (1-ALPHA) * distillation_loss_value\n",
    "    \n",
    "    return cross_entropy_loss_value\n",
    "    \n",
    "#copy from the previous\n",
    "def train_and_plot(model, compute_loss_fn, T):\n",
    "  \"\"\"Perform training and evaluation for a given model.\n",
    "\n",
    "  Args:\n",
    "    model: Instance of tf.keras.Model.\n",
    "    compute_loss_fn: A function that computes the training loss given the\n",
    "      images, and labels.\n",
    "  \"\"\"\n",
    "\n",
    "  # your code start from here for step 4\n",
    "  #as specified in the assignment, optimizer is Adam, learning rate is 0.001 for all models\n",
    "  optimizer = tf.keras.optimizers.Adam(learning_rate = 0.001)\n",
    "  result = []\n",
    "  for epoch in range(1, NUM_EPOCHS + 1):\n",
    "    # Run training.\n",
    "    print('Epoch {}: '.format(epoch), end='')\n",
    "    for images, labels in mnist_train:\n",
    "      with tf.GradientTape() as tape:\n",
    "         # your code start from here for step 4\n",
    "\n",
    "        loss_value = compute_loss_fn(images, labels, T)\n",
    "\n",
    "      grads = tape.gradient(loss_value, model.trainable_variables)\n",
    "      optimizer.apply_gradients(zip(grads, model.trainable_variables))\n",
    "\n",
    "    # Run evaluation.\n",
    "    num_correct = 0\n",
    "    num_total = builder.info.splits['test'].num_examples\n",
    "    for images, labels in mnist_test:\n",
    "      # your code start from here for step 4\n",
    "      val1, val2, val3 = compute_num_correct(model,images,labels)\n",
    "      num_correct += val1\n",
    "    test_accuracy = num_correct/num_total*100\n",
    "    result.append(test_accuracy)\n",
    "  return result\n",
    "    \n",
    "print(epoch)\n",
    "for T in Ts:\n",
    "    result = train_and_plot(fc_model,compute_student_loss_plot,T)\n",
    "    print(result)\n",
    "    print(tf.shape(epoch))\n",
    "    print(tf.shape(result))\n",
    "    test, = plt.plot(epoch, result, label = \"T = {}\".format(T))\n",
    "plt.legend()\n",
    "plt.show()\n",
    "    "
   ]
  },
  {
   "cell_type": "markdown",
   "metadata": {
    "id": "WNrH_1emRbGA"
   },
   "source": [
    "# Train student from scratch"
   ]
  },
  {
   "cell_type": "code",
   "execution_count": null,
   "metadata": {
    "id": "HjospsxIRbQ6"
   },
   "outputs": [],
   "source": [
    "# Build fully connected student.\n",
    "fc_model_no_distillation = tf.keras.Sequential()\n",
    "\n",
    "# your code start from here for step 7\n",
    "fc_model_no_distillation.add(tf.keras.Input(shape=(28,28,1)))\n",
    "fc_model_no_distillation.add(tf.keras.layers.Flatten())\n",
    "fc_model_no_distillation.add(tf.keras.layers.Dense(784,activation='relu'))\n",
    "fc_model_no_distillation.add(tf.keras.layers.Dense(784,activation='relu'))\n",
    "fc_model_no_distillation.add(tf.keras.layers.Dense(10))\n",
    "\n",
    "\n",
    "\n",
    "#@test {\"output\": \"ignore\"}\n",
    "\n",
    "def compute_plain_cross_entropy_loss(images, labels):\n",
    "  \"\"\"Compute plain loss for given images and labels.\n",
    "\n",
    "  For fair comparison and convenience, this function also performs a\n",
    "  LogSumExp over subclasses, but does not perform subclass distillation.\n",
    "\n",
    "  Args:\n",
    "    images: Tensor representing a batch of images.\n",
    "    labels: Tensor representing a batch of labels.\n",
    "\n",
    "  Returns:\n",
    "    Scalar loss Tensor.\n",
    "  \"\"\"\n",
    "  # your code start from here for step 7\n",
    "\n",
    "  student_subclass_logits = fc_model_no_distillation(images, training=True)\n",
    "  cross_entropy_loss = tf.nn.softmax_cross_entropy_with_logits(labels,student_subclass_logits)\n",
    "  \n",
    "  return cross_entropy_loss\n",
    "\n",
    "\n",
    "train_and_evaluate(fc_model_no_distillation, compute_plain_cross_entropy_loss)"
   ]
  },
  {
   "cell_type": "markdown",
   "metadata": {
    "id": "yq3JTpQ4RuhR"
   },
   "source": [
    "# Comparing the teacher and student model (number of of parameters and FLOPs) "
   ]
  },
  {
   "cell_type": "code",
   "execution_count": null,
   "metadata": {
    "id": "4V8GB2yRRuxF"
   },
   "outputs": [],
   "source": [
    "# your code start from here for step 8\n",
    "#number of parameters\n",
    "print(\"Teacher Model parameters:\")\n",
    "cnn_model.summary()\n",
    "print(\"Student Model parameters:\")\n",
    "fc_model.summary()\n",
    "\n",
    "#Calculate the FLOPs\n",
    "#Code Source: https://pypi.org/project/keras-flops/\n",
    "\n",
    "teacher_flop = get_flops(cnn_model,batch_size = 1)\n",
    "student_flop = get_flops(fc_model,batch_size = 1)\n",
    "print(f\"Teacher Model FLOPS: {teacher_flop/10**9:.03} G\")\n",
    "print(f\"Student Model FLOPS: {student_flop/10**9:0.3} G\")"
   ]
  },
  {
   "cell_type": "markdown",
   "metadata": {
    "id": "KjwJ5oziRvRn"
   },
   "source": [
    "# Implementing the state-of-the-art KD algorithm"
   ]
  },
  {
   "cell_type": "code",
   "execution_count": null,
   "metadata": {
    "id": "q10lybAFRvZt"
   },
   "outputs": [],
   "source": [
    "# your code start from here for step 12\n"
   ]
  },
  {
   "cell_type": "markdown",
   "metadata": {
    "id": "6dsOmtqdieIC"
   },
   "source": [
    "# (Optional) XAI method to explain models"
   ]
  },
  {
   "cell_type": "code",
   "execution_count": null,
   "metadata": {
    "id": "X0IMIFW8ilPO"
   },
   "outputs": [],
   "source": [
    "# your code start from here for step 13\n"
   ]
  }
 ],
 "metadata": {
  "colab": {
   "provenance": []
  },
  "kernelspec": {
   "display_name": "tf",
   "language": "python",
   "name": "tf"
  },
  "language_info": {
   "codemirror_mode": {
    "name": "ipython",
    "version": 3
   },
   "file_extension": ".py",
   "mimetype": "text/x-python",
   "name": "python",
   "nbconvert_exporter": "python",
   "pygments_lexer": "ipython3",
   "version": "3.8.13"
  }
 },
 "nbformat": 4,
 "nbformat_minor": 4
}
