{
 "cells": [
  {
   "cell_type": "markdown",
   "metadata": {
    "id": "6WYMfvCNPwpm",
    "tags": []
   },
   "source": [
    "# Project A: Knowledge Distillation for Building Lightweight Deep Learning Models in Visual Classification Tasks"
   ]
  },
  {
   "cell_type": "code",
   "execution_count": 1,
   "metadata": {},
   "outputs": [
    {
     "data": {
      "text/plain": [
       "True"
      ]
     },
     "execution_count": 1,
     "metadata": {},
     "output_type": "execute_result"
    }
   ],
   "source": [
    "import tensorflow as tf\n",
    "tf.test.is_built_with_cuda()"
   ]
  },
  {
   "cell_type": "code",
   "execution_count": 6,
   "metadata": {
    "id": "vA8ppgB2P0aJ"
   },
   "outputs": [],
   "source": [
    "#pip install keras-flops\n",
    "\n",
    "import tensorflow.compat.v2 as tf\n",
    "import tensorflow_datasets as tfds\n",
    "from typing import Union\n",
    "import matplotlib.pyplot as plt\n",
    "from keras_flops import get_flops\n",
    "tf.enable_v2_behavior()\n",
    "\n",
    "builder = tfds.builder('mnist')\n",
    "BATCH_SIZE = 256\n",
    "NUM_EPOCHS = 12\n",
    "NUM_CLASSES = 10  # 10 total classes."
   ]
  },
  {
   "cell_type": "code",
   "execution_count": 69,
   "metadata": {},
   "outputs": [],
   "source": [
    "#GPU Memory Reset\n",
    "from keras.backend import set_session\n",
    "from keras.backend import clear_session\n",
    "from keras.backend import get_session\n",
    "import gc\n",
    "\n",
    "# Reset Keras Session\n",
    "def reset_keras():\n",
    "    sess = get_session()\n",
    "    clear_session()\n",
    "    sess.close()\n",
    "    sess = get_session()\n",
    "\n",
    "    try:\n",
    "        del classifier # this is from global space - change this as you need\n",
    "    except:\n",
    "        pass\n",
    "\n",
    "    print(gc.collect()) # if it does something you should see a number as output\n",
    "\n",
    "    # use the same config as you used to create the session\n",
    "    config = tf.compat.v1.ConfigProto()\n",
    "    config.gpu_options.per_process_gpu_memory_fraction = 1\n",
    "    config.gpu_options.visible_device_list = \"0\"\n",
    "    set_session(tf.compat.v1.Session(config=config))"
   ]
  },
  {
   "cell_type": "code",
   "execution_count": 70,
   "metadata": {},
   "outputs": [
    {
     "name": "stdout",
     "output_type": "stream",
     "text": [
      "861\n"
     ]
    }
   ],
   "source": [
    "#run when job fail happens\n",
    "reset_keras()"
   ]
  },
  {
   "cell_type": "markdown",
   "metadata": {
    "id": "H2EFLQROP2R7"
   },
   "source": [
    "# Data loading"
   ]
  },
  {
   "cell_type": "code",
   "execution_count": 10,
   "metadata": {
    "id": "ynByMG_UP4A4"
   },
   "outputs": [],
   "source": [
    "# Load train and test splits.\n",
    "def preprocess(x):\n",
    "  image = tf.image.convert_image_dtype(x['image'], tf.float32)\n",
    "  subclass_labels = tf.one_hot(x['label'], builder.info.features['label'].num_classes)\n",
    "  return image, subclass_labels\n",
    "\n",
    "\n",
    "mnist_train = tfds.load('mnist', split='train', shuffle_files=False).cache()\n",
    "mnist_train = mnist_train.map(preprocess)\n",
    "mnist_train = mnist_train.shuffle(builder.info.splits['train'].num_examples)\n",
    "mnist_train = mnist_train.batch(BATCH_SIZE, drop_remainder=True)\n",
    "\n",
    "mnist_test = tfds.load('mnist', split='test').cache()\n",
    "mnist_test = mnist_test.map(preprocess).batch(BATCH_SIZE)"
   ]
  },
  {
   "cell_type": "markdown",
   "metadata": {
    "id": "kAZwfvW5P63q"
   },
   "source": [
    "# Model creation"
   ]
  },
  {
   "cell_type": "code",
   "execution_count": 71,
   "metadata": {
    "id": "zINgDkA7P7BP"
   },
   "outputs": [],
   "source": [
    "#@test {\"output\": \"ignore\"}\n",
    "\n",
    "# Build CNN teacher.\n",
    "cnn_model = tf.keras.Sequential()\n",
    "\n",
    "# your code start from here for stpe 2\n",
    "#The shape of MNIST is 28*28*1\n",
    "cnn_model.add(tf.keras.Input(shape = (28,28,1)))\n",
    "cnn_model.add(tf.keras.layers.Conv2D(32, 3, strides = 1, activation = 'relu'))\n",
    "cnn_model.add(tf.keras.layers.MaxPooling2D(pool_size=(2,2),strides = 1))\n",
    "cnn_model.add(tf.keras.layers.Conv2D(64, 3, strides=1, activation = 'relu'))\n",
    "cnn_model.add(tf.keras.layers.MaxPooling2D(pool_size=(2,2),strides = 2))\n",
    "cnn_model.add(tf.keras.layers.Flatten())\n",
    "cnn_model.add(tf.keras.layers.Dropout(0.5))\n",
    "cnn_model.add(tf.keras.layers.Dense(128,activation='relu'))\n",
    "cnn_model.add(tf.keras.layers.Dropout(0.5))\n",
    "cnn_model.add(tf.keras.layers.Dense(10))\n",
    "\n",
    "# Build fully connected student.\n",
    "fc_model = tf.keras.Sequential()\n",
    "\n",
    "\n",
    "# your code start from here for step 2\n",
    "fc_model.add(tf.keras.Input(shape=(28,28,1)))\n",
    "fc_model.add(tf.keras.layers.Flatten())\n",
    "fc_model.add(tf.keras.layers.Dense(784, activation='relu'))\n",
    "fc_model.add(tf.keras.layers.Dense(784, activation='relu'))\n",
    "fc_model.add(tf.keras.layers.Dense(10))\n",
    "\n"
   ]
  },
  {
   "cell_type": "code",
   "execution_count": 72,
   "metadata": {
    "scrolled": true,
    "tags": []
   },
   "outputs": [
    {
     "name": "stdout",
     "output_type": "stream",
     "text": [
      "Model: \"sequential\"\n",
      "_________________________________________________________________\n",
      " Layer (type)                Output Shape              Param #   \n",
      "=================================================================\n",
      " conv2d (Conv2D)             (None, 26, 26, 32)        320       \n",
      "                                                                 \n",
      " max_pooling2d (MaxPooling2D  (None, 25, 25, 32)       0         \n",
      " )                                                               \n",
      "                                                                 \n",
      " conv2d_1 (Conv2D)           (None, 23, 23, 64)        18496     \n",
      "                                                                 \n",
      " max_pooling2d_1 (MaxPooling  (None, 11, 11, 64)       0         \n",
      " 2D)                                                             \n",
      "                                                                 \n",
      " flatten (Flatten)           (None, 7744)              0         \n",
      "                                                                 \n",
      " dropout (Dropout)           (None, 7744)              0         \n",
      "                                                                 \n",
      " dense (Dense)               (None, 128)               991360    \n",
      "                                                                 \n",
      " dropout_1 (Dropout)         (None, 128)               0         \n",
      "                                                                 \n",
      " dense_1 (Dense)             (None, 10)                1290      \n",
      "                                                                 \n",
      "=================================================================\n",
      "Total params: 1,011,466\n",
      "Trainable params: 1,011,466\n",
      "Non-trainable params: 0\n",
      "_________________________________________________________________\n",
      "Model: \"sequential_1\"\n",
      "_________________________________________________________________\n",
      " Layer (type)                Output Shape              Param #   \n",
      "=================================================================\n",
      " flatten_1 (Flatten)         (None, 784)               0         \n",
      "                                                                 \n",
      " dense_2 (Dense)             (None, 784)               615440    \n",
      "                                                                 \n",
      " dense_3 (Dense)             (None, 784)               615440    \n",
      "                                                                 \n",
      " dense_4 (Dense)             (None, 10)                7850      \n",
      "                                                                 \n",
      "=================================================================\n",
      "Total params: 1,238,730\n",
      "Trainable params: 1,238,730\n",
      "Non-trainable params: 0\n",
      "_________________________________________________________________\n"
     ]
    }
   ],
   "source": [
    "cnn_model.summary()\n",
    "fc_model.summary()"
   ]
  },
  {
   "cell_type": "markdown",
   "metadata": {
    "id": "8JWGucyrQGav"
   },
   "source": [
    "# Teacher loss function"
   ]
  },
  {
   "cell_type": "code",
   "execution_count": 80,
   "metadata": {
    "id": "DhzBP6ZLQJ57"
   },
   "outputs": [],
   "source": [
    "@tf.function\n",
    "def compute_teacher_loss(images, labels):\n",
    "  \"\"\"Compute subclass knowledge distillation teacher loss for given images\n",
    "     and labels.\n",
    "\n",
    "  Args:\n",
    "    images: Tensor representing a batch of images.\n",
    "    labels: Tensor representing a batch of labels.\n",
    "\n",
    "  Returns:\n",
    "    Scalar loss Tensor.\n",
    "  \"\"\"\n",
    "  subclass_logits = cnn_model(images, training=True)\n",
    "\n",
    "  # Compute cross-entropy loss for subclasses.\n",
    "\n",
    "  # your code start from here for step 3\n",
    "  cross_entropy_loss_value = tf.reduce_mean(\n",
    "      tf.nn.softmax_cross_entropy_with_logits(labels, subclass_logits)\n",
    "  )\n",
    "\n",
    "\n",
    "  return cross_entropy_loss_value"
   ]
  },
  {
   "cell_type": "markdown",
   "metadata": {
    "id": "JS8xkuH0QbOS",
    "tags": []
   },
   "source": [
    "# Student loss function"
   ]
  },
  {
   "cell_type": "code",
   "execution_count": 81,
   "metadata": {
    "id": "lDKia4gPQMIr",
    "tags": []
   },
   "outputs": [],
   "source": [
    "#@test {\"output\": \"ignore\"}\n",
    "\n",
    "# Hyperparameters for distillation (need to be tuned).\n",
    "ALPHA = 0.9 # task balance between cross-entropy and distillation loss\n",
    "DISTILLATION_TEMPERATURE = 16 #temperature hyperparameter\n",
    "\n",
    "def distillation_loss(teacher_logits: tf.Tensor, student_logits: tf.Tensor,\n",
    "                      temperature: Union[float, tf.Tensor]):\n",
    "  \"\"\"Compute distillation loss.\n",
    "\n",
    "  This function computes cross entropy between softened logits and softened\n",
    "  targets. The resulting loss is scaled by the squared temperature so that\n",
    "  the gradient magnitude remains approximately constant as the temperature is\n",
    "  changed. For reference, see Hinton et al., 2014, \"Distilling the knowledge in\n",
    "  a neural network.\"\n",
    "\n",
    "  Args:\n",
    "    teacher_logits: A Tensor of logits provided by the teacher.\n",
    "    student_logits: A Tensor of logits provided by the student, of the same\n",
    "      shape as `teacher_logits`.\n",
    "    temperature: Temperature to use for distillation.\n",
    "\n",
    "  Returns:\n",
    "    A scalar Tensor containing the distillation loss.\n",
    "  \"\"\"\n",
    " # your code start from here for step 3\n",
    "  soft_targets = tf.nn.softmax(teacher_logits / temperature)\n",
    "\n",
    "  return tf.reduce_mean(\n",
    "      tf.nn.softmax_cross_entropy_with_logits(\n",
    "          soft_targets, student_logits / temperature)) * temperature ** 2\n",
    "\n",
    "def compute_student_loss(images, labels):\n",
    "  \"\"\"Compute subclass knowledge distillation student loss for given images\n",
    "     and labels.\n",
    "\n",
    "  Args:\n",
    "    images: Tensor representing a batch of images.\n",
    "    labels: Tensor representing a batch of labels.\n",
    "\n",
    "  Returns:\n",
    "    Scalar loss Tensor.\n",
    "  \"\"\"\n",
    "  student_subclass_logits = fc_model(images, training=True)\n",
    "\n",
    "  # Compute subclass distillation loss between student subclass logits and\n",
    "  # softened teacher subclass targets probabilities.\n",
    "\n",
    "  # your code start from here for step 3\n",
    "\n",
    "  teacher_subclass_logits = cnn_model(images, training=False)\n",
    "  distillation_loss_value = distillation_loss(teacher_subclass_logits, student_subclass_logits, DISTILLATION_TEMPERATURE)\n",
    "\n",
    "  # Compute cross-entropy loss with hard targets.\n",
    "\n",
    "  # your code start from here for step 3\n",
    "  #https://medium.com/analytics-vidhya/knowledge-distillation-in-a-deep-neural-network-c9dd59aff89b\n",
    "  student_loss = tf.reduce_mean(tf.nn.softmax_cross_entropy_with_logits(labels, student_subclass_logits))\n",
    "  cross_entropy_loss_value = ALPHA * student_loss + (1-ALPHA) * distillation_loss_value\n",
    "\n",
    "  return cross_entropy_loss_value"
   ]
  },
  {
   "cell_type": "markdown",
   "metadata": {
    "id": "RJ1uyvurQ3w4"
   },
   "source": [
    "# Train and evaluation"
   ]
  },
  {
   "cell_type": "code",
   "execution_count": 75,
   "metadata": {
    "id": "EtoLbp8uQ4Vl"
   },
   "outputs": [],
   "source": [
    "@tf.function\n",
    "def compute_num_correct(model, images, labels):\n",
    "  \"\"\"Compute number of correctly classified images in a batch.\n",
    "\n",
    "  Args:\n",
    "    model: Instance of tf.keras.Model.\n",
    "    images: Tensor representing a batch of images.\n",
    "    labels: Tensor representing a batch of labels.\n",
    "\n",
    "  Returns:\n",
    "    Number of correctly classified images.\n",
    "  \"\"\"\n",
    "  class_logits = model(images, training=False)\n",
    "  return tf.reduce_sum(\n",
    "      tf.cast(tf.math.equal(tf.argmax(class_logits, -1), tf.argmax(labels, -1)),\n",
    "              tf.float32)), tf.argmax(class_logits, -1), tf.argmax(labels, -1)\n",
    "\n",
    "\n",
    "def train_and_evaluate(model, compute_loss_fn):\n",
    "  \"\"\"Perform training and evaluation for a given model.\n",
    "\n",
    "  Args:\n",
    "    model: Instance of tf.keras.Model.\n",
    "    compute_loss_fn: A function that computes the training loss given the\n",
    "      images, and labels.\n",
    "  \"\"\"\n",
    "\n",
    "  # your code start from here for step 4\n",
    "  #as specified in the assignment, optimizer is Adam, learning rate is 0.001 for all models\n",
    "  optimizer = tf.keras.optimizers.Adam(learning_rate = 0.001)\n",
    "\n",
    "  for epoch in range(1, NUM_EPOCHS + 1):\n",
    "    # Run training.\n",
    "    print('Epoch {}: '.format(epoch), end='')\n",
    "    for images, labels in mnist_train:\n",
    "      with tf.GradientTape() as tape:\n",
    "         # your code start from here for step 4\n",
    "\n",
    "        loss_value = compute_loss_fn(images, labels)\n",
    "\n",
    "      grads = tape.gradient(loss_value, model.trainable_variables)\n",
    "      optimizer.apply_gradients(zip(grads, model.trainable_variables))\n",
    "\n",
    "    # Run evaluation.\n",
    "    num_correct = 0\n",
    "    num_total = builder.info.splits['test'].num_examples\n",
    "    for images, labels in mnist_test:\n",
    "      # your code start from here for step 4\n",
    "      val1, val2, val3 = compute_num_correct(model,images,labels)\n",
    "      num_correct += val1\n",
    "    print(\"Class_accuracy: \" + '{:.2f}%'.format(\n",
    "        num_correct / num_total * 100))\n"
   ]
  },
  {
   "cell_type": "markdown",
   "metadata": {
    "id": "NQL1lJdaRPT1"
   },
   "source": [
    "# Training models"
   ]
  },
  {
   "cell_type": "code",
   "execution_count": 16,
   "metadata": {
    "id": "-AGHbyABRPz3"
   },
   "outputs": [
    {
     "name": "stdout",
     "output_type": "stream",
     "text": [
      "1444\n",
      "Teacher Model\n",
      "Epoch 1: Class_accuracy: 98.01%\n",
      "Epoch 2: Class_accuracy: 98.63%\n",
      "Epoch 3: Class_accuracy: 98.89%\n",
      "Epoch 4: Class_accuracy: 98.96%\n",
      "Epoch 5: Class_accuracy: 99.10%\n",
      "Epoch 6: Class_accuracy: 99.17%\n",
      "Epoch 7: Class_accuracy: 99.09%\n",
      "Epoch 8: Class_accuracy: 99.22%\n",
      "Epoch 9: Class_accuracy: 99.26%\n",
      "Epoch 10: Class_accuracy: 99.24%\n",
      "Epoch 11: Class_accuracy: 99.18%\n",
      "Epoch 12: Class_accuracy: 99.29%\n",
      "70\n",
      "Student Model\n",
      "Epoch 1: Class_accuracy: 96.85%\n",
      "Epoch 2: Class_accuracy: 97.81%\n",
      "Epoch 3: Class_accuracy: 98.21%\n",
      "Epoch 4: Class_accuracy: 98.57%\n",
      "Epoch 5: Class_accuracy: 98.55%\n",
      "Epoch 6: Class_accuracy: 98.76%\n",
      "Epoch 7: Class_accuracy: 98.74%\n",
      "Epoch 8: Class_accuracy: 98.79%\n",
      "Epoch 9: Class_accuracy: 98.75%\n",
      "Epoch 10: Class_accuracy: 98.82%\n",
      "Epoch 11: Class_accuracy: 98.76%\n",
      "Epoch 12: Class_accuracy: 98.89%\n"
     ]
    }
   ],
   "source": [
    "# your code start from here for step 5 \n",
    "reset_keras()\n",
    "print(\"Teacher Model\")\n",
    "#train and evaluate the teacher model\n",
    "train_and_evaluate(cnn_model, compute_teacher_loss)\n",
    "\n",
    "reset_keras()\n",
    "print(\"Student Model\")\n",
    "#train and evaluate the student model\n",
    "train_and_evaluate(fc_model, compute_student_loss)"
   ]
  },
  {
   "cell_type": "markdown",
   "metadata": {
    "id": "sj1N38fnRTNB"
   },
   "source": [
    "# Test accuracy vs. tempreture curve"
   ]
  },
  {
   "cell_type": "code",
   "execution_count": 20,
   "metadata": {
    "id": "gX4dbazrRWIz",
    "scrolled": true,
    "tags": []
   },
   "outputs": [
    {
     "name": "stdout",
     "output_type": "stream",
     "text": [
      "111\n",
      "Epoch 1: Class_accuracy: 98.82%\n",
      "Epoch 2: Class_accuracy: 98.97%\n",
      "Epoch 3: Class_accuracy: 98.90%\n",
      "Epoch 4: Class_accuracy: 99.04%\n",
      "Epoch 5: Class_accuracy: 98.92%\n",
      "Epoch 6: Class_accuracy: 98.93%\n",
      "Epoch 7: Class_accuracy: 98.90%\n",
      "Epoch 8: Class_accuracy: 98.99%\n",
      "Epoch 9: Class_accuracy: 99.07%\n",
      "Epoch 10: Class_accuracy: 98.86%\n",
      "Epoch 11: Class_accuracy: 99.00%\n",
      "Epoch 12: Class_accuracy: 98.95%\n",
      "111\n",
      "Epoch 1: Class_accuracy: 99.00%\n",
      "Epoch 2: Class_accuracy: 98.99%\n",
      "Epoch 3: Class_accuracy: 98.99%\n",
      "Epoch 4: Class_accuracy: 98.98%\n",
      "Epoch 5: Class_accuracy: 99.02%\n",
      "Epoch 6: Class_accuracy: 99.03%\n",
      "Epoch 7: Class_accuracy: 99.00%\n",
      "Epoch 8: Class_accuracy: 98.98%\n",
      "Epoch 9: Class_accuracy: 99.05%\n",
      "Epoch 10: Class_accuracy: 98.99%\n",
      "Epoch 11: Class_accuracy: 99.04%\n",
      "Epoch 12: Class_accuracy: 99.03%\n",
      "111\n",
      "Epoch 1: Class_accuracy: 98.96%\n",
      "Epoch 2: Class_accuracy: 99.01%\n",
      "Epoch 3: Class_accuracy: 98.97%\n",
      "Epoch 4: Class_accuracy: 98.99%\n",
      "Epoch 5: Class_accuracy: 99.02%\n",
      "Epoch 6: Class_accuracy: 98.98%\n",
      "Epoch 7: Class_accuracy: 99.11%\n",
      "Epoch 8: Class_accuracy: 99.04%\n",
      "Epoch 9: Class_accuracy: 99.03%\n",
      "Epoch 10: Class_accuracy: 99.03%\n",
      "Epoch 11: Class_accuracy: 99.03%\n",
      "Epoch 12: Class_accuracy: 99.05%\n",
      "111\n",
      "Epoch 1: Class_accuracy: 99.07%\n",
      "Epoch 2: Class_accuracy: 99.04%\n",
      "Epoch 3: Class_accuracy: 99.05%\n",
      "Epoch 4: Class_accuracy: 99.01%\n",
      "Epoch 5: Class_accuracy: 99.06%\n",
      "Epoch 6: Class_accuracy: 99.06%\n",
      "Epoch 7: Class_accuracy: 99.02%\n",
      "Epoch 8: Class_accuracy: 99.02%\n",
      "Epoch 9: Class_accuracy: 98.99%\n",
      "Epoch 10: Class_accuracy: 99.04%\n",
      "Epoch 11: Class_accuracy: 99.03%\n",
      "Epoch 12: Class_accuracy: 99.01%\n",
      "111\n",
      "Epoch 1: Class_accuracy: 98.98%\n",
      "Epoch 2: Class_accuracy: 99.00%\n",
      "Epoch 3: Class_accuracy: 99.03%\n",
      "Epoch 4: Class_accuracy: 98.98%\n",
      "Epoch 5: Class_accuracy: 99.00%\n",
      "Epoch 6: Class_accuracy: 98.97%\n",
      "Epoch 7: Class_accuracy: 99.00%\n",
      "Epoch 8: Class_accuracy: 98.93%\n",
      "Epoch 9: Class_accuracy: 99.00%\n",
      "Epoch 10: Class_accuracy: 98.99%\n",
      "Epoch 11: Class_accuracy: 98.96%\n",
      "Epoch 12: Class_accuracy: 99.00%\n",
      "111\n",
      "Epoch 1: Class_accuracy: 98.98%\n",
      "Epoch 2: Class_accuracy: 98.98%\n",
      "Epoch 3: Class_accuracy: 98.97%\n",
      "Epoch 4: Class_accuracy: 99.02%\n",
      "Epoch 5: Class_accuracy: 98.99%\n",
      "Epoch 6: Class_accuracy: 99.01%\n",
      "Epoch 7: Class_accuracy: 99.01%\n",
      "Epoch 8: Class_accuracy: 98.97%\n",
      "Epoch 9: Class_accuracy: 98.99%\n",
      "Epoch 10: Class_accuracy: 98.98%\n",
      "Epoch 11: Class_accuracy: 98.97%\n",
      "Epoch 12: Class_accuracy: 99.01%\n"
     ]
    },
    {
     "data": {
      "image/png": "[encoded data removed]",
      "text/plain": [
       "<Figure size 640x480 with 1 Axes>"
      ]
     },
     "metadata": {},
     "output_type": "display_data"
    }
   ],
   "source": [
    "# your code start from here for step 6\n",
    "Ts = [1,2,4,16,32,64]\n",
    "average_accuracy = []\n",
    "ALPHA = 0.5\n",
    "\n",
    "#Copy from previous\n",
    "def compute_student_loss_plot(images, labels, T):\n",
    "    student_subclass_logits = fc_model(images, training = True)\n",
    "    teacher_subclass_logits = cnn_model(images, training = False)\n",
    "    distillation_loss_value = distillation_loss(teacher_subclass_logits, student_subclass_logits, T)\n",
    "    student_loss = tf.reduce_mean(tf.nn.softmax_cross_entropy_with_logits(labels,student_subclass_logits))\n",
    "    cross_entropy_loss_value = ALPHA*student_loss + (1-ALPHA) * distillation_loss_value\n",
    "    \n",
    "    return cross_entropy_loss_value\n",
    "    \n",
    "#copy from the previous\n",
    "def train_and_plot(model, compute_loss_fn, T):\n",
    "  \"\"\"Perform training and evaluation for a given model.\n",
    "\n",
    "  Args:\n",
    "    model: Instance of tf.keras.Model.\n",
    "    compute_loss_fn: A function that computes the training loss given the\n",
    "      images, and labels.\n",
    "  \"\"\"\n",
    "\n",
    "  # your code start from here for step 4\n",
    "  #as specified in the assignment, optimizer is Adam, learning rate is 0.001 for all models\n",
    "  optimizer = tf.keras.optimizers.Adam(learning_rate = 0.001)\n",
    "  result = []\n",
    "  for epoch in range(1, NUM_EPOCHS + 1):\n",
    "    # Run training.\n",
    "    print('Epoch {}: '.format(epoch), end='')\n",
    "    for images, labels in mnist_train:\n",
    "      with tf.GradientTape() as tape:\n",
    "         # your code start from here for step 4\n",
    "\n",
    "        loss_value = compute_loss_fn(images, labels, T)\n",
    "\n",
    "      grads = tape.gradient(loss_value, model.trainable_variables)\n",
    "      optimizer.apply_gradients(zip(grads, model.trainable_variables))\n",
    "\n",
    "    # Run evaluation.\n",
    "    num_correct = 0\n",
    "    num_total = builder.info.splits['test'].num_examples\n",
    "    for images, labels in mnist_test:\n",
    "      # your code start from here for step 4\n",
    "      val1, val2, val3 = compute_num_correct(model,images,labels)\n",
    "      num_correct += val1\n",
    "    test_accuracy = num_correct/num_total*100\n",
    "    result.append(test_accuracy)\n",
    "    print(\"Class_accuracy: \" + '{:.2f}%'.format(test_accuracy))\n",
    "  return result\n",
    "    \n",
    "\n",
    "for T in Ts:\n",
    "    reset_keras()\n",
    "    print(\"Working on temperature = {}\".format(T))\n",
    "    result = train_and_plot(fc_model,compute_student_loss_plot,T)\n",
    "    average_accuracy.append(sum(result)/float(len(result)))\n",
    "    \n",
    "plt.plot(Ts, average_accuracy)\n",
    "plt.xlabel(\"Temperature Value\")\n",
    "plt.ylabel(\"Average Class Accuracy\")\n",
    "plt.show()\n",
    "    "
   ]
  },
  {
   "cell_type": "code",
   "execution_count": 24,
   "metadata": {},
   "outputs": [
    {
     "name": "stdout",
     "output_type": "stream",
     "text": [
      "Class Accuracy reaches maximum when temperature = 16\n"
     ]
    }
   ],
   "source": [
    "# find maximum average accuracy\n",
    "max_index = average_accuracy.index(max(average_accuracy))\n",
    "max_temperature = Ts[max_index]\n",
    "\n",
    "print(\"Class Accuracy reaches maximum when temperature = {}\".format(max_temperature))"
   ]
  },
  {
   "cell_type": "markdown",
   "metadata": {},
   "source": [
    "# Test Accuracy vs Alpah Value"
   ]
  },
  {
   "cell_type": "code",
   "execution_count": 26,
   "metadata": {
    "scrolled": true,
    "tags": []
   },
   "outputs": [
    {
     "name": "stdout",
     "output_type": "stream",
     "text": [
      "317\n",
      "Working on alpha = 0.1\n",
      "Epoch 1: Class_accuracy: 98.96%\n",
      "Epoch 2: Class_accuracy: 98.98%\n",
      "Epoch 3: Class_accuracy: 98.95%\n",
      "Epoch 4: Class_accuracy: 98.96%\n",
      "Epoch 5: Class_accuracy: 99.03%\n",
      "Epoch 6: Class_accuracy: 99.01%\n",
      "Epoch 7: Class_accuracy: 99.01%\n",
      "Epoch 8: Class_accuracy: 98.98%\n",
      "Epoch 9: Class_accuracy: 98.98%\n",
      "Epoch 10: Class_accuracy: 99.03%\n",
      "Epoch 11: Class_accuracy: 98.97%\n",
      "Epoch 12: Class_accuracy: 98.96%\n",
      "111\n",
      "Working on alpha = 0.2\n",
      "Epoch 1: Class_accuracy: 98.99%\n",
      "Epoch 2: Class_accuracy: 98.98%\n",
      "Epoch 3: Class_accuracy: 98.98%\n",
      "Epoch 4: Class_accuracy: 98.99%\n",
      "Epoch 5: Class_accuracy: 99.01%\n",
      "Epoch 6: Class_accuracy: 99.02%\n",
      "Epoch 7: Class_accuracy: 98.96%\n",
      "Epoch 8: Class_accuracy: 99.00%\n",
      "Epoch 9: Class_accuracy: 98.96%\n",
      "Epoch 10: Class_accuracy: 98.99%\n",
      "Epoch 11: Class_accuracy: 99.00%\n",
      "Epoch 12: Class_accuracy: 99.04%\n",
      "111\n",
      "Working on alpha = 0.3\n",
      "Epoch 1: Class_accuracy: 99.01%\n",
      "Epoch 2: Class_accuracy: 99.02%\n",
      "Epoch 3: Class_accuracy: 98.98%\n",
      "Epoch 4: Class_accuracy: 99.02%\n",
      "Epoch 5: Class_accuracy: 99.02%\n",
      "Epoch 6: Class_accuracy: 99.01%\n",
      "Epoch 7: Class_accuracy: 99.02%\n",
      "Epoch 8: Class_accuracy: 98.99%\n",
      "Epoch 9: Class_accuracy: 99.01%\n",
      "Epoch 10: Class_accuracy: 99.01%\n",
      "Epoch 11: Class_accuracy: 99.02%\n",
      "Epoch 12: Class_accuracy: 99.03%\n",
      "111\n",
      "Working on alpha = 0.4\n",
      "Epoch 1: Class_accuracy: 99.01%\n",
      "Epoch 2: Class_accuracy: 99.02%\n",
      "Epoch 3: Class_accuracy: 99.01%\n",
      "Epoch 4: Class_accuracy: 99.01%\n",
      "Epoch 5: Class_accuracy: 99.05%\n",
      "Epoch 6: Class_accuracy: 99.03%\n",
      "Epoch 7: Class_accuracy: 99.04%\n",
      "Epoch 8: Class_accuracy: 99.01%\n",
      "Epoch 9: Class_accuracy: 99.03%\n",
      "Epoch 10: Class_accuracy: 98.99%\n",
      "Epoch 11: Class_accuracy: 98.98%\n",
      "Epoch 12: Class_accuracy: 99.00%\n",
      "111\n",
      "Working on alpha = 0.5\n",
      "Epoch 1: Class_accuracy: 99.03%\n",
      "Epoch 2: Class_accuracy: 99.02%\n",
      "Epoch 3: Class_accuracy: 98.99%\n",
      "Epoch 4: Class_accuracy: 99.00%\n",
      "Epoch 5: Class_accuracy: 99.02%\n",
      "Epoch 6: Class_accuracy: 99.03%\n",
      "Epoch 7: Class_accuracy: 99.01%\n",
      "Epoch 8: Class_accuracy: 99.02%\n",
      "Epoch 9: Class_accuracy: 99.06%\n",
      "Epoch 10: Class_accuracy: 98.97%\n",
      "Epoch 11: Class_accuracy: 99.04%\n",
      "Epoch 12: Class_accuracy: 99.02%\n",
      "111\n",
      "Working on alpha = 0.6\n",
      "Epoch 1: Class_accuracy: 99.03%\n",
      "Epoch 2: Class_accuracy: 99.03%\n",
      "Epoch 3: Class_accuracy: 99.02%\n",
      "Epoch 4: Class_accuracy: 99.01%\n",
      "Epoch 5: Class_accuracy: 99.00%\n",
      "Epoch 6: Class_accuracy: 99.00%\n",
      "Epoch 7: Class_accuracy: 99.01%\n",
      "Epoch 8: Class_accuracy: 99.00%\n",
      "Epoch 9: Class_accuracy: 99.02%\n",
      "Epoch 10: Class_accuracy: 98.99%\n",
      "Epoch 11: Class_accuracy: 99.03%\n",
      "Epoch 12: Class_accuracy: 99.01%\n",
      "111\n",
      "Working on alpha = 0.7\n",
      "Epoch 1: Class_accuracy: 99.00%\n",
      "Epoch 2: Class_accuracy: 99.00%\n",
      "Epoch 3: Class_accuracy: 99.02%\n",
      "Epoch 4: Class_accuracy: 99.05%\n",
      "Epoch 5: Class_accuracy: 98.96%\n",
      "Epoch 6: Class_accuracy: 99.02%\n",
      "Epoch 7: Class_accuracy: 98.98%\n",
      "Epoch 8: Class_accuracy: 98.99%\n",
      "Epoch 9: Class_accuracy: 99.02%\n",
      "Epoch 10: Class_accuracy: 99.01%\n",
      "Epoch 11: Class_accuracy: 99.00%\n",
      "Epoch 12: Class_accuracy: 99.00%\n",
      "111\n",
      "Working on alpha = 0.8\n",
      "Epoch 1: Class_accuracy: 99.01%\n",
      "Epoch 2: Class_accuracy: 99.03%\n",
      "Epoch 3: Class_accuracy: 99.00%\n",
      "Epoch 4: Class_accuracy: 99.03%\n",
      "Epoch 5: Class_accuracy: 98.96%\n",
      "Epoch 6: Class_accuracy: 99.00%\n",
      "Epoch 7: Class_accuracy: 99.01%\n",
      "Epoch 8: Class_accuracy: 99.03%\n",
      "Epoch 9: Class_accuracy: 99.02%\n",
      "Epoch 10: Class_accuracy: 99.01%\n",
      "Epoch 11: Class_accuracy: 99.00%\n",
      "Epoch 12: Class_accuracy: 98.99%\n",
      "111\n",
      "Working on alpha = 0.9\n",
      "Epoch 1: Class_accuracy: 99.00%\n",
      "Epoch 2: Class_accuracy: 99.04%\n",
      "Epoch 3: Class_accuracy: 99.02%\n",
      "Epoch 4: Class_accuracy: 99.03%\n",
      "Epoch 5: Class_accuracy: 99.02%\n",
      "Epoch 6: Class_accuracy: 98.96%\n",
      "Epoch 7: Class_accuracy: 99.07%\n",
      "Epoch 8: Class_accuracy: 99.05%\n",
      "Epoch 9: Class_accuracy: 99.04%\n",
      "Epoch 10: Class_accuracy: 99.03%\n",
      "Epoch 11: Class_accuracy: 99.05%\n",
      "Epoch 12: Class_accuracy: 99.04%\n",
      "111\n",
      "Working on alpha = 1.0\n",
      "Epoch 1: Class_accuracy: 98.67%\n",
      "Epoch 2: Class_accuracy: 98.96%\n",
      "Epoch 3: Class_accuracy: 98.89%\n",
      "Epoch 4: Class_accuracy: 98.91%\n",
      "Epoch 5: Class_accuracy: 98.83%\n",
      "Epoch 6: Class_accuracy: 99.01%\n",
      "Epoch 7: Class_accuracy: 98.88%\n",
      "Epoch 8: Class_accuracy: 99.00%\n",
      "Epoch 9: Class_accuracy: 98.80%\n",
      "Epoch 10: Class_accuracy: 98.75%\n",
      "Epoch 11: Class_accuracy: 98.87%\n",
      "Epoch 12: Class_accuracy: 98.81%\n"
     ]
    },
    {
     "data": {
      "image/png": "[encoded data removed]",
      "text/plain": [
       "<Figure size 640x480 with 1 Axes>"
      ]
     },
     "metadata": {},
     "output_type": "display_data"
    }
   ],
   "source": [
    "# your code start from here for step 6\n",
    "#expolre the effect of alpha when T is 4 in order to tune the model\n",
    "As = [0.1,0.2,0.3,0.4,0.5,0.6,0.7,0.8,0.9,1.0]\n",
    "average_accuracy = []\n",
    "T = 4\n",
    "\n",
    "#Copy from previous\n",
    "def compute_student_loss_plot(images, labels, a):\n",
    "    student_subclass_logits = fc_model(images, training = True)\n",
    "    teacher_subclass_logits = cnn_model(images, training = False)\n",
    "    distillation_loss_value = distillation_loss(teacher_subclass_logits, student_subclass_logits, T)\n",
    "    student_loss = tf.reduce_mean(tf.nn.softmax_cross_entropy_with_logits(labels,student_subclass_logits))\n",
    "    cross_entropy_loss_value = a*student_loss + (1-a) * distillation_loss_value\n",
    "    \n",
    "    return cross_entropy_loss_value\n",
    "    \n",
    "#copy from the previous\n",
    "def train_and_plot(model, compute_loss_fn, a):\n",
    "  \"\"\"Perform training and evaluation for a given model.\n",
    "\n",
    "  Args:\n",
    "    model: Instance of tf.keras.Model.\n",
    "    compute_loss_fn: A function that computes the training loss given the\n",
    "      images, and labels.\n",
    "  \"\"\"\n",
    "\n",
    "  # your code start from here for step 4\n",
    "  #as specified in the assignment, optimizer is Adam, learning rate is 0.001 for all models\n",
    "  optimizer = tf.keras.optimizers.Adam(learning_rate = 0.001)\n",
    "  result = []\n",
    "  for epoch in range(1, NUM_EPOCHS + 1):\n",
    "    # Run training.\n",
    "    print('Epoch {}: '.format(epoch), end='')\n",
    "    for images, labels in mnist_train:\n",
    "      with tf.GradientTape() as tape:\n",
    "         # your code start from here for step 4\n",
    "\n",
    "        loss_value = compute_loss_fn(images, labels, a)\n",
    "\n",
    "      grads = tape.gradient(loss_value, model.trainable_variables)\n",
    "      optimizer.apply_gradients(zip(grads, model.trainable_variables))\n",
    "\n",
    "    # Run evaluation.\n",
    "    num_correct = 0\n",
    "    num_total = builder.info.splits['test'].num_examples\n",
    "    for images, labels in mnist_test:\n",
    "      # your code start from here for step 4\n",
    "      val1, val2, val3 = compute_num_correct(model,images,labels)\n",
    "      num_correct += val1\n",
    "    test_accuracy = num_correct/num_total*100\n",
    "    result.append(test_accuracy)\n",
    "    print(\"Class_accuracy: \" + '{:.2f}%'.format(test_accuracy))\n",
    "  return result\n",
    "    \n",
    "for a in As:\n",
    "    reset_keras()\n",
    "    print(\"Working on alpha = {}\".format(a))\n",
    "    result = train_and_plot(fc_model,compute_student_loss_plot,a)\n",
    "    average_accuracy.append(sum(result)/float(len(result)))\n",
    "    \n",
    "plt.plot(As, average_accuracy)\n",
    "plt.xlabel(\"Alpha Value\")\n",
    "plt.ylabel(\"Average Class Accuracy\")\n",
    "plt.show()"
   ]
  },
  {
   "cell_type": "code",
   "execution_count": 27,
   "metadata": {},
   "outputs": [
    {
     "name": "stdout",
     "output_type": "stream",
     "text": [
      "Class Accuracy reaches maximum when alpha = 0.9\n"
     ]
    }
   ],
   "source": [
    "# find maximum average accuracy\n",
    "max_index = average_accuracy.index(max(average_accuracy))\n",
    "max_alpha = As[max_index]\n",
    "\n",
    "print(\"Class Accuracy reaches maximum when alpha = {}\".format(max_alpha))"
   ]
  },
  {
   "cell_type": "markdown",
   "metadata": {},
   "source": [
    "# Train Model Using Fine Tune Parameter"
   ]
  },
  {
   "cell_type": "code",
   "execution_count": 59,
   "metadata": {},
   "outputs": [
    {
     "name": "stdout",
     "output_type": "stream",
     "text": [
      "70\n",
      "Teacher Model\n",
      "Epoch 1: Class_accuracy: 99.21%\n",
      "Epoch 2: Class_accuracy: 99.30%\n",
      "Epoch 3: Class_accuracy: 99.22%\n",
      "Epoch 4: Class_accuracy: 99.25%\n",
      "Epoch 5: Class_accuracy: 99.31%\n",
      "Epoch 6: Class_accuracy: 99.29%\n",
      "Epoch 7: Class_accuracy: 99.28%\n",
      "Epoch 8: Class_accuracy: 99.33%\n",
      "Epoch 9: Class_accuracy: 99.27%\n",
      "Epoch 10: Class_accuracy: 99.31%\n",
      "Epoch 11: Class_accuracy: 99.40%\n",
      "Epoch 12: Class_accuracy: 99.31%\n",
      "111\n",
      "Student Model\n",
      "Epoch 1: Class_accuracy: 98.84%\n",
      "Epoch 2: Class_accuracy: 98.79%\n",
      "Epoch 3: Class_accuracy: 98.79%\n",
      "Epoch 4: Class_accuracy: 98.76%\n",
      "Epoch 5: Class_accuracy: 98.94%\n",
      "Epoch 6: Class_accuracy: 98.89%\n",
      "Epoch 7: Class_accuracy: 98.90%\n",
      "Epoch 8: Class_accuracy: 98.87%\n",
      "Epoch 9: Class_accuracy: 98.93%\n",
      "Epoch 10: Class_accuracy: 98.94%\n",
      "Epoch 11: Class_accuracy: 98.93%\n",
      "Epoch 12: Class_accuracy: 98.91%\n"
     ]
    }
   ],
   "source": [
    "# Train using Alpha = 0.9, Temperature = 16\n",
    "reset_keras()\n",
    "print(\"Teacher Model\")\n",
    "#train and evaluate the teacher model\n",
    "train_and_evaluate(cnn_model, compute_teacher_loss)\n",
    "\n",
    "reset_keras()\n",
    "print(\"Student Model\")\n",
    "#train and evaluate the student model\n",
    "train_and_evaluate(fc_model, compute_student_loss)"
   ]
  },
  {
   "cell_type": "markdown",
   "metadata": {
    "id": "WNrH_1emRbGA"
   },
   "source": [
    "# Train student from scratch"
   ]
  },
  {
   "cell_type": "code",
   "execution_count": 31,
   "metadata": {
    "id": "HjospsxIRbQ6"
   },
   "outputs": [
    {
     "name": "stdout",
     "output_type": "stream",
     "text": [
      "Epoch 1: Class_accuracy: 96.94%\n",
      "Epoch 2: Class_accuracy: 97.31%\n",
      "Epoch 3: Class_accuracy: 97.98%\n",
      "Epoch 4: Class_accuracy: 97.76%\n",
      "Epoch 5: Class_accuracy: 98.02%\n",
      "Epoch 6: Class_accuracy: 97.86%\n",
      "Epoch 7: Class_accuracy: 97.98%\n",
      "Epoch 8: Class_accuracy: 97.68%\n",
      "Epoch 9: Class_accuracy: 97.90%\n",
      "Epoch 10: Class_accuracy: 98.19%\n",
      "Epoch 11: Class_accuracy: 97.69%\n",
      "Epoch 12: Class_accuracy: 98.26%\n"
     ]
    }
   ],
   "source": [
    "# Build fully connected student.\n",
    "fc_model_no_distillation = tf.keras.Sequential()\n",
    "\n",
    "# your code start from here for step 7\n",
    "fc_model_no_distillation.add(tf.keras.Input(shape=(28,28,1)))\n",
    "fc_model_no_distillation.add(tf.keras.layers.Flatten())\n",
    "fc_model_no_distillation.add(tf.keras.layers.Dense(784,activation='relu'))\n",
    "fc_model_no_distillation.add(tf.keras.layers.Dense(784,activation='relu'))\n",
    "fc_model_no_distillation.add(tf.keras.layers.Dense(10))\n",
    "\n",
    "\n",
    "\n",
    "#@test {\"output\": \"ignore\"}\n",
    "\n",
    "def compute_plain_cross_entropy_loss(images, labels):\n",
    "  \"\"\"Compute plain loss for given images and labels.\n",
    "\n",
    "  For fair comparison and convenience, this function also performs a\n",
    "  LogSumExp over subclasses, but does not perform subclass distillation.\n",
    "\n",
    "  Args:\n",
    "    images: Tensor representing a batch of images.\n",
    "    labels: Tensor representing a batch of labels.\n",
    "\n",
    "  Returns:\n",
    "    Scalar loss Tensor.\n",
    "  \"\"\"\n",
    "  # your code start from here for step 7\n",
    "\n",
    "  student_subclass_logits = fc_model_no_distillation(images, training=True)\n",
    "  cross_entropy_loss = tf.nn.softmax_cross_entropy_with_logits(labels,student_subclass_logits)\n",
    "  \n",
    "  return cross_entropy_loss\n",
    "\n",
    "\n",
    "train_and_evaluate(fc_model_no_distillation, compute_plain_cross_entropy_loss)"
   ]
  },
  {
   "cell_type": "markdown",
   "metadata": {
    "id": "yq3JTpQ4RuhR"
   },
   "source": [
    "# Comparing the teacher and student model (number of of parameters and FLOPs) "
   ]
  },
  {
   "cell_type": "code",
   "execution_count": 33,
   "metadata": {
    "id": "4V8GB2yRRuxF",
    "scrolled": true,
    "tags": []
   },
   "outputs": [
    {
     "name": "stdout",
     "output_type": "stream",
     "text": [
      "Teacher Model parameters:\n",
      "Model: \"sequential\"\n",
      "_________________________________________________________________\n",
      " Layer (type)                Output Shape              Param #   \n",
      "=================================================================\n",
      " conv2d (Conv2D)             (None, 26, 26, 32)        320       \n",
      "                                                                 \n",
      " max_pooling2d (MaxPooling2D  (None, 25, 25, 32)       0         \n",
      " )                                                               \n",
      "                                                                 \n",
      " conv2d_1 (Conv2D)           (None, 23, 23, 64)        18496     \n",
      "                                                                 \n",
      " max_pooling2d_1 (MaxPooling  (None, 11, 11, 64)       0         \n",
      " 2D)                                                             \n",
      "                                                                 \n",
      " flatten (Flatten)           (None, 7744)              0         \n",
      "                                                                 \n",
      " dropout (Dropout)           (None, 7744)              0         \n",
      "                                                                 \n",
      " dense (Dense)               (None, 128)               991360    \n",
      "                                                                 \n",
      " dropout_1 (Dropout)         (None, 128)               0         \n",
      "                                                                 \n",
      " dense_1 (Dense)             (None, 10)                1290      \n",
      "                                                                 \n",
      "=================================================================\n",
      "Total params: 1,011,466\n",
      "Trainable params: 1,011,466\n",
      "Non-trainable params: 0\n",
      "_________________________________________________________________\n",
      "Student Model parameters:\n",
      "Model: \"sequential_1\"\n",
      "_________________________________________________________________\n",
      " Layer (type)                Output Shape              Param #   \n",
      "=================================================================\n",
      " flatten_1 (Flatten)         (None, 784)               0         \n",
      "                                                                 \n",
      " dense_2 (Dense)             (None, 784)               615440    \n",
      "                                                                 \n",
      " dense_3 (Dense)             (None, 784)               615440    \n",
      "                                                                 \n",
      " dense_4 (Dense)             (None, 10)                7850      \n",
      "                                                                 \n",
      "=================================================================\n",
      "Total params: 1,238,730\n",
      "Trainable params: 1,238,730\n",
      "Non-trainable params: 0\n",
      "_________________________________________________________________\n",
      "Teacher Model FLOPS: 0.022 G\n",
      "Student Model FLOPS: 0.00248 G\n"
     ]
    }
   ],
   "source": [
    "# your code start from here for step 8\n",
    "#number of parameters\n",
    "print(\"Teacher Model parameters:\")\n",
    "cnn_model.summary()\n",
    "print(\"Student Model parameters:\")\n",
    "fc_model.summary()\n",
    "\n",
    "#Calculate the FLOPs\n",
    "#Code Source: https://pypi.org/project/keras-flops/\n",
    "\n",
    "teacher_flop = get_flops(cnn_model,batch_size = 1)\n",
    "student_flop = get_flops(fc_model,batch_size = 1)\n",
    "print(f\"Teacher Model FLOPS: {teacher_flop/10**9:.03} G\")\n",
    "print(f\"Student Model FLOPS: {student_flop/10**9:0.3} G\")"
   ]
  },
  {
   "cell_type": "markdown",
   "metadata": {
    "id": "KjwJ5oziRvRn"
   },
   "source": [
    "# Implementing the state-of-the-art KD algorithm"
   ]
  },
  {
   "cell_type": "code",
   "execution_count": 37,
   "metadata": {
    "id": "q10lybAFRvZt"
   },
   "outputs": [],
   "source": [
    "# your code start from here for step 12\n",
    "# Build CNN teacher.\n",
    "teacher_model = tf.keras.Sequential()\n",
    "#The shape of MNIST is 28*28*1\n",
    "teacher_model.add(tf.keras.Input(shape = (28,28,1)))\n",
    "teacher_model.add(tf.keras.layers.Conv2D(32, 3, strides = 1, activation = 'relu'))\n",
    "teacher_model.add(tf.keras.layers.MaxPooling2D(pool_size=(2,2),strides = 1))\n",
    "teacher_model.add(tf.keras.layers.Conv2D(64, 3, strides=1, activation = 'relu'))\n",
    "teacher_model.add(tf.keras.layers.MaxPooling2D(pool_size=(2,2),strides = 2))\n",
    "teacher_model.add(tf.keras.layers.Flatten())\n",
    "teacher_model.add(tf.keras.layers.Dropout(0.5))\n",
    "teacher_model.add(tf.keras.layers.Dense(128,activation='relu'))\n",
    "teacher_model.add(tf.keras.layers.Dropout(0.5))\n",
    "teacher_model.add(tf.keras.layers.Dense(10))\n",
    "\n",
    "#build TA model\n",
    "ta_model = tf.keras.Sequential()\n",
    "ta_model.add(tf.keras.Input(shape = (28,28,1)))\n",
    "ta_model.add(tf.keras.layers.Conv2D(32,3,strides = 1, activation = 'relu'))\n",
    "ta_model.add(tf.keras.layers.MaxPooling2D(pool_size = (2,2), strides = 1))\n",
    "ta_model.add(tf.keras.layers.Flatten())\n",
    "ta_model.add(tf.keras.layers.Dropout(0.5))\n",
    "ta_model.add(tf.keras.layers.Dense(128, activation = 'relu'))\n",
    "ta_model.add(tf.keras.layers.Dropout(0.5))\n",
    "ta_model.add(tf.keras.layers.Dense(10))\n",
    "\n",
    "#build student model\n",
    "student_model = tf.keras.Sequential()\n",
    "student_model.add(tf.keras.Input(shape=(28,28,1)))\n",
    "student_model.add(tf.keras.layers.Flatten())\n",
    "student_model.add(tf.keras.layers.Dense(784, activation='relu'))\n",
    "student_model.add(tf.keras.layers.Dense(784, activation='relu'))\n",
    "student_model.add(tf.keras.layers.Dense(10))"
   ]
  },
  {
   "cell_type": "code",
   "execution_count": 49,
   "metadata": {},
   "outputs": [],
   "source": [
    "@tf.function\n",
    "# TA teacher loss function\n",
    "def compute_teacher_loss_ta(images, labels):\n",
    "    subclass_logits = teacher_model(images, training=True)\n",
    "    cross_entropy_loss_value = tf.reduce_mean(\n",
    "        tf.nn.softmax_cross_entropy_with_logits(labels, subclass_logits)\n",
    "    )\n",
    "    \n",
    "    return cross_entropy_loss_value\n",
    "#TA loss function\n",
    "def compute_ta_loss_ta(images, labels):\n",
    "    student_subclass_logits = ta_model(images, training=True)\n",
    "    teacher_subclass_logits = teacher_model(images, training=False)\n",
    "    distillation_loss_value = distillation_loss(teacher_subclass_logits, student_subclass_logits, DISTILLATION_TEMPERATURE)\n",
    "    student_loss = tf.reduce_mean(tf.nn.softmax_cross_entropy_with_logits(labels, student_subclass_logits))\n",
    "    cross_entropy_loss_value = ALPHA * student_loss + (1-ALPHA) * distillation_loss_value\n",
    "    \n",
    "    return cross_entropy_loss_value\n",
    "\n",
    "def compute_student_loss_ta(images, labels):\n",
    "    student_subclass_logits = student_model(images, training=True)\n",
    "    teacher_subclass_logits = ta_model(images, training=False)\n",
    "    distillation_loss_value = distillation_loss(teacher_subclass_logits, student_subclass_logits, DISTILLATION_TEMPERATURE)\n",
    "    student_loss = tf.reduce_mean(tf.nn.softmax_cross_entropy_with_logits(labels, student_subclass_logits))\n",
    "    cross_entropy_loss_value = ALPHA * student_loss + (1-ALPHA) * distillation_loss_value\n",
    "    \n",
    "    return cross_entropy_loss_value"
   ]
  },
  {
   "cell_type": "code",
   "execution_count": 47,
   "metadata": {},
   "outputs": [
    {
     "name": "stdout",
     "output_type": "stream",
     "text": [
      "Epoch 1: Class_accuracy: 98.32%\n",
      "Epoch 2: Class_accuracy: 98.81%\n",
      "Epoch 3: Class_accuracy: 98.93%\n",
      "Epoch 4: Class_accuracy: 98.96%\n",
      "Epoch 5: Class_accuracy: 99.02%\n",
      "Epoch 6: Class_accuracy: 99.17%\n",
      "Epoch 7: Class_accuracy: 99.12%\n",
      "Epoch 8: Class_accuracy: 99.24%\n",
      "Epoch 9: Class_accuracy: 99.11%\n",
      "Epoch 10: Class_accuracy: 99.30%\n",
      "Epoch 11: Class_accuracy: 99.33%\n",
      "Epoch 12: Class_accuracy: 99.29%\n"
     ]
    }
   ],
   "source": [
    "#train teacher model\n",
    "train_and_evaluate(teacher_model, compute_teacher_loss_ta)"
   ]
  },
  {
   "cell_type": "code",
   "execution_count": 83,
   "metadata": {},
   "outputs": [
    {
     "name": "stdout",
     "output_type": "stream",
     "text": [
      "Epoch 1: Class_accuracy: 98.74%\n",
      "Epoch 2: Class_accuracy: 98.80%\n",
      "Epoch 3: Class_accuracy: 98.78%\n",
      "Epoch 4: Class_accuracy: 98.84%\n",
      "Epoch 5: Class_accuracy: 98.83%\n",
      "Epoch 6: Class_accuracy: 98.88%\n",
      "Epoch 7: Class_accuracy: 98.92%\n",
      "Epoch 8: Class_accuracy: 98.96%\n",
      "Epoch 9: Class_accuracy: 98.84%\n",
      "Epoch 10: Class_accuracy: 98.88%\n",
      "Epoch 11: Class_accuracy: 98.85%\n",
      "Epoch 12: Class_accuracy: 98.91%\n"
     ]
    }
   ],
   "source": [
    "#distill knowledge from teacher to ta\n",
    "train_and_evaluate(ta_model, compute_ta_loss_ta)"
   ]
  },
  {
   "cell_type": "code",
   "execution_count": 84,
   "metadata": {},
   "outputs": [
    {
     "name": "stdout",
     "output_type": "stream",
     "text": [
      "Epoch 1: Class_accuracy: 98.78%\n",
      "Epoch 2: Class_accuracy: 98.75%\n",
      "Epoch 3: Class_accuracy: 98.79%\n",
      "Epoch 4: Class_accuracy: 98.77%\n",
      "Epoch 5: Class_accuracy: 98.80%\n",
      "Epoch 6: Class_accuracy: 98.78%\n",
      "Epoch 7: Class_accuracy: 98.73%\n",
      "Epoch 8: Class_accuracy: 98.81%\n",
      "Epoch 9: Class_accuracy: 98.72%\n",
      "Epoch 10: Class_accuracy: 98.80%\n",
      "Epoch 11: Class_accuracy: 98.76%\n",
      "Epoch 12: Class_accuracy: 98.81%\n"
     ]
    }
   ],
   "source": [
    "#distill knowledge from ta to student\n",
    "train_and_evaluate(student_model, compute_student_loss_ta)"
   ]
  },
  {
   "cell_type": "code",
   "execution_count": 78,
   "metadata": {},
   "outputs": [],
   "source": [
    "#Compare Group without TA# Build CNN teacher.\n",
    "cnn_model = tf.keras.Sequential()\n",
    "cnn_model.add(tf.keras.Input(shape = (28,28,1)))\n",
    "cnn_model.add(tf.keras.layers.Conv2D(32, 3, strides = 1, activation = 'relu'))\n",
    "cnn_model.add(tf.keras.layers.MaxPooling2D(pool_size=(2,2),strides = 1))\n",
    "cnn_model.add(tf.keras.layers.Conv2D(64, 3, strides=1, activation = 'relu'))\n",
    "cnn_model.add(tf.keras.layers.MaxPooling2D(pool_size=(2,2),strides = 2))\n",
    "cnn_model.add(tf.keras.layers.Flatten())\n",
    "cnn_model.add(tf.keras.layers.Dropout(0.5))\n",
    "cnn_model.add(tf.keras.layers.Dense(128,activation='relu'))\n",
    "cnn_model.add(tf.keras.layers.Dropout(0.5))\n",
    "cnn_model.add(tf.keras.layers.Dense(10))\n",
    "\n",
    "# Build fully connected student.\n",
    "fc_model = tf.keras.Sequential()\n",
    "fc_model.add(tf.keras.Input(shape=(28,28,1)))\n",
    "fc_model.add(tf.keras.layers.Flatten())\n",
    "fc_model.add(tf.keras.layers.Dense(784, activation='relu'))\n",
    "fc_model.add(tf.keras.layers.Dense(784, activation='relu'))\n",
    "fc_model.add(tf.keras.layers.Dense(10))"
   ]
  },
  {
   "cell_type": "code",
   "execution_count": 82,
   "metadata": {},
   "outputs": [
    {
     "name": "stdout",
     "output_type": "stream",
     "text": [
      "Train Result without TA\n",
      "1055\n",
      "Teacher Model\n",
      "Epoch 1: Class_accuracy: 98.12%\n",
      "Epoch 2: Class_accuracy: 98.66%\n",
      "Epoch 3: Class_accuracy: 98.88%\n",
      "Epoch 4: Class_accuracy: 98.95%\n",
      "Epoch 5: Class_accuracy: 99.03%\n",
      "Epoch 6: Class_accuracy: 99.07%\n",
      "Epoch 7: Class_accuracy: 99.04%\n",
      "Epoch 8: Class_accuracy: 99.14%\n",
      "Epoch 9: Class_accuracy: 99.12%\n",
      "Epoch 10: Class_accuracy: 99.23%\n",
      "Epoch 11: Class_accuracy: 99.15%\n",
      "Epoch 12: Class_accuracy: 99.29%\n",
      "70\n",
      "Student Model\n",
      "Epoch 1: Class_accuracy: 96.78%\n",
      "Epoch 2: Class_accuracy: 97.91%\n",
      "Epoch 3: Class_accuracy: 98.18%\n",
      "Epoch 4: Class_accuracy: 98.46%\n",
      "Epoch 5: Class_accuracy: 98.52%\n",
      "Epoch 6: Class_accuracy: 98.70%\n",
      "Epoch 7: Class_accuracy: 98.64%\n",
      "Epoch 8: Class_accuracy: 98.74%\n",
      "Epoch 9: Class_accuracy: 98.81%\n",
      "Epoch 10: Class_accuracy: 98.80%\n",
      "Epoch 11: Class_accuracy: 98.82%\n",
      "Epoch 12: Class_accuracy: 98.85%\n"
     ]
    }
   ],
   "source": [
    "#Train without TA\n",
    "print(\"Train Result without TA\")\n",
    "reset_keras()\n",
    "print(\"Teacher Model\")\n",
    "#train and evaluate the teacher model\n",
    "train_and_evaluate(cnn_model, compute_teacher_loss)\n",
    "\n",
    "reset_keras()\n",
    "print(\"Student Model\")\n",
    "#train and evaluate the student model\n",
    "train_and_evaluate(fc_model, compute_student_loss)"
   ]
  },
  {
   "cell_type": "markdown",
   "metadata": {
    "id": "6dsOmtqdieIC"
   },
   "source": [
    "# (Optional) XAI method to explain models"
   ]
  },
  {
   "cell_type": "code",
   "execution_count": null,
   "metadata": {
    "id": "X0IMIFW8ilPO"
   },
   "outputs": [],
   "source": [
    "# your code start from here for step 13\n"
   ]
  }
 ],
 "metadata": {
  "colab": {
   "provenance": []
  },
  "kernelspec": {
   "display_name": "Python 3 (ipykernel)",
   "language": "python",
   "name": "python3"
  },
  "language_info": {
   "codemirror_mode": {
    "name": "ipython",
    "version": 3
   },
   "file_extension": ".py",
   "mimetype": "text/x-python",
   "name": "python",
   "nbconvert_exporter": "python",
   "pygments_lexer": "ipython3",
   "version": "3.9.13"
  }
 },
 "nbformat": 4,
 "nbformat_minor": 4
}
