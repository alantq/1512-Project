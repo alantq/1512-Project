{
 "cells": [
  {
   "cell_type": "code",
   "execution_count": null,
   "id": "155ebde9-69ec-4a6e-a7f6-2c3a0575af0d",
   "metadata": {},
   "outputs": [],
   "source": [
    "# Install cell, Install if needed\n",
    "\n",
    "#pip install sklearn\n",
    "#pip install Keras-Preprocessing"
   ]
  },
  {
   "cell_type": "code",
   "execution_count": 51,
   "id": "c010c20e-d257-490c-a85c-b5d0f81104aa",
   "metadata": {},
   "outputs": [],
   "source": [
    "#import block\n",
    "\n",
    "import tensorflow.compat.v2 as tf\n",
    "import tensorflow_datasets as tfds\n",
    "from typing import Union\n",
    "import matplotlib.pyplot as plt\n",
    "from keras_flops import get_flops\n",
    "import pandas as pd\n",
    "#ResNet Resource\n",
    "#https://medium.com/@kenneth.ca95/a-guide-to-transfer-learning-with-keras-using-resnet50-a81a4a28084b\n",
    "import tensorflow.keras as K\n",
    "\n",
    "from sklearn.metrics import f1_score\n",
    "from sklearn.metrics import roc_auc_score\n",
    "\n",
    "from keras_preprocessing.image import ImageDataGenerator\n",
    "import numpy as np\n",
    "import os\n",
    "from PIL import Image\n",
    "from skimage import io\n",
    "\n",
    "tf.enable_v2_behavior()"
   ]
  },
  {
   "cell_type": "markdown",
   "id": "5cb79cd6-3c55-4748-b1e8-89b277abb276",
   "metadata": {},
   "source": [
    "# Load Data"
   ]
  },
  {
   "cell_type": "code",
   "execution_count": 63,
   "id": "8bb94ecf-4d0f-45b1-8217-e92386dd8bb7",
   "metadata": {},
   "outputs": [
    {
     "data": {
      "text/html": [
       "<div>\n",
       "<style scoped>\n",
       "    .dataframe tbody tr th:only-of-type {\n",
       "        vertical-align: middle;\n",
       "    }\n",
       "\n",
       "    .dataframe tbody tr th {\n",
       "        vertical-align: top;\n",
       "    }\n",
       "\n",
       "    .dataframe thead th {\n",
       "        text-align: right;\n",
       "    }\n",
       "</style>\n",
       "<table border=\"1\" class=\"dataframe\">\n",
       "  <thead>\n",
       "    <tr style=\"text-align: right;\">\n",
       "      <th></th>\n",
       "      <th>Majority Vote Label</th>\n",
       "      <th>Number of Annotations who Selected SSA(Out of 7)</th>\n",
       "      <th>Partition</th>\n",
       "    </tr>\n",
       "    <tr>\n",
       "      <th>Image Name</th>\n",
       "      <th></th>\n",
       "      <th></th>\n",
       "      <th></th>\n",
       "    </tr>\n",
       "  </thead>\n",
       "  <tbody>\n",
       "    <tr>\n",
       "      <th>MHIST_aaa.png</th>\n",
       "      <td>SSA</td>\n",
       "      <td>6</td>\n",
       "      <td>train</td>\n",
       "    </tr>\n",
       "    <tr>\n",
       "      <th>MHIST_aab.png</th>\n",
       "      <td>HP</td>\n",
       "      <td>0</td>\n",
       "      <td>train</td>\n",
       "    </tr>\n",
       "    <tr>\n",
       "      <th>MHIST_aac.png</th>\n",
       "      <td>SSA</td>\n",
       "      <td>5</td>\n",
       "      <td>train</td>\n",
       "    </tr>\n",
       "    <tr>\n",
       "      <th>MHIST_aae.png</th>\n",
       "      <td>HP</td>\n",
       "      <td>1</td>\n",
       "      <td>train</td>\n",
       "    </tr>\n",
       "    <tr>\n",
       "      <th>MHIST_aaf.png</th>\n",
       "      <td>SSA</td>\n",
       "      <td>5</td>\n",
       "      <td>train</td>\n",
       "    </tr>\n",
       "  </tbody>\n",
       "</table>\n",
       "</div>"
      ],
      "text/plain": [
       "              Majority Vote Label  \\\n",
       "Image Name                          \n",
       "MHIST_aaa.png                 SSA   \n",
       "MHIST_aab.png                  HP   \n",
       "MHIST_aac.png                 SSA   \n",
       "MHIST_aae.png                  HP   \n",
       "MHIST_aaf.png                 SSA   \n",
       "\n",
       "               Number of Annotations who Selected SSA(Out of 7) Partition  \n",
       "Image Name                                                                 \n",
       "MHIST_aaa.png                                                 6     train  \n",
       "MHIST_aab.png                                                 0     train  \n",
       "MHIST_aac.png                                                 5     train  \n",
       "MHIST_aae.png                                                 1     train  \n",
       "MHIST_aaf.png                                                 5     train  "
      ]
     },
     "execution_count": 63,
     "metadata": {},
     "output_type": "execute_result"
    }
   ],
   "source": [
    "#load data use panda\n",
    "\n",
    "#read annotation file\n",
    "annotations = pd.read_csv(\"./annotations.csv\", skiprows = 1,\n",
    "                         names = [\"Image Name\",\"Majority Vote Label\",\"Number of Annotations who Selected SSA(Out of 7)\",\"Partition\"])\n",
    "annotations.head()\n",
    "\n",
    "#Create dataframe\n",
    "df = pd.DataFrame(annotations,\n",
    "                 columns = [\"Image Name\",\"Majority Vote Label\",\"Number of Annotations who Selected SSA(Out of 7)\", \"Partition\"])\n",
    "df.set_index(\"Image Name\",inplace = True)\n",
    "\n",
    "df.head()"
   ]
  },
  {
   "cell_type": "markdown",
   "id": "fed160a9-30d6-415c-9a01-4e3f75cabc32",
   "metadata": {},
   "source": [
    "# Data Augmentation"
   ]
  },
  {
   "cell_type": "code",
   "execution_count": 62,
   "id": "fb97fd30-9843-4ce9-ad81-e0611b60c42e",
   "metadata": {},
   "outputs": [
    {
     "name": "stdout",
     "output_type": "stream",
     "text": [
      "630\n",
      "360\n"
     ]
    }
   ],
   "source": [
    "#resource: https://www.youtube.com/watch?v=ccdssX4rIh8\n",
    "\n",
    "\n",
    "\n",
    "def create_images(partition,label):\n",
    "    SIZE = 224\n",
    "    image_directory = \"images/\"\n",
    "    data_set = []\n",
    "    \n",
    "    datagen = ImageDataGenerator(\n",
    "        rotation_range = 180,\n",
    "        width_shift_range = 0.2,\n",
    "        height_shift_range = 0.2,\n",
    "        shear_range = 0.2,\n",
    "        zoom_range = 0.5,\n",
    "        horizontal_flip = True,\n",
    "        fill_mode = 'nearest'\n",
    "    )\n",
    "    \n",
    "    my_images = os.listdir(image_directory)\n",
    "    length = 0\n",
    "    for i,image_name in enumerate(my_images):\n",
    "        if df.loc[image_name][2] == partition and df.loc[image_name][0] == label:\n",
    "            image = io.imread(image_directory+image_name)\n",
    "            image = Image.fromarray(image,'RGB')\n",
    "            image = image.resize((SIZE,SIZE))\n",
    "            data_set.append(np.array(image))\n",
    "            length = length + 1\n",
    "    x = np.array(data_set)\n",
    "    i = 0\n",
    "    for batch in datagen.flow(x,\n",
    "                              batch_size = 1,\n",
    "                              save_to_dir = partition,\n",
    "                              save_prefix = label,\n",
    "                              save_format = 'png'):\n",
    "        i = i + 1\n",
    "        #change length to change the number of images generates\n",
    "        if i < length:\n",
    "            continue\n",
    "        else:\n",
    "            break\n",
    "\n",
    "#create directory before run the code\n",
    "create_images('train','SSA')\n",
    "create_images('test','SSA')\n",
    "create_images('train','HP')\n",
    "create_images('test','HP')"
   ]
  },
  {
   "cell_type": "markdown",
   "id": "7c5ddb77-3e74-4b92-8f17-2592af56a7ae",
   "metadata": {},
   "source": [
    "# Create Model"
   ]
  },
  {
   "cell_type": "code",
   "execution_count": null,
   "id": "15b7fafc-5cb8-49b1-b575-8e9e8a05c721",
   "metadata": {},
   "outputs": [],
   "source": []
  }
 ],
 "metadata": {
  "kernelspec": {
   "display_name": "Python 3 (ipykernel)",
   "language": "python",
   "name": "python3"
  },
  "language_info": {
   "codemirror_mode": {
    "name": "ipython",
    "version": 3
   },
   "file_extension": ".py",
   "mimetype": "text/x-python",
   "name": "python",
   "nbconvert_exporter": "python",
   "pygments_lexer": "ipython3",
   "version": "3.9.12"
  }
 },
 "nbformat": 4,
 "nbformat_minor": 5
}
