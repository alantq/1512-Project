{
 "cells": [
  {
   "cell_type": "code",
   "execution_count": null,
   "id": "155ebde9-69ec-4a6e-a7f6-2c3a0575af0d",
   "metadata": {},
   "outputs": [],
   "source": [
    "# Install cell, Install if needed\n",
    "\n",
    "#pip install sklearn\n",
    "#pip install Keras-Preprocessing"
   ]
  },
  {
   "cell_type": "code",
   "execution_count": 1,
   "id": "1c03da9d-69c5-43ae-8945-658f60a53b2f",
   "metadata": {},
   "outputs": [
    {
     "data": {
      "text/plain": [
       "True"
      ]
     },
     "execution_count": 1,
     "metadata": {},
     "output_type": "execute_result"
    }
   ],
   "source": [
    "import tensorflow as tf\n",
    "tf.test.is_built_with_cuda()"
   ]
  },
  {
   "cell_type": "code",
   "execution_count": 1,
   "id": "c010c20e-d257-490c-a85c-b5d0f81104aa",
   "metadata": {},
   "outputs": [],
   "source": [
    "#import block\n",
    "\n",
    "import tensorflow.compat.v2 as tf\n",
    "import tensorflow_datasets as tfds\n",
    "from typing import Union\n",
    "import matplotlib.pyplot as plt\n",
    "from keras_flops import get_flops\n",
    "import pandas as pd\n",
    "#ResNet Resource\n",
    "#https://medium.com/@kenneth.ca95/a-guide-to-transfer-learning-with-keras-using-resnet50-a81a4a28084b\n",
    "import tensorflow.keras as K\n",
    "\n",
    "from sklearn.preprocessing import LabelEncoder\n",
    "from sklearn import metrics\n",
    "\n",
    "from keras_preprocessing.image import ImageDataGenerator\n",
    "import numpy as np\n",
    "import os\n",
    "from PIL import Image\n",
    "from skimage import io\n",
    "\n",
    "from keras.models import Model\n",
    "import keras\n",
    "tf.enable_v2_behavior()"
   ]
  },
  {
   "cell_type": "code",
   "execution_count": 2,
   "id": "c7dfa723-85ac-4183-8334-bdb8fa8a3188",
   "metadata": {},
   "outputs": [],
   "source": [
    "#Variable block\n",
    "INITIAL_EPOCHS = 10\n",
    "FINE_TUNE_EPOCHS = 25\n",
    "LEARNING_RATE_TEACHER = 0.0001\n",
    "LEARNING_RATE_STUDENT_KD = 0.001\n",
    "LEARNING_RATE_STUDENT_SC = 0.001"
   ]
  },
  {
   "cell_type": "code",
   "execution_count": 3,
   "id": "6244639d",
   "metadata": {},
   "outputs": [
    {
     "name": "stdout",
     "output_type": "stream",
     "text": [
      "[PhysicalDevice(name='/physical_device:GPU:0', device_type='GPU')]\n"
     ]
    }
   ],
   "source": [
    "physical_devices = tf.config.experimental.list_physical_devices('GPU')\n",
    "print(physical_devices)"
   ]
  },
  {
   "cell_type": "code",
   "execution_count": 4,
   "id": "70aa1ca7",
   "metadata": {},
   "outputs": [],
   "source": [
    "import tensorflow.python.keras.backend as KTF\n",
    "\n",
    "os.environ[\"CUDA_VISIBLE_DEVICES\"]=\"0\" \n",
    "config = tf.compat.v1.ConfigProto()\n",
    "# config.gpu_options.per_process_gpu_memory_fraction = 0.9 #90% GPU-MEM\n",
    "config.gpu_options.allow_growth=True\n",
    "session = tf.compat.v1.Session(config=config)\n",
    "\n",
    "# setup session\n",
    "KTF.set_session(session)"
   ]
  },
  {
   "cell_type": "markdown",
   "id": "5cb79cd6-3c55-4748-b1e8-89b277abb276",
   "metadata": {},
   "source": [
    "# Load Data"
   ]
  },
  {
   "cell_type": "code",
   "execution_count": 5,
   "id": "8bb94ecf-4d0f-45b1-8217-e92386dd8bb7",
   "metadata": {},
   "outputs": [
    {
     "data": {
      "text/html": [
       "<div>\n",
       "<style scoped>\n",
       "    .dataframe tbody tr th:only-of-type {\n",
       "        vertical-align: middle;\n",
       "    }\n",
       "\n",
       "    .dataframe tbody tr th {\n",
       "        vertical-align: top;\n",
       "    }\n",
       "\n",
       "    .dataframe thead th {\n",
       "        text-align: right;\n",
       "    }\n",
       "</style>\n",
       "<table border=\"1\" class=\"dataframe\">\n",
       "  <thead>\n",
       "    <tr style=\"text-align: right;\">\n",
       "      <th></th>\n",
       "      <th>Majority Vote Label</th>\n",
       "      <th>Number of Annotations who Selected SSA(Out of 7)</th>\n",
       "      <th>Partition</th>\n",
       "    </tr>\n",
       "    <tr>\n",
       "      <th>Image Name</th>\n",
       "      <th></th>\n",
       "      <th></th>\n",
       "      <th></th>\n",
       "    </tr>\n",
       "  </thead>\n",
       "  <tbody>\n",
       "    <tr>\n",
       "      <th>MHIST_aaa.png</th>\n",
       "      <td>SSA</td>\n",
       "      <td>6</td>\n",
       "      <td>train</td>\n",
       "    </tr>\n",
       "    <tr>\n",
       "      <th>MHIST_aab.png</th>\n",
       "      <td>HP</td>\n",
       "      <td>0</td>\n",
       "      <td>train</td>\n",
       "    </tr>\n",
       "    <tr>\n",
       "      <th>MHIST_aac.png</th>\n",
       "      <td>SSA</td>\n",
       "      <td>5</td>\n",
       "      <td>train</td>\n",
       "    </tr>\n",
       "    <tr>\n",
       "      <th>MHIST_aae.png</th>\n",
       "      <td>HP</td>\n",
       "      <td>1</td>\n",
       "      <td>train</td>\n",
       "    </tr>\n",
       "    <tr>\n",
       "      <th>MHIST_aaf.png</th>\n",
       "      <td>SSA</td>\n",
       "      <td>5</td>\n",
       "      <td>train</td>\n",
       "    </tr>\n",
       "  </tbody>\n",
       "</table>\n",
       "</div>"
      ],
      "text/plain": [
       "              Majority Vote Label  \\\n",
       "Image Name                          \n",
       "MHIST_aaa.png                 SSA   \n",
       "MHIST_aab.png                  HP   \n",
       "MHIST_aac.png                 SSA   \n",
       "MHIST_aae.png                  HP   \n",
       "MHIST_aaf.png                 SSA   \n",
       "\n",
       "               Number of Annotations who Selected SSA(Out of 7) Partition  \n",
       "Image Name                                                                 \n",
       "MHIST_aaa.png                                                 6     train  \n",
       "MHIST_aab.png                                                 0     train  \n",
       "MHIST_aac.png                                                 5     train  \n",
       "MHIST_aae.png                                                 1     train  \n",
       "MHIST_aaf.png                                                 5     train  "
      ]
     },
     "execution_count": 5,
     "metadata": {},
     "output_type": "execute_result"
    }
   ],
   "source": [
    "#load data use panda\n",
    "\n",
    "#read annotation file\n",
    "annotations = pd.read_csv(\"./annotations.csv\", skiprows = 1,\n",
    "                         names = [\"Image Name\",\"Majority Vote Label\",\"Number of Annotations who Selected SSA(Out of 7)\",\"Partition\"])\n",
    "annotations.head()\n",
    "\n",
    "#Create dataframe\n",
    "df = pd.DataFrame(annotations,\n",
    "                 columns = [\"Image Name\",\"Majority Vote Label\",\"Number of Annotations who Selected SSA(Out of 7)\", \"Partition\"])\n",
    "df.set_index(\"Image Name\",inplace = True)\n",
    "\n",
    "df.head()"
   ]
  },
  {
   "cell_type": "markdown",
   "id": "fed160a9-30d6-415c-9a01-4e3f75cabc32",
   "metadata": {},
   "source": [
    "# Data Augmentation"
   ]
  },
  {
   "cell_type": "code",
   "execution_count": 6,
   "id": "fb97fd30-9843-4ce9-ad81-e0611b60c42e",
   "metadata": {},
   "outputs": [
    {
     "name": "stdout",
     "output_type": "stream",
     "text": [
      "Test Image Shape: (1954, 224, 224, 3)\n",
      "Test Image label: (1954,)\n",
      "Train Image Shape: (6525, 224, 224, 3)\n",
      "Train Label Shape: (6525,)\n"
     ]
    }
   ],
   "source": [
    "#resource: https://www.youtube.com/watch?v=ccdssX4rIh8\n",
    "SIZE = 224\n",
    "image_directory = \"images/\"\n",
    "\n",
    "datagen = ImageDataGenerator(\n",
    "    rotation_range = 180,\n",
    "    width_shift_range = 0.2,\n",
    "    height_shift_range = 0.2,\n",
    "    shear_range = 0.2,\n",
    "    zoom_range = 0.5,\n",
    "    horizontal_flip = True,\n",
    "    fill_mode = 'nearest'\n",
    ")\n",
    "\n",
    "all_images = os.listdir(image_directory)\n",
    "\n",
    "#read test images and process them\n",
    "test_images = []\n",
    "test_labels = []\n",
    "for i, image_name in enumerate(all_images):\n",
    "    if df.loc[image_name][2] == 'test':\n",
    "        #load test image and label\n",
    "        image = io.imread(image_directory+image_name)\n",
    "        image = Image.fromarray(image, 'RGB')\n",
    "        image = image.resize((SIZE,SIZE))\n",
    "        image_array = np.array(image)\n",
    "        test_images.append(image_array)\n",
    "        test_labels.append(df.loc[image_name][0])\n",
    "        image_array = image_array.reshape((1,)+image_array.shape)\n",
    "        #data augmentation\n",
    "        #image_array = expand_dims(image_array,0)\n",
    "        iterator = datagen.flow(image_array,batch_size = 1)\n",
    "        for i in range(1,2):\n",
    "            batch = iterator.next()\n",
    "            image = batch[0].astype('uint8')\n",
    "            test_images.append(image)\n",
    "            test_labels.append(df.loc[image_name][0])\n",
    "            \n",
    "test_images = np.array(test_images)\n",
    "test_labels = np.array(test_labels)\n",
    "print(\"Test Image Shape: {}\".format(test_images.shape))\n",
    "print(\"Test Image label: {}\".format(test_labels.shape))\n",
    "\n",
    "#read train images and process them\n",
    "train_images = []\n",
    "train_labels = []\n",
    "for i, image_name in enumerate(all_images):\n",
    "    if df.loc[image_name][2] == 'train':\n",
    "        image = io.imread(image_directory+image_name)\n",
    "        image = Image.fromarray(image,'RGB')\n",
    "        image = image.resize((SIZE,SIZE))\n",
    "        image_array = np.array(image)\n",
    "        train_images.append(image_array)\n",
    "        train_labels.append(df.loc[image_name][0])\n",
    "        image_array = image_array.reshape((1,)+image_array.shape)\n",
    "        iterator = datagen.flow(image_array,batch_size = 1)\n",
    "        for i in range(1,3):\n",
    "            batch = iterator.next()\n",
    "            image = batch[0].astype('uint8')\n",
    "            train_images.append(image)\n",
    "            train_labels.append(df.loc[image_name][0])\n",
    "train_images = np.array(train_images)\n",
    "train_labels = np.array(train_labels)\n",
    "print(\"Train Image Shape: {}\".format(train_images.shape))\n",
    "print(\"Train Label Shape: {}\".format(train_labels.shape))"
   ]
  },
  {
   "cell_type": "code",
   "execution_count": 7,
   "id": "dc340892-92bb-40ca-8c19-76d665867754",
   "metadata": {},
   "outputs": [],
   "source": [
    "#normalize the test images and train images\n",
    "train_images_normalized = train_images.astype('float32')/255.0\n",
    "test_images_normalized = test_images.astype('float32')/255.0\n",
    "\n",
    "#encode the labels\n",
    "encoder = LabelEncoder()\n",
    "encoder.fit(train_labels)\n",
    "train_labels_encoded = encoder.transform(train_labels)\n",
    "test_labels_encoded = encoder.transform(test_labels)"
   ]
  },
  {
   "cell_type": "markdown",
   "id": "7c5ddb77-3e74-4b92-8f17-2592af56a7ae",
   "metadata": {},
   "source": [
    "# Create Model"
   ]
  },
  {
   "cell_type": "code",
   "execution_count": 8,
   "id": "15b7fafc-5cb8-49b1-b575-8e9e8a05c721",
   "metadata": {},
   "outputs": [],
   "source": [
    "#teacher model\n",
    "\n",
    "def teacher_model():\n",
    "    res_model = K.applications.resnet_v2.ResNet50V2(include_top = False, weights=\"imagenet\",input_shape=(224,224,3))\n",
    "    for layer in res_model.layers:\n",
    "        layer.trainable = False\n",
    "    x = K.layers.Flatten()(res_model.output)\n",
    "    outputs = K.layers.Dense(2,activation=\"softmax\")(x) \n",
    "    teacher = Model(inputs = res_model.input, outputs = outputs)\n",
    "    return teacher\n",
    "\n",
    "#student model\n",
    "def student_model():\n",
    "    mob_model = K.applications.mobilenet_v2.MobileNetV2(include_top = False, weights=\"imagenet\", input_shape=(224,224,3))\n",
    "    for layer in mob_model.layers:\n",
    "        layer.trainable = False\n",
    "    x = K.layers.Flatten()(mob_model.output)\n",
    "    outputs = K.layers.Dense(2, activation = \"softmax\")(x)\n",
    "    student = Model(inputs = mob_model.input, outputs = outputs)\n",
    "    return student"
   ]
  },
  {
   "cell_type": "code",
   "execution_count": 12,
   "id": "03e41fff-3052-4b55-91cb-6eaf12c2fde8",
   "metadata": {},
   "outputs": [],
   "source": [
    "class Distiller(Model):\n",
    "    def __init__(self, student, teacher):\n",
    "        super(Distiller, self).__init__()\n",
    "        self.teacher = teacher\n",
    "        self.student = student\n",
    "\n",
    "    def compile(\n",
    "        self,\n",
    "        optimizer,\n",
    "        metrics,\n",
    "        student_loss_fn,\n",
    "        distillation_loss_fn,\n",
    "        alpha=0.5,\n",
    "        temperature=4,\n",
    "    ):\n",
    "        super(Distiller, self).compile(optimizer=optimizer, metrics=metrics)\n",
    "        self.student_loss_fn = student_loss_fn\n",
    "        self.distillation_loss_fn = distillation_loss_fn\n",
    "        self.alpha = alpha\n",
    "        self.temperature = temperature\n",
    "\n",
    "    def train_step(self, data):\n",
    "        # Unpack data\n",
    "        x, y = data\n",
    "\n",
    "        # Forward pass of teacher\n",
    "        teacher_predictions = self.teacher(x, training=False)\n",
    "        with tf.GradientTape() as tape:\n",
    "            # Forward pass of student\n",
    "            student_predictions = self.student(x, training=True)\n",
    "\n",
    "            # Compute losses\n",
    "            student_loss = self.student_loss_fn(y, student_predictions)\n",
    "            distillation_loss = self.distillation_loss_fn(\n",
    "                tf.nn.softmax(teacher_predictions / self.temperature, axis=1),\n",
    "                tf.nn.softmax(student_predictions / self.temperature, axis=1),\n",
    "            )\n",
    "            loss = self.alpha * student_loss + (1 - self.alpha) * distillation_loss\n",
    "\n",
    "        # Compute gradients\n",
    "        trainable_vars = self.student.trainable_variables\n",
    "        gradients = tape.gradient(loss, trainable_vars)\n",
    "        # Update weights\n",
    "        self.optimizer.apply_gradients(zip(gradients, trainable_vars))\n",
    "        # Update the metrics configured in `compile()`.\n",
    "        self.compiled_metrics.update_state(y, student_predictions)\n",
    "        # Return a dict of performance\n",
    "        results = {m.name: m.result() for m in self.metrics}\n",
    "        results.update(\n",
    "            {\"student_loss\": student_loss, \"distillation_loss\": distillation_loss}\n",
    "        )\n",
    "        return results\n",
    "\n",
    "    def test_step(self, data):\n",
    "        # Unpack the data\n",
    "        x, y = data\n",
    "        # Compute predictions\n",
    "        y_prediction = self.student(x, training=False)\n",
    "        # Calculate the loss\n",
    "        student_loss = self.student_loss_fn(y, y_prediction)\n",
    "        # Update the metrics.\n",
    "        self.compiled_metrics.update_state(y, y_prediction)\n",
    "        # Return a dict of performance\n",
    "        results = {m.name: m.result() for m in self.metrics}\n",
    "        results.update({\"student_loss\": student_loss})\n",
    "        # return results\n",
    "        return y_prediction"
   ]
  },
  {
   "cell_type": "markdown",
   "id": "ae632712-a5e8-439f-927c-489e56e99e35",
   "metadata": {},
   "source": [
    "# Model Train"
   ]
  },
  {
   "cell_type": "markdown",
   "id": "cc0b55cd",
   "metadata": {},
   "source": [
    "## Fine Tuning"
   ]
  },
  {
   "cell_type": "code",
   "execution_count": 9,
   "id": "fd998619",
   "metadata": {},
   "outputs": [
    {
     "name": "stdout",
     "output_type": "stream",
     "text": [
      "Epoch 1/25\n",
      "204/204 [==============================] - 21s 70ms/step - loss: 0.7623 - sparse_categorical_accuracy: 0.7367\n",
      "Epoch 2/25\n",
      "204/204 [==============================] - 14s 67ms/step - loss: 0.2650 - sparse_categorical_accuracy: 0.8926\n",
      "Epoch 3/25\n",
      "204/204 [==============================] - 14s 67ms/step - loss: 0.1092 - sparse_categorical_accuracy: 0.9621\n",
      "Epoch 4/25\n",
      "204/204 [==============================] - 14s 70ms/step - loss: 0.0556 - sparse_categorical_accuracy: 0.9900\n",
      "Epoch 5/25\n",
      "204/204 [==============================] - 14s 68ms/step - loss: 0.0290 - sparse_categorical_accuracy: 0.9991\n",
      "Epoch 6/25\n",
      "204/204 [==============================] - 14s 68ms/step - loss: 0.0199 - sparse_categorical_accuracy: 1.0000\n",
      "Epoch 7/25\n",
      "204/204 [==============================] - 14s 67ms/step - loss: 0.0153 - sparse_categorical_accuracy: 1.0000\n",
      "Epoch 8/25\n",
      "204/204 [==============================] - 14s 68ms/step - loss: 0.0119 - sparse_categorical_accuracy: 1.0000\n",
      "Epoch 9/25\n",
      "204/204 [==============================] - 14s 68ms/step - loss: 0.0098 - sparse_categorical_accuracy: 1.0000\n",
      "Epoch 10/25\n",
      "204/204 [==============================] - 14s 69ms/step - loss: 0.0082 - sparse_categorical_accuracy: 1.0000\n",
      "Epoch 11/25\n",
      "204/204 [==============================] - 14s 68ms/step - loss: 0.0070 - sparse_categorical_accuracy: 1.0000\n",
      "Epoch 12/25\n",
      "204/204 [==============================] - 14s 67ms/step - loss: 0.0059 - sparse_categorical_accuracy: 1.0000\n",
      "Epoch 13/25\n",
      "204/204 [==============================] - 14s 68ms/step - loss: 0.0051 - sparse_categorical_accuracy: 1.0000\n",
      "Epoch 14/25\n",
      "204/204 [==============================] - 14s 67ms/step - loss: 0.0044 - sparse_categorical_accuracy: 1.0000\n",
      "Epoch 15/25\n",
      "204/204 [==============================] - 14s 67ms/step - loss: 0.0039 - sparse_categorical_accuracy: 1.0000\n",
      "Epoch 16/25\n",
      "204/204 [==============================] - 14s 70ms/step - loss: 0.0034 - sparse_categorical_accuracy: 1.0000\n",
      "Epoch 17/25\n",
      "204/204 [==============================] - 14s 70ms/step - loss: 0.0030 - sparse_categorical_accuracy: 1.0000\n",
      "Epoch 18/25\n",
      "204/204 [==============================] - 14s 70ms/step - loss: 0.0026 - sparse_categorical_accuracy: 1.0000\n",
      "Epoch 19/25\n",
      "204/204 [==============================] - 14s 70ms/step - loss: 0.0023 - sparse_categorical_accuracy: 1.0000\n",
      "Epoch 20/25\n",
      "204/204 [==============================] - 14s 68ms/step - loss: 0.0020 - sparse_categorical_accuracy: 1.0000\n",
      "Epoch 21/25\n",
      "204/204 [==============================] - 14s 68ms/step - loss: 0.0018 - sparse_categorical_accuracy: 1.0000\n",
      "Epoch 22/25\n",
      "204/204 [==============================] - 14s 70ms/step - loss: 0.0016 - sparse_categorical_accuracy: 1.0000\n",
      "Epoch 23/25\n",
      "204/204 [==============================] - 14s 69ms/step - loss: 0.0014 - sparse_categorical_accuracy: 1.0000\n",
      "Epoch 24/25\n",
      "204/204 [==============================] - 14s 71ms/step - loss: 0.0013 - sparse_categorical_accuracy: 1.0000\n",
      "Epoch 25/25\n",
      "204/204 [==============================] - 14s 68ms/step - loss: 0.0012 - sparse_categorical_accuracy: 1.0000\n"
     ]
    },
    {
     "data": {
      "text/plain": [
       "<keras.callbacks.History at 0x2619bf3b9d0>"
      ]
     },
     "execution_count": 9,
     "metadata": {},
     "output_type": "execute_result"
    }
   ],
   "source": [
    "#Train teacher\n",
    "teacher = teacher_model()\n",
    "\n",
    "teacher.compile(\n",
    "    optimizer = tf.keras.optimizers.Adam(learning_rate = LEARNING_RATE_TEACHER),\n",
    "    loss = keras.losses.SparseCategoricalCrossentropy(),\n",
    "    metrics = [keras.metrics.SparseCategoricalAccuracy()]\n",
    ")\n",
    "teacher.fit(train_images_normalized, train_labels_encoded, epochs = FINE_TUNE_EPOCHS)"
   ]
  },
  {
   "cell_type": "code",
   "execution_count": 10,
   "id": "0a3f2368",
   "metadata": {},
   "outputs": [
    {
     "name": "stdout",
     "output_type": "stream",
     "text": [
      "62/62 [==============================] - 5s 71ms/step\n",
      "Teacher Model Fine Tune f1 score: 0.665648854961832\n",
      "Teacher Model Fine Tune AUC score: 0.7403790743742122\n"
     ]
    }
   ],
   "source": [
    "y_pred = teacher.predict(test_images_normalized)\n",
    "y_pred = np.rint(y_pred)\n",
    "result = np.argmax(y_pred,axis = 1)\n",
    "f1_score_result = metrics.f1_score(test_labels_encoded,result)\n",
    "auc_score_result = metrics.roc_auc_score(test_labels_encoded, result)\n",
    "print(\"Teacher Model Fine Tune f1 score: {}\".format(f1_score_result))\n",
    "print(\"Teacher Model Fine Tune AUC score: {}\".format(auc_score_result))"
   ]
  },
  {
   "cell_type": "code",
   "execution_count": 14,
   "id": "329898ef",
   "metadata": {},
   "outputs": [],
   "source": [
    "from keras.backend import set_session\n",
    "from keras.backend import clear_session\n",
    "from keras.backend import get_session\n",
    "import gc\n",
    "\n",
    "# Reset Keras Session\n",
    "def reset_keras():\n",
    "    sess = get_session()\n",
    "    clear_session()\n",
    "    sess.close()\n",
    "    sess = get_session()\n",
    "\n",
    "    try:\n",
    "        del classifier # this is from global space - change this as you need\n",
    "    except:\n",
    "        pass\n",
    "\n",
    "    print(gc.collect()) # if it does something you should see a number as output\n",
    "\n",
    "    # use the same config as you used to create the session\n",
    "    config = tf.compat.v1.ConfigProto()\n",
    "    config.gpu_options.per_process_gpu_memory_fraction = 1\n",
    "    config.gpu_options.visible_device_list = \"0\"\n",
    "    set_session(tf.compat.v1.Session(config=config))"
   ]
  },
  {
   "cell_type": "code",
   "execution_count": 27,
   "id": "b6227900",
   "metadata": {},
   "outputs": [
    {
     "name": "stdout",
     "output_type": "stream",
     "text": [
      "110\n"
     ]
    }
   ],
   "source": [
    "reset_keras()"
   ]
  },
  {
   "cell_type": "code",
   "execution_count": 19,
   "id": "13d38d92",
   "metadata": {
    "scrolled": true
   },
   "outputs": [
    {
     "name": "stdout",
     "output_type": "stream",
     "text": [
      "Epoch 1/25\n",
      "204/204 [==============================] - 23s 97ms/step - sparse_categorical_accuracy: 0.7316 - student_loss: 3.1078 - distillation_loss: 0.1150\n",
      "Epoch 2/25\n",
      "204/204 [==============================] - 20s 97ms/step - sparse_categorical_accuracy: 0.8520 - student_loss: 1.1621 - distillation_loss: 0.0615\n",
      "Epoch 3/25\n",
      "204/204 [==============================] - 20s 97ms/step - sparse_categorical_accuracy: 0.8981 - student_loss: 0.8152 - distillation_loss: 0.0427\n",
      "Epoch 4/25\n",
      "204/204 [==============================] - 20s 97ms/step - sparse_categorical_accuracy: 0.9295 - student_loss: 0.4891 - distillation_loss: 0.0288\n",
      "Epoch 5/25\n",
      "204/204 [==============================] - 20s 97ms/step - sparse_categorical_accuracy: 0.9494 - student_loss: 0.3150 - distillation_loss: 0.0205\n",
      "Epoch 6/25\n",
      "204/204 [==============================] - 20s 97ms/step - sparse_categorical_accuracy: 0.9574 - student_loss: 0.2779 - distillation_loss: 0.0174\n",
      "Epoch 7/25\n",
      "204/204 [==============================] - 20s 97ms/step - sparse_categorical_accuracy: 0.9678 - student_loss: 0.2120 - distillation_loss: 0.0134\n",
      "Epoch 8/25\n",
      "204/204 [==============================] - 20s 97ms/step - sparse_categorical_accuracy: 0.9753 - student_loss: 0.1195 - distillation_loss: 0.0092\n",
      "Epoch 9/25\n",
      "204/204 [==============================] - 20s 97ms/step - sparse_categorical_accuracy: 0.9729 - student_loss: 0.1413 - distillation_loss: 0.0105\n",
      "Epoch 10/25\n",
      "204/204 [==============================] - 20s 97ms/step - sparse_categorical_accuracy: 0.9758 - student_loss: 0.1571 - distillation_loss: 0.0099\n",
      "Epoch 11/25\n",
      "204/204 [==============================] - 20s 97ms/step - sparse_categorical_accuracy: 0.9805 - student_loss: 0.1211 - distillation_loss: 0.0076\n",
      "Epoch 12/25\n",
      "204/204 [==============================] - 20s 97ms/step - sparse_categorical_accuracy: 0.9798 - student_loss: 0.1195 - distillation_loss: 0.0081\n",
      "Epoch 13/25\n",
      "204/204 [==============================] - 20s 96ms/step - sparse_categorical_accuracy: 0.9672 - student_loss: 0.2721 - distillation_loss: 0.0134\n",
      "Epoch 14/25\n",
      "204/204 [==============================] - 20s 97ms/step - sparse_categorical_accuracy: 0.9723 - student_loss: 0.2259 - distillation_loss: 0.0114\n",
      "Epoch 15/25\n",
      "204/204 [==============================] - 20s 97ms/step - sparse_categorical_accuracy: 0.9735 - student_loss: 0.2408 - distillation_loss: 0.0111\n",
      "Epoch 16/25\n",
      "204/204 [==============================] - 20s 97ms/step - sparse_categorical_accuracy: 0.9706 - student_loss: 0.3109 - distillation_loss: 0.0128\n",
      "Epoch 17/25\n",
      "204/204 [==============================] - 20s 97ms/step - sparse_categorical_accuracy: 0.9608 - student_loss: 0.4656 - distillation_loss: 0.0173\n",
      "Epoch 18/25\n",
      "204/204 [==============================] - 20s 97ms/step - sparse_categorical_accuracy: 0.9724 - student_loss: 0.2930 - distillation_loss: 0.0118\n",
      "Epoch 19/25\n",
      "204/204 [==============================] - 20s 97ms/step - sparse_categorical_accuracy: 0.9787 - student_loss: 0.1855 - distillation_loss: 0.0089\n",
      "Epoch 20/25\n",
      "204/204 [==============================] - 20s 97ms/step - sparse_categorical_accuracy: 0.9877 - student_loss: 0.1070 - distillation_loss: 0.0049\n",
      "Epoch 21/25\n",
      "204/204 [==============================] - 20s 97ms/step - sparse_categorical_accuracy: 0.9862 - student_loss: 0.1159 - distillation_loss: 0.0058\n",
      "Epoch 22/25\n",
      "204/204 [==============================] - 20s 97ms/step - sparse_categorical_accuracy: 0.9902 - student_loss: 0.0907 - distillation_loss: 0.0044\n",
      "Epoch 23/25\n",
      "204/204 [==============================] - 20s 97ms/step - sparse_categorical_accuracy: 0.9773 - student_loss: 0.2560 - distillation_loss: 0.0097\n",
      "Epoch 24/25\n",
      "204/204 [==============================] - 20s 97ms/step - sparse_categorical_accuracy: 0.9842 - student_loss: 0.1678 - distillation_loss: 0.0069\n",
      "Epoch 25/25\n",
      "204/204 [==============================] - 20s 97ms/step - sparse_categorical_accuracy: 0.9917 - student_loss: 0.0674 - distillation_loss: 0.0036\n",
      "1363\n",
      "Epoch 1/25\n",
      "204/204 [==============================] - 23s 97ms/step - sparse_categorical_accuracy: 0.7293 - student_loss: 2.8170 - distillation_loss: 0.0305\n",
      "Epoch 2/25\n",
      "204/204 [==============================] - 20s 98ms/step - sparse_categorical_accuracy: 0.8467 - student_loss: 1.4316 - distillation_loss: 0.0171\n",
      "Epoch 3/25\n",
      "204/204 [==============================] - 20s 98ms/step - sparse_categorical_accuracy: 0.9171 - student_loss: 0.6090 - distillation_loss: 0.0092\n",
      "Epoch 4/25\n",
      "204/204 [==============================] - 20s 97ms/step - sparse_categorical_accuracy: 0.9278 - student_loss: 0.4710 - distillation_loss: 0.0077\n",
      "Epoch 5/25\n",
      "204/204 [==============================] - 20s 97ms/step - sparse_categorical_accuracy: 0.9491 - student_loss: 0.3042 - distillation_loss: 0.0055\n",
      "Epoch 6/25\n",
      "204/204 [==============================] - 20s 98ms/step - sparse_categorical_accuracy: 0.9598 - student_loss: 0.2737 - distillation_loss: 0.0044\n",
      "Epoch 7/25\n",
      "204/204 [==============================] - 20s 97ms/step - sparse_categorical_accuracy: 0.9648 - student_loss: 0.2252 - distillation_loss: 0.0038\n",
      "Epoch 8/25\n",
      "204/204 [==============================] - 20s 98ms/step - sparse_categorical_accuracy: 0.9729 - student_loss: 0.1629 - distillation_loss: 0.0029\n",
      "Epoch 9/25\n",
      "204/204 [==============================] - 20s 97ms/step - sparse_categorical_accuracy: 0.9672 - student_loss: 0.2120 - distillation_loss: 0.0035\n",
      "Epoch 10/25\n",
      "204/204 [==============================] - 20s 98ms/step - sparse_categorical_accuracy: 0.9724 - student_loss: 0.2060 - distillation_loss: 0.0031\n",
      "Epoch 11/25\n",
      "204/204 [==============================] - 20s 98ms/step - sparse_categorical_accuracy: 0.9759 - student_loss: 0.1659 - distillation_loss: 0.0026\n",
      "Epoch 12/25\n",
      "204/204 [==============================] - 20s 98ms/step - sparse_categorical_accuracy: 0.9735 - student_loss: 0.2077 - distillation_loss: 0.0029\n",
      "Epoch 13/25\n",
      "204/204 [==============================] - 20s 98ms/step - sparse_categorical_accuracy: 0.9746 - student_loss: 0.2118 - distillation_loss: 0.0028\n",
      "Epoch 14/25\n",
      "204/204 [==============================] - 20s 98ms/step - sparse_categorical_accuracy: 0.9687 - student_loss: 0.3028 - distillation_loss: 0.0035\n",
      "Epoch 15/25\n",
      "204/204 [==============================] - 20s 98ms/step - sparse_categorical_accuracy: 0.9733 - student_loss: 0.2206 - distillation_loss: 0.0029\n",
      "Epoch 16/25\n",
      "204/204 [==============================] - 20s 98ms/step - sparse_categorical_accuracy: 0.9775 - student_loss: 0.1927 - distillation_loss: 0.0025\n",
      "Epoch 17/25\n",
      "204/204 [==============================] - 20s 98ms/step - sparse_categorical_accuracy: 0.9516 - student_loss: 0.8764 - distillation_loss: 0.0056\n",
      "Epoch 18/25\n",
      "204/204 [==============================] - 20s 98ms/step - sparse_categorical_accuracy: 0.9897 - student_loss: 0.0922 - distillation_loss: 0.0012\n",
      "Epoch 19/25\n",
      "204/204 [==============================] - 20s 98ms/step - sparse_categorical_accuracy: 0.9888 - student_loss: 0.0782 - distillation_loss: 0.0013\n",
      "Epoch 20/25\n",
      "204/204 [==============================] - 20s 98ms/step - sparse_categorical_accuracy: 0.9874 - student_loss: 0.1134 - distillation_loss: 0.0014\n",
      "Epoch 21/25\n",
      "204/204 [==============================] - 20s 98ms/step - sparse_categorical_accuracy: 0.9873 - student_loss: 0.1038 - distillation_loss: 0.0014\n",
      "Epoch 22/25\n",
      "204/204 [==============================] - 19s 94ms/step - sparse_categorical_accuracy: 0.9913 - student_loss: 0.0603 - distillation_loss: 9.5305e-04\n",
      "Epoch 23/25\n",
      "204/204 [==============================] - 19s 91ms/step - sparse_categorical_accuracy: 0.9813 - student_loss: 0.1936 - distillation_loss: 0.0021\n",
      "Epoch 24/25\n",
      "204/204 [==============================] - 19s 91ms/step - sparse_categorical_accuracy: 0.9890 - student_loss: 0.1048 - distillation_loss: 0.0012\n",
      "Epoch 25/25\n",
      "204/204 [==============================] - 19s 91ms/step - sparse_categorical_accuracy: 0.9888 - student_loss: 0.1105 - distillation_loss: 0.0013\n",
      "3365\n",
      "Epoch 1/25\n",
      "204/204 [==============================] - 22s 93ms/step - sparse_categorical_accuracy: 0.7280 - student_loss: 2.6516 - distillation_loss: 0.0078\n",
      "Epoch 2/25\n"
     ]
    },
    {
     "name": "stdout",
     "output_type": "stream",
     "text": [
      "204/204 [==============================] - 19s 93ms/step - sparse_categorical_accuracy: 0.8616 - student_loss: 1.1762 - distillation_loss: 0.0039\n",
      "Epoch 3/25\n",
      "204/204 [==============================] - 19s 93ms/step - sparse_categorical_accuracy: 0.9100 - student_loss: 0.6181 - distillation_loss: 0.0025\n",
      "Epoch 4/25\n",
      "204/204 [==============================] - 19s 93ms/step - sparse_categorical_accuracy: 0.9318 - student_loss: 0.5024 - distillation_loss: 0.0019\n",
      "Epoch 5/25\n",
      "204/204 [==============================] - 19s 93ms/step - sparse_categorical_accuracy: 0.9510 - student_loss: 0.3171 - distillation_loss: 0.0013\n",
      "Epoch 6/25\n",
      "204/204 [==============================] - 19s 92ms/step - sparse_categorical_accuracy: 0.9657 - student_loss: 0.2096 - distillation_loss: 9.1173e-04\n",
      "Epoch 7/25\n",
      "204/204 [==============================] - 19s 93ms/step - sparse_categorical_accuracy: 0.9510 - student_loss: 0.3510 - distillation_loss: 0.0014\n",
      "Epoch 8/25\n",
      "204/204 [==============================] - 19s 93ms/step - sparse_categorical_accuracy: 0.9569 - student_loss: 0.3406 - distillation_loss: 0.0012\n",
      "Epoch 9/25\n",
      "204/204 [==============================] - 19s 92ms/step - sparse_categorical_accuracy: 0.9655 - student_loss: 0.2800 - distillation_loss: 0.0010\n",
      "Epoch 10/25\n",
      "204/204 [==============================] - 19s 93ms/step - sparse_categorical_accuracy: 0.9670 - student_loss: 0.2756 - distillation_loss: 9.3799e-04\n",
      "Epoch 11/25\n",
      "204/204 [==============================] - 19s 93ms/step - sparse_categorical_accuracy: 0.9657 - student_loss: 0.2631 - distillation_loss: 9.6119e-04\n",
      "Epoch 12/25\n",
      "204/204 [==============================] - 19s 93ms/step - sparse_categorical_accuracy: 0.9785 - student_loss: 0.1592 - distillation_loss: 6.1278e-04\n",
      "Epoch 13/25\n",
      "204/204 [==============================] - 19s 93ms/step - sparse_categorical_accuracy: 0.9864 - student_loss: 0.0935 - distillation_loss: 3.8017e-04\n",
      "Epoch 14/25\n",
      "204/204 [==============================] - 19s 93ms/step - sparse_categorical_accuracy: 0.9716 - student_loss: 0.2271 - distillation_loss: 8.1527e-04\n",
      "Epoch 15/25\n",
      "204/204 [==============================] - 19s 93ms/step - sparse_categorical_accuracy: 0.9666 - student_loss: 0.3082 - distillation_loss: 9.3782e-04\n",
      "Epoch 16/25\n",
      "204/204 [==============================] - 19s 93ms/step - sparse_categorical_accuracy: 0.9830 - student_loss: 0.1404 - distillation_loss: 4.5946e-04\n",
      "Epoch 17/25\n",
      "204/204 [==============================] - 19s 93ms/step - sparse_categorical_accuracy: 0.9811 - student_loss: 0.1881 - distillation_loss: 5.4620e-04\n",
      "Epoch 18/25\n",
      "204/204 [==============================] - 19s 93ms/step - sparse_categorical_accuracy: 0.9802 - student_loss: 0.1807 - distillation_loss: 5.5862e-04\n",
      "Epoch 19/25\n",
      "204/204 [==============================] - 19s 93ms/step - sparse_categorical_accuracy: 0.9764 - student_loss: 0.2429 - distillation_loss: 6.6922e-04\n",
      "Epoch 20/25\n",
      "204/204 [==============================] - 19s 93ms/step - sparse_categorical_accuracy: 0.9787 - student_loss: 0.2203 - distillation_loss: 6.1345e-04\n",
      "Epoch 21/25\n",
      "204/204 [==============================] - 19s 93ms/step - sparse_categorical_accuracy: 0.9805 - student_loss: 0.1899 - distillation_loss: 5.6067e-04\n",
      "Epoch 22/25\n",
      "204/204 [==============================] - 19s 93ms/step - sparse_categorical_accuracy: 0.9864 - student_loss: 0.1106 - distillation_loss: 3.6476e-04\n",
      "Epoch 23/25\n",
      "204/204 [==============================] - 19s 93ms/step - sparse_categorical_accuracy: 0.9887 - student_loss: 0.0925 - distillation_loss: 3.0929e-04\n",
      "Epoch 24/25\n",
      "204/204 [==============================] - 19s 93ms/step - sparse_categorical_accuracy: 0.9899 - student_loss: 0.1004 - distillation_loss: 2.9248e-04\n",
      "Epoch 25/25\n",
      "204/204 [==============================] - 19s 93ms/step - sparse_categorical_accuracy: 0.9887 - student_loss: 0.1154 - distillation_loss: 3.2323e-04\n",
      "3365\n",
      "Epoch 1/25\n",
      "204/204 [==============================] - 21s 92ms/step - sparse_categorical_accuracy: 0.7341 - student_loss: 2.9633 - distillation_loss: 4.7891e-04\n",
      "Epoch 2/25\n",
      "204/204 [==============================] - 19s 92ms/step - sparse_categorical_accuracy: 0.8576 - student_loss: 1.0916 - distillation_loss: 2.5059e-04\n",
      "Epoch 3/25\n",
      "204/204 [==============================] - 19s 92ms/step - sparse_categorical_accuracy: 0.8987 - student_loss: 0.6862 - distillation_loss: 1.7374e-04\n",
      "Epoch 4/25\n",
      "204/204 [==============================] - 18s 89ms/step - sparse_categorical_accuracy: 0.9300 - student_loss: 0.5053 - distillation_loss: 1.2059e-04\n",
      "Epoch 5/25\n",
      "204/204 [==============================] - 18s 87ms/step - sparse_categorical_accuracy: 0.9108 - student_loss: 0.7663 - distillation_loss: 1.5771e-04\n",
      "Epoch 6/25\n",
      "204/204 [==============================] - 20s 99ms/step - sparse_categorical_accuracy: 0.9511 - student_loss: 0.3467 - distillation_loss: 8.4046e-05\n",
      "Epoch 7/25\n",
      "204/204 [==============================] - 20s 99ms/step - sparse_categorical_accuracy: 0.9575 - student_loss: 0.3233 - distillation_loss: 7.4738e-05\n",
      "Epoch 8/25\n",
      "204/204 [==============================] - 20s 100ms/step - sparse_categorical_accuracy: 0.9758 - student_loss: 0.1513 - distillation_loss: 4.1061e-05\n",
      "Epoch 9/25\n",
      "204/204 [==============================] - 20s 100ms/step - sparse_categorical_accuracy: 0.9815 - student_loss: 0.0913 - distillation_loss: 3.0837e-05\n",
      "Epoch 10/25\n",
      "204/204 [==============================] - 20s 100ms/step - sparse_categorical_accuracy: 0.9764 - student_loss: 0.1522 - distillation_loss: 4.1537e-05\n",
      "Epoch 11/25\n",
      "204/204 [==============================] - 20s 99ms/step - sparse_categorical_accuracy: 0.9678 - student_loss: 0.2254 - distillation_loss: 5.7037e-05\n",
      "Epoch 12/25\n",
      "204/204 [==============================] - 20s 99ms/step - sparse_categorical_accuracy: 0.9713 - student_loss: 0.2401 - distillation_loss: 5.0978e-05\n",
      "Epoch 13/25\n",
      "204/204 [==============================] - 20s 98ms/step - sparse_categorical_accuracy: 0.9819 - student_loss: 0.1280 - distillation_loss: 3.1066e-05\n",
      "Epoch 14/25\n",
      "204/204 [==============================] - 20s 98ms/step - sparse_categorical_accuracy: 0.9799 - student_loss: 0.1609 - distillation_loss: 3.6255e-05\n",
      "Epoch 15/25\n",
      "204/204 [==============================] - 20s 98ms/step - sparse_categorical_accuracy: 0.9815 - student_loss: 0.1441 - distillation_loss: 3.1817e-05\n",
      "Epoch 16/25\n",
      "204/204 [==============================] - 20s 99ms/step - sparse_categorical_accuracy: 0.9704 - student_loss: 0.2692 - distillation_loss: 5.2416e-05\n",
      "Epoch 17/25\n",
      "204/204 [==============================] - 20s 98ms/step - sparse_categorical_accuracy: 0.9672 - student_loss: 0.3198 - distillation_loss: 5.9019e-05\n",
      "Epoch 18/25\n",
      "204/204 [==============================] - 20s 99ms/step - sparse_categorical_accuracy: 0.9709 - student_loss: 0.3051 - distillation_loss: 5.2898e-05\n",
      "Epoch 19/25\n",
      "204/204 [==============================] - 20s 99ms/step - sparse_categorical_accuracy: 0.9821 - student_loss: 0.1717 - distillation_loss: 3.0797e-05\n",
      "Epoch 20/25\n",
      "204/204 [==============================] - 20s 99ms/step - sparse_categorical_accuracy: 0.9865 - student_loss: 0.1126 - distillation_loss: 2.4216e-05\n",
      "Epoch 21/25\n",
      "204/204 [==============================] - 20s 98ms/step - sparse_categorical_accuracy: 0.9759 - student_loss: 0.2454 - distillation_loss: 4.3764e-05\n",
      "Epoch 22/25\n",
      "204/204 [==============================] - 20s 99ms/step - sparse_categorical_accuracy: 0.9897 - student_loss: 0.0773 - distillation_loss: 1.7427e-05\n",
      "Epoch 23/25\n",
      "204/204 [==============================] - 20s 98ms/step - sparse_categorical_accuracy: 0.9894 - student_loss: 0.0810 - distillation_loss: 1.8715e-05\n",
      "Epoch 24/25\n",
      "204/204 [==============================] - 20s 99ms/step - sparse_categorical_accuracy: 0.9933 - student_loss: 0.0541 - distillation_loss: 1.1995e-05\n",
      "Epoch 25/25\n",
      "204/204 [==============================] - 20s 98ms/step - sparse_categorical_accuracy: 0.9887 - student_loss: 0.0944 - distillation_loss: 1.9936e-05\n",
      "3365\n",
      "Epoch 1/25\n",
      "204/204 [==============================] - 23s 98ms/step - sparse_categorical_accuracy: 0.7286 - student_loss: 2.7407 - distillation_loss: 1.2104e-04\n",
      "Epoch 2/25\n"
     ]
    },
    {
     "name": "stdout",
     "output_type": "stream",
     "text": [
      "204/204 [==============================] - 20s 98ms/step - sparse_categorical_accuracy: 0.8544 - student_loss: 1.1808 - distillation_loss: 6.4027e-05\n",
      "Epoch 3/25\n",
      "204/204 [==============================] - 20s 98ms/step - sparse_categorical_accuracy: 0.9004 - student_loss: 0.8215 - distillation_loss: 4.4456e-05\n",
      "Epoch 4/25\n",
      "204/204 [==============================] - 20s 98ms/step - sparse_categorical_accuracy: 0.9362 - student_loss: 0.3891 - distillation_loss: 2.7736e-05\n",
      "Epoch 5/25\n",
      "204/204 [==============================] - 20s 98ms/step - sparse_categorical_accuracy: 0.9487 - student_loss: 0.3144 - distillation_loss: 2.2244e-05\n",
      "Epoch 6/25\n",
      "204/204 [==============================] - 20s 98ms/step - sparse_categorical_accuracy: 0.9621 - student_loss: 0.2394 - distillation_loss: 1.6400e-05\n",
      "Epoch 7/25\n",
      "204/204 [==============================] - 20s 98ms/step - sparse_categorical_accuracy: 0.9683 - student_loss: 0.1836 - distillation_loss: 1.3207e-05\n",
      "Epoch 8/25\n",
      "204/204 [==============================] - 20s 98ms/step - sparse_categorical_accuracy: 0.9597 - student_loss: 0.2689 - distillation_loss: 1.7469e-05\n",
      "Epoch 9/25\n",
      "204/204 [==============================] - 20s 98ms/step - sparse_categorical_accuracy: 0.9638 - student_loss: 0.2661 - distillation_loss: 1.5634e-05\n",
      "Epoch 10/25\n",
      "204/204 [==============================] - 20s 98ms/step - sparse_categorical_accuracy: 0.9700 - student_loss: 0.2137 - distillation_loss: 1.3553e-05\n",
      "Epoch 11/25\n",
      "204/204 [==============================] - 20s 98ms/step - sparse_categorical_accuracy: 0.9733 - student_loss: 0.2012 - distillation_loss: 1.1714e-05\n",
      "Epoch 12/25\n",
      "204/204 [==============================] - 20s 98ms/step - sparse_categorical_accuracy: 0.9764 - student_loss: 0.1575 - distillation_loss: 1.0325e-05\n",
      "Epoch 13/25\n",
      "204/204 [==============================] - 20s 98ms/step - sparse_categorical_accuracy: 0.9805 - student_loss: 0.1189 - distillation_loss: 8.1827e-06\n",
      "Epoch 14/25\n",
      "204/204 [==============================] - 20s 98ms/step - sparse_categorical_accuracy: 0.9775 - student_loss: 0.1757 - distillation_loss: 9.8177e-06\n",
      "Epoch 15/25\n",
      "204/204 [==============================] - 20s 98ms/step - sparse_categorical_accuracy: 0.9759 - student_loss: 0.1999 - distillation_loss: 1.0656e-05\n",
      "Epoch 16/25\n",
      "204/204 [==============================] - 20s 98ms/step - sparse_categorical_accuracy: 0.9775 - student_loss: 0.1806 - distillation_loss: 9.9808e-06\n",
      "Epoch 17/25\n",
      "204/204 [==============================] - 20s 98ms/step - sparse_categorical_accuracy: 0.9648 - student_loss: 0.3647 - distillation_loss: 1.5513e-05\n",
      "Epoch 18/25\n",
      "204/204 [==============================] - 20s 98ms/step - sparse_categorical_accuracy: 0.9758 - student_loss: 0.2284 - distillation_loss: 1.0888e-05\n",
      "Epoch 19/25\n",
      "204/204 [==============================] - 20s 98ms/step - sparse_categorical_accuracy: 0.9877 - student_loss: 0.1106 - distillation_loss: 5.4992e-06\n",
      "Epoch 20/25\n",
      "204/204 [==============================] - 20s 99ms/step - sparse_categorical_accuracy: 0.9710 - student_loss: 0.3572 - distillation_loss: 1.3293e-05\n",
      "Epoch 21/25\n",
      "204/204 [==============================] - 20s 98ms/step - sparse_categorical_accuracy: 0.9821 - student_loss: 0.1762 - distillation_loss: 8.4352e-06\n",
      "Epoch 22/25\n",
      "204/204 [==============================] - 20s 98ms/step - sparse_categorical_accuracy: 0.9752 - student_loss: 0.3302 - distillation_loss: 1.1183e-05\n",
      "Epoch 23/25\n",
      "204/204 [==============================] - 20s 98ms/step - sparse_categorical_accuracy: 0.9867 - student_loss: 0.1131 - distillation_loss: 5.9633e-06\n",
      "Epoch 24/25\n",
      "204/204 [==============================] - 20s 98ms/step - sparse_categorical_accuracy: 0.9894 - student_loss: 0.0907 - distillation_loss: 4.5276e-06\n",
      "Epoch 25/25\n",
      "204/204 [==============================] - 20s 98ms/step - sparse_categorical_accuracy: 0.9796 - student_loss: 0.2090 - distillation_loss: 9.0196e-06\n",
      "3365\n",
      "Epoch 1/25\n",
      "204/204 [==============================] - 23s 98ms/step - sparse_categorical_accuracy: 0.7248 - student_loss: 3.2333 - distillation_loss: 3.1428e-05\n",
      "Epoch 2/25\n",
      "204/204 [==============================] - 21s 101ms/step - sparse_categorical_accuracy: 0.8405 - student_loss: 1.3727 - distillation_loss: 1.7691e-05\n",
      "Epoch 3/25\n",
      "204/204 [==============================] - 20s 97ms/step - sparse_categorical_accuracy: 0.9038 - student_loss: 0.7326 - distillation_loss: 1.0356e-05\n",
      "Epoch 4/25\n",
      "204/204 [==============================] - 20s 97ms/step - sparse_categorical_accuracy: 0.9335 - student_loss: 0.4342 - distillation_loss: 7.0425e-06\n",
      "Epoch 5/25\n",
      "204/204 [==============================] - 20s 97ms/step - sparse_categorical_accuracy: 0.9494 - student_loss: 0.3057 - distillation_loss: 5.4358e-06\n",
      "Epoch 6/25\n",
      "204/204 [==============================] - 20s 97ms/step - sparse_categorical_accuracy: 0.9572 - student_loss: 0.2418 - distillation_loss: 4.5157e-06\n",
      "Epoch 7/25\n",
      "204/204 [==============================] - 20s 98ms/step - sparse_categorical_accuracy: 0.9674 - student_loss: 0.1811 - distillation_loss: 3.4288e-06\n",
      "Epoch 8/25\n",
      "204/204 [==============================] - 20s 97ms/step - sparse_categorical_accuracy: 0.9554 - student_loss: 0.3167 - distillation_loss: 4.8168e-06\n",
      "Epoch 9/25\n",
      "204/204 [==============================] - 20s 97ms/step - sparse_categorical_accuracy: 0.9615 - student_loss: 0.2657 - distillation_loss: 3.9607e-06\n",
      "Epoch 10/25\n",
      "204/204 [==============================] - 20s 97ms/step - sparse_categorical_accuracy: 0.9718 - student_loss: 0.1812 - distillation_loss: 2.9867e-06\n",
      "Epoch 11/25\n",
      "204/204 [==============================] - 20s 97ms/step - sparse_categorical_accuracy: 0.9720 - student_loss: 0.1935 - distillation_loss: 2.9662e-06\n",
      "Epoch 12/25\n",
      "204/204 [==============================] - 20s 97ms/step - sparse_categorical_accuracy: 0.9796 - student_loss: 0.1292 - distillation_loss: 2.1386e-06\n",
      "Epoch 13/25\n",
      "204/204 [==============================] - 20s 97ms/step - sparse_categorical_accuracy: 0.9723 - student_loss: 0.2250 - distillation_loss: 3.1282e-06\n",
      "Epoch 14/25\n",
      "204/204 [==============================] - 20s 97ms/step - sparse_categorical_accuracy: 0.9729 - student_loss: 0.2156 - distillation_loss: 2.9947e-06\n",
      "Epoch 15/25\n",
      "204/204 [==============================] - 20s 97ms/step - sparse_categorical_accuracy: 0.9729 - student_loss: 0.2202 - distillation_loss: 2.8962e-06\n",
      "Epoch 16/25\n",
      "204/204 [==============================] - 20s 97ms/step - sparse_categorical_accuracy: 0.9799 - student_loss: 0.1329 - distillation_loss: 2.0846e-06\n",
      "Epoch 17/25\n",
      "204/204 [==============================] - 20s 97ms/step - sparse_categorical_accuracy: 0.9850 - student_loss: 0.1120 - distillation_loss: 1.6271e-06\n",
      "Epoch 18/25\n",
      "204/204 [==============================] - 20s 97ms/step - sparse_categorical_accuracy: 0.9880 - student_loss: 0.0887 - distillation_loss: 1.2685e-06\n",
      "Epoch 19/25\n",
      "204/204 [==============================] - 20s 97ms/step - sparse_categorical_accuracy: 0.9801 - student_loss: 0.1765 - distillation_loss: 2.1410e-06\n",
      "Epoch 20/25\n",
      "204/204 [==============================] - 20s 97ms/step - sparse_categorical_accuracy: 0.9744 - student_loss: 0.2811 - distillation_loss: 2.9009e-06\n",
      "Epoch 21/25\n",
      "204/204 [==============================] - 20s 97ms/step - sparse_categorical_accuracy: 0.9773 - student_loss: 0.2161 - distillation_loss: 2.4994e-06\n",
      "Epoch 22/25\n",
      "204/204 [==============================] - 20s 97ms/step - sparse_categorical_accuracy: 0.9834 - student_loss: 0.1552 - distillation_loss: 1.8582e-06\n",
      "Epoch 23/25\n",
      "204/204 [==============================] - 20s 97ms/step - sparse_categorical_accuracy: 0.9833 - student_loss: 0.1428 - distillation_loss: 1.7981e-06\n",
      "Epoch 24/25\n",
      "204/204 [==============================] - 19s 94ms/step - sparse_categorical_accuracy: 0.9772 - student_loss: 0.3077 - distillation_loss: 2.6177e-06\n",
      "Epoch 25/25\n",
      "204/204 [==============================] - 20s 96ms/step - sparse_categorical_accuracy: 0.9847 - student_loss: 0.1453 - distillation_loss: 1.6551e-06\n",
      "3365\n"
     ]
    }
   ],
   "source": [
    "#First Tune T\n",
    "Ts = [1,2,4,16,32,64]\n",
    "student_models = []\n",
    "for T in Ts:\n",
    "    student = student_model()\n",
    "    student_models.append(student)\n",
    "    distiller = Distiller(student = student,teacher = teacher)\n",
    "    distiller.compile(\n",
    "        optimizer = tf.keras.optimizers.Adam(learning_rate = LEARNING_RATE_STUDENT_KD),\n",
    "        metrics = [keras.metrics.SparseCategoricalAccuracy()],\n",
    "        student_loss_fn = keras.losses.SparseCategoricalCrossentropy(),\n",
    "        distillation_loss_fn = keras.losses.KLDivergence(),\n",
    "        alpha = 0.5,\n",
    "        temperature = T\n",
    "    )\n",
    "    distiller.fit(train_images_normalized,train_labels_encoded,epochs = FINE_TUNE_EPOCHS)\n",
    "    reset_keras()"
   ]
  },
  {
   "cell_type": "code",
   "execution_count": 30,
   "id": "921fab08",
   "metadata": {},
   "outputs": [
    {
     "name": "stdout",
     "output_type": "stream",
     "text": [
      "62/62 [==============================] - 2s 24ms/step\n",
      "807\n",
      "62/62 [==============================] - 2s 25ms/step\n",
      "801\n",
      "62/62 [==============================] - 2s 25ms/step\n",
      "801\n",
      "62/62 [==============================] - 2s 25ms/step\n",
      "801\n",
      "62/62 [==============================] - 2s 25ms/step\n",
      "801\n",
      "62/62 [==============================] - 2s 25ms/step\n",
      "801\n"
     ]
    }
   ],
   "source": [
    "student_f1_results = []\n",
    "student_auc_results = []\n",
    "for model in student_models:\n",
    "    y_pred = model.predict(test_images_normalized)\n",
    "    y_pred = np.rint(y_pred)\n",
    "    result = np.argmax(y_pred, axis=1)\n",
    "    f1_score_result = metrics.f1_score(test_labels_encoded,result)\n",
    "    auc_score_result = metrics.roc_auc_score(test_labels_encoded,result)\n",
    "    student_f1_results.append(f1_score_result)\n",
    "    student_auc_results.append(auc_score_result)\n",
    "    reset_keras()"
   ]
  },
  {
   "cell_type": "code",
   "execution_count": 31,
   "id": "3b609689",
   "metadata": {},
   "outputs": [
    {
     "name": "stdout",
     "output_type": "stream",
     "text": [
      "[0.5612244897959183, 0.6118935837245696, 0.6452054794520549, 0.5836768342951361, 0.5918203688853247, 0.6090909090909091]\n",
      "[0.6781131820637493, 0.7038616513596255, 0.7180881955699622, 0.6895124257158293, 0.6922305510534845, 0.6989397622906537]\n"
     ]
    }
   ],
   "source": [
    "print(student_f1_results)\n",
    "print(student_auc_results)"
   ]
  },
  {
   "cell_type": "code",
   "execution_count": 36,
   "id": "025b8698",
   "metadata": {
    "scrolled": false
   },
   "outputs": [
    {
     "data": {
      "image/png": "[encoded data removed]",
      "text/plain": [
       "<Figure size 640x480 with 1 Axes>"
      ]
     },
     "metadata": {},
     "output_type": "display_data"
    },
    {
     "data": {
      "image/png": "[encoded data removed]",
      "text/plain": [
       "<Figure size 640x480 with 1 Axes>"
      ]
     },
     "metadata": {},
     "output_type": "display_data"
    }
   ],
   "source": [
    "#plot the result vs Temperature\n",
    "plt.plot(Ts,student_f1_results,label = \"F1 Scores\")\n",
    "plt.xlabel(\"Temperature Value\")\n",
    "plt.ylabel(\"F1 Score\")\n",
    "plt.title(\"F1 Score vs Temperature Value\")\n",
    "plt.show()\n",
    "plt.plot(Ts,student_auc_results, label = \"AUC Scores\")\n",
    "plt.xlabel(\"Temperature Value\")\n",
    "plt.ylabel(\"AUC Score\")\n",
    "plt.title(\"AUC Score vs Temperature Value\")\n",
    "plt.show()"
   ]
  },
  {
   "cell_type": "markdown",
   "id": "efd1f520",
   "metadata": {},
   "source": [
    "## Train and Compare"
   ]
  },
  {
   "cell_type": "code",
   "execution_count": 55,
   "id": "7f9d0c68-b658-4dcf-87a9-1df4c34d2e13",
   "metadata": {},
   "outputs": [
    {
     "name": "stdout",
     "output_type": "stream",
     "text": [
      "Epoch 1/10\n",
      "204/204 [==============================] - 162s 784ms/step - loss: 0.7632 - sparse_categorical_accuracy: 0.7398\n",
      "Epoch 2/10\n",
      "204/204 [==============================] - 162s 793ms/step - loss: 0.2778 - sparse_categorical_accuracy: 0.8838\n",
      "Epoch 3/10\n",
      "204/204 [==============================] - 161s 788ms/step - loss: 0.1254 - sparse_categorical_accuracy: 0.9559\n",
      "Epoch 4/10\n",
      "204/204 [==============================] - 161s 789ms/step - loss: 0.0606 - sparse_categorical_accuracy: 0.9873\n",
      "Epoch 5/10\n",
      "204/204 [==============================] - 161s 787ms/step - loss: 0.0316 - sparse_categorical_accuracy: 0.9985\n",
      "Epoch 6/10\n",
      "204/204 [==============================] - 161s 788ms/step - loss: 0.0201 - sparse_categorical_accuracy: 1.0000\n",
      "Epoch 7/10\n",
      "204/204 [==============================] - 161s 788ms/step - loss: 0.0150 - sparse_categorical_accuracy: 1.0000\n",
      "Epoch 8/10\n",
      "204/204 [==============================] - 161s 788ms/step - loss: 0.0120 - sparse_categorical_accuracy: 1.0000\n",
      "Epoch 9/10\n",
      "204/204 [==============================] - 161s 790ms/step - loss: 0.0099 - sparse_categorical_accuracy: 1.0000\n",
      "Epoch 10/10\n",
      "204/204 [==============================] - 161s 789ms/step - loss: 0.0082 - sparse_categorical_accuracy: 1.0000\n"
     ]
    },
    {
     "data": {
      "text/plain": [
       "<keras.callbacks.History at 0x236c1744790>"
      ]
     },
     "execution_count": 55,
     "metadata": {},
     "output_type": "execute_result"
    }
   ],
   "source": [
    "# teacher model\n",
    "teacher = teacher_model()\n",
    "\n",
    "#student model\n",
    "student = student_model()\n",
    "\n",
    "#Initial Train teacher model, the alpha and temperature will be tuned\n",
    "teacher.compile(\n",
    "    optimizer = tf.keras.optimizers.Adam(learning_rate = LEARNING_RATE_TEACHER),\n",
    "    loss = keras.losses.SparseCategoricalCrossentropy(),\n",
    "    metrics = [keras.metrics.SparseCategoricalAccuracy()]\n",
    ")\n",
    "\n",
    "teacher.fit(train_images_normalized, train_labels_encoded, epochs= INITIAL_EPOCHS)"
   ]
  },
  {
   "cell_type": "code",
   "execution_count": 66,
   "id": "c5d2a8d6-9fec-4439-bc5b-6245999de6fc",
   "metadata": {},
   "outputs": [
    {
     "name": "stdout",
     "output_type": "stream",
     "text": [
      "62/62 [==============================] - 49s 793ms/step\n"
     ]
    }
   ],
   "source": [
    "y_pred = teacher.predict(test_images_normalized)\n",
    "y_pred = np.rint(y_pred)"
   ]
  },
  {
   "cell_type": "code",
   "execution_count": 68,
   "id": "4e3fb3b8",
   "metadata": {},
   "outputs": [
    {
     "name": "stdout",
     "output_type": "stream",
     "text": [
      "Teacher Model Initial f1 score: 0.6506746626686656\n",
      "Teacher Model Initial AUC score: 0.7284553394561498\n"
     ]
    }
   ],
   "source": [
    "result = np.argmax(y_pred,axis= 1)\n",
    "f1_score_result = metrics.f1_score(test_labels_encoded, result)\n",
    "print(\"Teacher Model Initial f1 score: {}\".format(f1_score_result))\n",
    "auc_score_result = metrics.roc_auc_score(test_labels_encoded,result)\n",
    "print(\"Teacher Model Initial AUC score: {}\".format(auc_score_result))"
   ]
  },
  {
   "cell_type": "code",
   "execution_count": 65,
   "id": "5489f15e",
   "metadata": {},
   "outputs": [
    {
     "name": "stdout",
     "output_type": "stream",
     "text": [
      "Epoch 1/10\n",
      "204/204 [==============================] - 206s 997ms/step - sparse_categorical_accuracy: 0.7248 - student_loss: 2.9596 - distillation_loss: 0.0078\n",
      "Epoch 2/10\n",
      "204/204 [==============================] - 202s 992ms/step - sparse_categorical_accuracy: 0.8547 - student_loss: 1.2475 - distillation_loss: 0.0041\n",
      "Epoch 3/10\n",
      "204/204 [==============================] - 201s 984ms/step - sparse_categorical_accuracy: 0.9148 - student_loss: 0.5400 - distillation_loss: 0.0023\n",
      "Epoch 4/10\n",
      "204/204 [==============================] - 203s 997ms/step - sparse_categorical_accuracy: 0.9399 - student_loss: 0.3862 - distillation_loss: 0.0016\n",
      "Epoch 5/10\n",
      "204/204 [==============================] - 202s 988ms/step - sparse_categorical_accuracy: 0.9453 - student_loss: 0.3590 - distillation_loss: 0.0015\n",
      "Epoch 6/10\n",
      "204/204 [==============================] - 204s 1s/step - sparse_categorical_accuracy: 0.9548 - student_loss: 0.3096 - distillation_loss: 0.0012\n",
      "Epoch 7/10\n",
      "204/204 [==============================] - 210s 1s/step - sparse_categorical_accuracy: 0.9637 - student_loss: 0.2035 - distillation_loss: 9.8240e-04\n",
      "Epoch 8/10\n",
      "204/204 [==============================] - 203s 997ms/step - sparse_categorical_accuracy: 0.9554 - student_loss: 0.3356 - distillation_loss: 0.0012\n",
      "Epoch 9/10\n",
      "204/204 [==============================] - 205s 1s/step - sparse_categorical_accuracy: 0.9720 - student_loss: 0.1969 - distillation_loss: 7.6430e-04\n",
      "Epoch 10/10\n",
      "204/204 [==============================] - 202s 992ms/step - sparse_categorical_accuracy: 0.9784 - student_loss: 0.1321 - distillation_loss: 5.7042e-04\n"
     ]
    },
    {
     "data": {
      "text/plain": [
       "<keras.callbacks.History at 0x236c2dbd6d0>"
      ]
     },
     "execution_count": 65,
     "metadata": {},
     "output_type": "execute_result"
    }
   ],
   "source": [
    "distiller = Distiller(student=student, teacher=teacher)\n",
    "#use the default alpha and temperature for initial training\n",
    "distiller.compile(\n",
    "    optimizer = tf.keras.optimizers.Adam(learning_rate = LEARNING_RATE_STUDENT_KD),\n",
    "    metrics = [keras.metrics.SparseCategoricalAccuracy()],\n",
    "    student_loss_fn = keras.losses.SparseCategoricalCrossentropy(),\n",
    "    distillation_loss_fn = keras.losses.KLDivergence(),\n",
    "    alpha = 0.5,\n",
    "    temperature = 4\n",
    ")\n",
    "distiller.fit(train_images_normalized,train_labels_encoded,epochs = INITIAL_EPOCHS)\n"
   ]
  },
  {
   "cell_type": "code",
   "execution_count": 69,
   "id": "15b3fb94",
   "metadata": {},
   "outputs": [
    {
     "name": "stdout",
     "output_type": "stream",
     "text": [
      "62/62 [==============================] - 20s 316ms/step\n"
     ]
    }
   ],
   "source": [
    "y_pred = student.predict(test_images_normalized)\n",
    "y_pred = np.rint(y_pred)"
   ]
  },
  {
   "cell_type": "code",
   "execution_count": 71,
   "id": "eedc4c97",
   "metadata": {},
   "outputs": [
    {
     "name": "stdout",
     "output_type": "stream",
     "text": [
      "Student Model Initial f1 score: 0.656111462951235\n",
      "Student Model Initial AUC score: 0.7215536646857554\n"
     ]
    }
   ],
   "source": [
    "result = np.argmax(y_pred,axis = 1)\n",
    "f1_score_result = metrics.f1_score(test_labels_encoded, result)\n",
    "print(\"Student Model Initial f1 score: {}\".format(f1_score_result))\n",
    "auc_score_result = metrics.roc_auc_score(test_labels_encoded,result)\n",
    "print(\"Student Model Initial AUC score: {}\".format(auc_score_result))"
   ]
  },
  {
   "cell_type": "code",
   "execution_count": null,
   "id": "cbf9f6f0",
   "metadata": {},
   "outputs": [],
   "source": []
  }
 ],
 "metadata": {
  "kernelspec": {
   "display_name": "Python 3 (ipykernel)",
   "language": "python",
   "name": "python3"
  },
  "language_info": {
   "codemirror_mode": {
    "name": "ipython",
    "version": 3
   },
   "file_extension": ".py",
   "mimetype": "text/x-python",
   "name": "python",
   "nbconvert_exporter": "python",
   "pygments_lexer": "ipython3",
   "version": "3.9.13"
  }
 },
 "nbformat": 4,
 "nbformat_minor": 5
}
