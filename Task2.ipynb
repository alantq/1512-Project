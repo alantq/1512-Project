{
 "cells": [
  {
   "cell_type": "code",
   "execution_count": null,
   "id": "c010c20e-d257-490c-a85c-b5d0f81104aa",
   "metadata": {},
   "outputs": [],
   "source": [
    "#import block\n",
    "\n",
    "import tensorflow.compat.v2 as tf\n",
    "import tensorflow_datasets as tfds\n",
    "from typing import Union\n",
    "import matplotlib.pyplot as plt\n",
    "from keras_flops import get_flops\n",
    "import pandas as pd\n",
    "#ResNet Resource\n",
    "#https://medium.com/@kenneth.ca95/a-guide-to-transfer-learning-with-keras-using-resnet50-a81a4a28084b\n",
    "import tensorflow.keras as K\n",
    "\n",
    "\n",
    "tf.enable_v2_behavior()"
   ]
  },
  {
   "cell_type": "markdown",
   "id": "5cb79cd6-3c55-4748-b1e8-89b277abb276",
   "metadata": {},
   "source": [
    "# Load Data"
   ]
  },
  {
   "cell_type": "code",
   "execution_count": null,
   "id": "8bb94ecf-4d0f-45b1-8217-e92386dd8bb7",
   "metadata": {},
   "outputs": [],
   "source": []
  },
  {
   "cell_type": "markdown",
   "id": "7c5ddb77-3e74-4b92-8f17-2592af56a7ae",
   "metadata": {},
   "source": [
    "# Create Model"
   ]
  },
  {
   "cell_type": "code",
   "execution_count": null,
   "id": "15b7fafc-5cb8-49b1-b575-8e9e8a05c721",
   "metadata": {},
   "outputs": [],
   "source": []
  }
 ],
 "metadata": {
  "kernelspec": {
   "display_name": "Python 3 (ipykernel)",
   "language": "python",
   "name": "python3"
  },
  "language_info": {
   "codemirror_mode": {
    "name": "ipython",
    "version": 3
   },
   "file_extension": ".py",
   "mimetype": "text/x-python",
   "name": "python",
   "nbconvert_exporter": "python",
   "pygments_lexer": "ipython3",
   "version": "3.9.12"
  }
 },
 "nbformat": 4,
 "nbformat_minor": 5
}
